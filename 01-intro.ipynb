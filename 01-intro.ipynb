{
 "cells": [
  {
   "cell_type": "markdown",
   "metadata": {},
   "source": [
    "# Aula 01 - Introdução ao R\n",
    "\n",
    "Material adaptado do original em inglês disponível em https://gupsych.github.io/data_skills/01_intro.html\n",
    "\n",
    "## 1.1. Objetivos\n",
    "\n",
    "Ao final da aula o aluno deverá aprender a:\n",
    "\n",
    "* Trabalhar com o console R ou com o kernel da Linguagem R para os notebooks do jupyter;\n",
    "* Aprender a executar comandos básicos na linguagem R:\n",
    "    * Operações matemáticas;\n",
    "    * Utilização de variáveis;\n",
    "    * Sintaxe básica e funções.\n",
    "* Instalar e utilizar pacotes;\n",
    "* Criar e estruturar um script em R.\n",
    "\n",
    "## 1.2. Recursos\n",
    "\n",
    "* Para melhor aproveitamento da aula recomenda-se a leitura prévia do [Capítulo 1: Introdução](https://r4ds.had.co.nz/introduction.html) do Livro _R for Data Science_"
   ]
  },
  {
   "cell_type": "markdown",
   "metadata": {},
   "source": [
    "## 1.3. O que é a linguagem R?\n",
    "\n",
    "Surgida comou uma extensão da [Linguagem S](https://en.wikipedia.org/wiki/S_(programming_language)) desenvolvida nos laboratórios Bell dos Estados Unidos, a linguagem R tem como foco a estatística, seja na construção de gráfico ou no cálculo computacional. Algumas características da linguagem:\n",
    "\n",
    "* Software Livre;\n",
    "* Comunidade bastante atuante (CRAN);\n",
    "* Evolução contínua;\n",
    "* Reprodutibilidade dos resultados das pesquisas (Metodologia Científica).\n",
    "\n",
    "### 1.3.1. Console básico\n",
    "\n",
    "O ambiente de execução elementar da linguagem R (_Base R_) consiste no seu interpretador, que é do tipo _Read Evaluate Print Loop_ (REPL). Nesse tipo de ambiente os resultados dos comandos são apresentados logo após a execução. \n",
    "\n",
    "A Figura abaixo apresenta um terminal básico de R com suas entradas e saídas:\n",
    "\n",
    "![Imagem de um terminal básico de R](images/r-console.png \"Console R\")\n",
    "\n",
    "### 1.3.2. Jupyter notebook\n",
    "\n",
    "Essa aula e as próximas utilizarão o ambiente de execução do R para Jupyter notebook. Caso queira configurar seu ambiente, é possível encontrar instruções de como habilitar o [kernel do R (IRKernel) no Jupyter notebook](https://irkernel.github.io/installation/)."
   ]
  },
  {
   "cell_type": "code",
   "execution_count": 1,
   "metadata": {},
   "outputs": [],
   "source": [
    "home <- path.expand(\"~\")\n",
    "lib_dir <- file.path(file.path(home, \"R\"), \"lib\")\n",
    "dir.create(lib_dir, showWarnings = FALSE)\n",
    "\n",
    "library(utils)\n",
    ".libPaths(c(lib_dir, .libPaths()))"
   ]
  },
  {
   "cell_type": "markdown",
   "metadata": {},
   "source": [
    "## 1.4. Executando comandos\n",
    "\n",
    "Vamos começar os exercícios aprendendo como interagir com o terminal e com o jupyter notebook.  É possível imaginar o terminal como um ambiente de testes para comandos elementares, que depois poderão ser reaproveitados na construção do script completo. Um notebook terá, idealmente, um resultado completo, como será abordado mais a frente no curso.\n",
    "\n",
    "### 1.4.1. Utilizando o R como uma calculadora elementar\n",
    "\n",
    "Vamos começar os exercícios realizando algumas operações aritméticas simples."
   ]
  },
  {
   "cell_type": "code",
   "execution_count": 2,
   "metadata": {},
   "outputs": [
    {
     "data": {
      "text/html": [
       "2"
      ],
      "text/latex": [
       "2"
      ],
      "text/markdown": [
       "2"
      ],
      "text/plain": [
       "[1] 2"
      ]
     },
     "metadata": {},
     "output_type": "display_data"
    }
   ],
   "source": [
    "## REPL: Read/Evaluate/Print Loop\n",
    "## R prints results back at you\n",
    "1 + 1"
   ]
  },
  {
   "cell_type": "markdown",
   "metadata": {},
   "source": [
    "É possível quebrar expressões matemáticas em múltiplas linhas; o R sempre espera uma expressão completa antes do processamento."
   ]
  },
  {
   "cell_type": "code",
   "execution_count": 3,
   "metadata": {},
   "outputs": [
    {
     "data": {
      "text/html": [
       "55"
      ],
      "text/latex": [
       "55"
      ],
      "text/markdown": [
       "55"
      ],
      "text/plain": [
       "[1] 55"
      ]
     },
     "metadata": {},
     "output_type": "display_data"
    }
   ],
   "source": [
    "## here comes a long expression\n",
    "## let's break it over multiple lines\n",
    "1 + 2 + 3 + 4 + 5 + 6 +\n",
    "    7 + 8 + 9 +\n",
    "    10"
   ]
  },
  {
   "cell_type": "markdown",
   "metadata": {},
   "source": [
    "Textos entre parênteses são chamados de strings"
   ]
  },
  {
   "cell_type": "code",
   "execution_count": 4,
   "metadata": {},
   "outputs": [
    {
     "data": {
      "text/html": [
       "'Good afternoon'"
      ],
      "text/latex": [
       "'Good afternoon'"
      ],
      "text/markdown": [
       "'Good afternoon'"
      ],
      "text/plain": [
       "[1] \"Good afternoon\""
      ]
     },
     "metadata": {},
     "output_type": "display_data"
    }
   ],
   "source": [
    "\"Good afternoon\""
   ]
  },
  {
   "cell_type": "markdown",
   "metadata": {},
   "source": [
    "É possível quebrar um texto entre múltiplas linhas; R espera uma outra aspa dupla antes de processar a expressão. Se quiser utilizar uma aspa dupla entre parênteses utiliza a contrabarra."
   ]
  },
  {
   "cell_type": "code",
   "execution_count": 4,
   "metadata": {},
   "outputs": [
    {
     "name": "stdout",
     "output_type": "stream",
     "text": [
      "I hear the drums echoing tonight  \n",
      "But she hears only whispers of some quiet conversation  \n",
      "She's coming in, 12:30 flight  \n",
      "The moonlit wings reflect the stars that guide me towards salvation  \n",
      "I stopped an old man along the way  \n",
      "Hoping to find some old forgotten words or ancient melodies  \n",
      "He turned to me as if to say, \"Hurry boy, it's waiting there for you\"\n",
      "\n",
      "- Toto"
     ]
    }
   ],
   "source": [
    "africa <- \"I hear the drums echoing tonight  \n",
    "But she hears only whispers of some quiet conversation  \n",
    "She's coming in, 12:30 flight  \n",
    "The moonlit wings reflect the stars that guide me towards salvation  \n",
    "I stopped an old man along the way  \n",
    "Hoping to find some old forgotten words or ancient melodies  \n",
    "He turned to me as if to say, \\\"Hurry boy, it's waiting there for you\\\"\n",
    "\n",
    "- Toto\"\n",
    "\n",
    "cat(africa) # cat() prints the string"
   ]
  },
  {
   "cell_type": "markdown",
   "metadata": {},
   "source": [
    "Os comentários utilizam o símbolo _#_ e podem estar no começo ou no meio da linha."
   ]
  },
  {
   "cell_type": "code",
   "execution_count": 5,
   "metadata": {},
   "outputs": [
    {
     "data": {
      "text/html": [
       "3.14285714285714"
      ],
      "text/latex": [
       "3.14285714285714"
      ],
      "text/markdown": [
       "3.14285714285714"
      ],
      "text/plain": [
       "[1] 3.142857"
      ]
     },
     "metadata": {},
     "output_type": "display_data"
    }
   ],
   "source": [
    "## comments: any text from '#' on is ignored until end of line\n",
    "22 / 7  # approximation to pi"
   ]
  },
  {
   "cell_type": "markdown",
   "metadata": {},
   "source": [
    "### 1.4.2. Variáveis\n",
    "\n",
    "Para armazenar os resultados das operações é possível a utilização de variáveis. Algumas considerações importantes quando estiver dando nome às variáveis:\n",
    "\n",
    "* Letras maiúsculas e minúsculas importam (`myvar` é uma variável diferente de `myVar`);\n",
    "* Não utilize espaços ou caracteres especiais `(^&\"'*+?)`; sempre que quiser representar um espaço utiliza o símbolo `_` (`my_var` é um nome válido para a variável);\n",
    "* Deve começar com letras (`m2` é um nome válido, mas `2m` não é).\n",
    "\n",
    "Utilize o operador de atribuição `<-` para atribuir o valor à direita para a variável à esquerda."
   ]
  },
  {
   "cell_type": "code",
   "execution_count": 6,
   "metadata": {},
   "outputs": [],
   "source": [
    "## use the assignment operator '<-'\n",
    "## R stores the number in the variable\n",
    "x <- 5"
   ]
  },
  {
   "cell_type": "markdown",
   "metadata": {},
   "source": [
    "Agora que armazenamos um valor na variável `x` é possível utilizá-la."
   ]
  },
  {
   "cell_type": "code",
   "execution_count": 8,
   "metadata": {},
   "outputs": [
    {
     "data": {
      "text/html": [
       "10"
      ],
      "text/latex": [
       "10"
      ],
      "text/markdown": [
       "10"
      ],
      "text/plain": [
       "[1] 10"
      ]
     },
     "metadata": {},
     "output_type": "display_data"
    }
   ],
   "source": [
    "x * 2"
   ]
  },
  {
   "cell_type": "code",
   "execution_count": 8,
   "metadata": {},
   "outputs": [],
   "source": [
    "## R evaluates the expression and stores the result in the variable\n",
    "boring_calculation <- 2 + 2"
   ]
  },
  {
   "cell_type": "markdown",
   "metadata": {},
   "source": [
    "Note que o resultado não é impresso, já que está armazenado em uma variável. Para ver o resultado, simplesmente digite seu nome:"
   ]
  },
  {
   "cell_type": "code",
   "execution_count": 9,
   "metadata": {},
   "outputs": [
    {
     "data": {
      "text/html": [
       "4"
      ],
      "text/latex": [
       "4"
      ],
      "text/markdown": [
       "4"
      ],
      "text/plain": [
       "[1] 4"
      ]
     },
     "metadata": {},
     "output_type": "display_data"
    }
   ],
   "source": [
    "boring_calculation"
   ]
  },
  {
   "cell_type": "markdown",
   "metadata": {},
   "source": [
    "Uma vez que um valor é atribuído à variável, só será alterado se houver uma nova atribuição, ainda que a operação tenha sido um resultado combinado de outras variáveis."
   ]
  },
  {
   "cell_type": "code",
   "execution_count": 11,
   "metadata": {},
   "outputs": [
    {
     "data": {
      "text/html": [
       "2020"
      ],
      "text/latex": [
       "2020"
      ],
      "text/markdown": [
       "2020"
      ],
      "text/plain": [
       "[1] 2020"
      ]
     },
     "metadata": {},
     "output_type": "display_data"
    },
    {
     "data": {
      "text/html": [
       "43"
      ],
      "text/latex": [
       "43"
      ],
      "text/markdown": [
       "43"
      ],
      "text/plain": [
       "[1] 43"
      ]
     },
     "metadata": {},
     "output_type": "display_data"
    }
   ],
   "source": [
    "this_year <- 2019\n",
    "my_birth_year <- 1976\n",
    "my_age <- this_year - my_birth_year\n",
    "this_year <- 2020\n",
    "\n",
    "this_year\n",
    "my_age"
   ]
  },
  {
   "cell_type": "markdown",
   "metadata": {},
   "source": [
    "### 1.4.3. Ambiente\n",
    "\n",
    "Sempre que atribuir um valor à uma nova variável, o R cria um novo objeto no ambiente global. Os objetos definidos no escopo global existem somente até o final da sessão; contudo, quando a sessão for finalizada, eles desaprecem para sempre."
   ]
  },
  {
   "cell_type": "code",
   "execution_count": 12,
   "metadata": {},
   "outputs": [
    {
     "data": {
      "text/html": [
       "<ol class=list-inline>\n",
       "\t<li>'africa'</li>\n",
       "\t<li>'boring_calculation'</li>\n",
       "\t<li>'home'</li>\n",
       "\t<li>'lib_dir'</li>\n",
       "\t<li>'my_age'</li>\n",
       "\t<li>'my_birth_year'</li>\n",
       "\t<li>'this_year'</li>\n",
       "\t<li>'x'</li>\n",
       "</ol>\n"
      ],
      "text/latex": [
       "\\begin{enumerate*}\n",
       "\\item 'africa'\n",
       "\\item 'boring\\_calculation'\n",
       "\\item 'home'\n",
       "\\item 'lib\\_dir'\n",
       "\\item 'my\\_age'\n",
       "\\item 'my\\_birth\\_year'\n",
       "\\item 'this\\_year'\n",
       "\\item 'x'\n",
       "\\end{enumerate*}\n"
      ],
      "text/markdown": [
       "1. 'africa'\n",
       "2. 'boring_calculation'\n",
       "3. 'home'\n",
       "4. 'lib_dir'\n",
       "5. 'my_age'\n",
       "6. 'my_birth_year'\n",
       "7. 'this_year'\n",
       "8. 'x'\n",
       "\n",
       "\n"
      ],
      "text/plain": [
       "[1] \"africa\"             \"boring_calculation\" \"home\"              \n",
       "[4] \"lib_dir\"            \"my_age\"             \"my_birth_year\"     \n",
       "[7] \"this_year\"          \"x\"                 "
      ]
     },
     "metadata": {},
     "output_type": "display_data"
    }
   ],
   "source": [
    "ls()            # print the variables in the global environment\n",
    "rm(\"x\")         # remove the variable named x from the global environment\n",
    "rm(list = ls()) # clear out the global environment"
   ]
  },
  {
   "cell_type": "code",
   "execution_count": 13,
   "metadata": {},
   "outputs": [
    {
     "ename": "ERROR",
     "evalue": "Error in eval(expr, envir, enclos): objeto 'x' não encontrado\n",
     "output_type": "error",
     "traceback": [
      "Error in eval(expr, envir, enclos): objeto 'x' não encontrado\nTraceback:\n"
     ]
    }
   ],
   "source": [
    "x"
   ]
  },
  {
   "cell_type": "markdown",
   "metadata": {},
   "source": [
    "### 1.4.4. Espaços em branco\n",
    "\n",
    "o comando só é finalizado quando a expressão for concluída"
   ]
  },
  {
   "cell_type": "code",
   "execution_count": 14,
   "metadata": {},
   "outputs": [
    {
     "data": {
      "text/html": [
       "25"
      ],
      "text/latex": [
       "25"
      ],
      "text/markdown": [
       "25"
      ],
      "text/plain": [
       "[1] 25"
      ]
     },
     "metadata": {},
     "output_type": "display_data"
    }
   ],
   "source": [
    "# R waits until next line for evaluation\n",
    "(3 + 2) *\n",
    "     5"
   ]
  },
  {
   "cell_type": "markdown",
   "metadata": {},
   "source": [
    "Também pode ser útil quebrar funções muito longas em muitas linhas."
   ]
  },
  {
   "cell_type": "code",
   "execution_count": 15,
   "metadata": {},
   "outputs": [
    {
     "name": "stdout",
     "output_type": "stream",
     "text": [
      "3, 6, 9, the goose drank wine  \n",
      "The monkey chewed tobacco on the streetcar line  \n",
      "The line broke, the monkey got choked  \n",
      "And they all went to heaven in a little rowboat\n"
     ]
    }
   ],
   "source": [
    "cat(\"3, 6, 9, the goose drank wine\",\n",
    "    \"The monkey chewed tobacco on the streetcar line\",\n",
    "    \"The line broke, the monkey got choked\",\n",
    "    \"And they all went to heaven in a little rowboat\",\n",
    "    sep = \"  \\n\")"
   ]
  },
  {
   "cell_type": "code",
   "execution_count": 10,
   "metadata": {},
   "outputs": [
    {
     "name": "stderr",
     "output_type": "stream",
     "text": [
      "Installing package into 'C:/Users/lmarc/Documents/R/lib'\n",
      "(as 'lib' is unspecified)\n",
      "\n",
      "also installing the dependencies 'fortunes', 'rmsfact'\n",
      "\n",
      "\n"
     ]
    },
    {
     "name": "stdout",
     "output_type": "stream",
     "text": [
      "package 'fortunes' successfully unpacked and MD5 sums checked\n",
      "package 'rmsfact' successfully unpacked and MD5 sums checked\n",
      "package 'cowsay' successfully unpacked and MD5 sums checked\n",
      "\n",
      "The downloaded binary packages are in\n",
      "\tC:\\Users\\lmarc\\AppData\\Local\\Temp\\RtmpWqkgi8\\downloaded_packages\n"
     ]
    },
    {
     "name": "stderr",
     "output_type": "stream",
     "text": [
      "Warning message:\n",
      "\"package 'cowsay' was built under R version 3.6.2\"\n"
     ]
    },
    {
     "ename": "ERROR",
     "evalue": "Error: If you're on Windows, you can't use:\nanxiouscat\nfish\ngrumpycat\nlongcat\nlongtailcat\nmushroom\nshortcat\nsignbunny\nstretchycat\n",
     "output_type": "error",
     "traceback": [
      "Error: If you're on Windows, you can't use:\nanxiouscat\nfish\ngrumpycat\nlongcat\nlongtailcat\nmushroom\nshortcat\nsignbunny\nstretchycat\nTraceback:\n",
      "1. say(\"This function call is far too wide to fit all on one line\", \n .     \"stretchycat\")",
      "2. get_who(by, length = length)",
      "3. stop(\"If you're on Windows, you can't use:\\n\", paste0(sort(ua), \n .     collapse = \"\\n\"), call. = FALSE)"
     ]
    }
   ],
   "source": [
    "# often useful to spread function arguments over multiple lines\n",
    "install.packages(\"cowsay\")\n",
    "library(cowsay)\n",
    "say(\"This function call is far too wide to fit all on one line\",\n",
    "    \"stretchycat\")"
   ]
  },
  {
   "cell_type": "markdown",
   "metadata": {},
   "source": [
    "### 1.4.5. Sintaxe das funções\n",
    "\n",
    "A principal utilização da linguagem R é chamar uma função para armazenar os resultados. Uma função é um trecho de código reutilizável. Um exemplo é a função `sd` que retorna o desvio padrão para um vetor de números fornecido como entrada. Ex.:\n",
    "\n",
    "`function_name(argument1, argument2 = \"value\")`\n",
    "\n",
    "Os parâmetros em parânteses podem ser nomeados (como `argument1 = 10`) ou seus nomem podem ser ignorados, obedecendo a ordem em que são definidos. \n",
    "\n",
    "Para conhecer os parâmetros da função é possível utilizar o operador `?`."
   ]
  },
  {
   "cell_type": "code",
   "execution_count": 17,
   "metadata": {},
   "outputs": [],
   "source": [
    "?sd"
   ]
  },
  {
   "cell_type": "markdown",
   "metadata": {},
   "source": [
    "As funções podem tanto retornar valores como imprimir resultados diretamente para a saída. Como exemplo utilizaremos a função `rnorm` que gera um conjunto de números para a distribuição normal padrão. Se buscarmos os parâmetros da função (`?rnorm`), encontraremos as seguintes definições:\n",
    "\n",
    "`rnorm(n, mean = 0, sd = 1)`\n",
    "\n",
    "onde `n` é a quantidade de números aleatórios a serem gerados, `mean` é a média da distribuição normal e `sd` seu desvio padrão. Observe, na definição, que o parâmetro `n` é obrigatório:"
   ]
  },
  {
   "cell_type": "code",
   "execution_count": 18,
   "metadata": {},
   "outputs": [
    {
     "ename": "ERROR",
     "evalue": "Error in rnorm(): argumento \"n\" ausente, sem padrão\n",
     "output_type": "error",
     "traceback": [
      "Error in rnorm(): argumento \"n\" ausente, sem padrão\nTraceback:\n",
      "1. rnorm()"
     ]
    }
   ],
   "source": [
    "rnorm()"
   ]
  },
  {
   "cell_type": "markdown",
   "metadata": {},
   "source": [
    "O seguinte exemplo gera 10 números para uma distribuição normal com desvio padrão igual a 0:"
   ]
  },
  {
   "cell_type": "code",
   "execution_count": 19,
   "metadata": {},
   "outputs": [
    {
     "data": {
      "text/html": [
       "<ol class=list-inline>\n",
       "\t<li>-0.0359887889248342</li>\n",
       "\t<li>0.0796482756739888</li>\n",
       "\t<li>0.0919660274467465</li>\n",
       "\t<li>1.78907211817037</li>\n",
       "\t<li>0.324994528058743</li>\n",
       "\t<li>-0.273554411151823</li>\n",
       "\t<li>-0.307559480871665</li>\n",
       "\t<li>-0.164815696492292</li>\n",
       "\t<li>1.11765644966242</li>\n",
       "\t<li>1.14124959796766</li>\n",
       "</ol>\n"
      ],
      "text/latex": [
       "\\begin{enumerate*}\n",
       "\\item -0.0359887889248342\n",
       "\\item 0.0796482756739888\n",
       "\\item 0.0919660274467465\n",
       "\\item 1.78907211817037\n",
       "\\item 0.324994528058743\n",
       "\\item -0.273554411151823\n",
       "\\item -0.307559480871665\n",
       "\\item -0.164815696492292\n",
       "\\item 1.11765644966242\n",
       "\\item 1.14124959796766\n",
       "\\end{enumerate*}\n"
      ],
      "text/markdown": [
       "1. -0.0359887889248342\n",
       "2. 0.0796482756739888\n",
       "3. 0.0919660274467465\n",
       "4. 1.78907211817037\n",
       "5. 0.324994528058743\n",
       "6. -0.273554411151823\n",
       "7. -0.307559480871665\n",
       "8. -0.164815696492292\n",
       "9. 1.11765644966242\n",
       "10. 1.14124959796766\n",
       "\n",
       "\n"
      ],
      "text/plain": [
       " [1] -0.03598879  0.07964828  0.09196603  1.78907212  0.32499453 -0.27355441\n",
       " [7] -0.30755948 -0.16481570  1.11765645  1.14124960"
      ]
     },
     "metadata": {},
     "output_type": "display_data"
    }
   ],
   "source": [
    "rnorm(10)"
   ]
  },
  {
   "cell_type": "markdown",
   "metadata": {},
   "source": [
    "Agora aumentamos a média para 100"
   ]
  },
  {
   "cell_type": "code",
   "execution_count": 20,
   "metadata": {},
   "outputs": [
    {
     "data": {
      "text/html": [
       "<ol class=list-inline>\n",
       "\t<li>99.5043112410992</li>\n",
       "\t<li>101.068123345098</li>\n",
       "\t<li>98.5331534769856</li>\n",
       "\t<li>100.718264427857</li>\n",
       "\t<li>100.586883212142</li>\n",
       "\t<li>98.8913054820593</li>\n",
       "\t<li>100.677940558496</li>\n",
       "\t<li>99.1013968967161</li>\n",
       "\t<li>99.0995156912244</li>\n",
       "\t<li>100.192993596233</li>\n",
       "</ol>\n"
      ],
      "text/latex": [
       "\\begin{enumerate*}\n",
       "\\item 99.5043112410992\n",
       "\\item 101.068123345098\n",
       "\\item 98.5331534769856\n",
       "\\item 100.718264427857\n",
       "\\item 100.586883212142\n",
       "\\item 98.8913054820593\n",
       "\\item 100.677940558496\n",
       "\\item 99.1013968967161\n",
       "\\item 99.0995156912244\n",
       "\\item 100.192993596233\n",
       "\\end{enumerate*}\n"
      ],
      "text/markdown": [
       "1. 99.5043112410992\n",
       "2. 101.068123345098\n",
       "3. 98.5331534769856\n",
       "4. 100.718264427857\n",
       "5. 100.586883212142\n",
       "6. 98.8913054820593\n",
       "7. 100.677940558496\n",
       "8. 99.1013968967161\n",
       "9. 99.0995156912244\n",
       "10. 100.192993596233\n",
       "\n",
       "\n"
      ],
      "text/plain": [
       " [1]  99.50431 101.06812  98.53315 100.71826 100.58688  98.89131 100.67794\n",
       " [8]  99.10140  99.09952 100.19299"
      ]
     },
     "metadata": {},
     "output_type": "display_data"
    }
   ],
   "source": [
    "rnorm(10, 100)"
   ]
  },
  {
   "cell_type": "markdown",
   "metadata": {},
   "source": [
    "Fornecer o nome dos parâmetros de entrada deve produzir o mesmo resultado"
   ]
  },
  {
   "cell_type": "code",
   "execution_count": 21,
   "metadata": {},
   "outputs": [
    {
     "data": {
      "text/html": [
       "<ol class=list-inline>\n",
       "\t<li>99.7071162998942</li>\n",
       "\t<li>99.3530504321757</li>\n",
       "\t<li>99.7010218523281</li>\n",
       "\t<li>100.439401329006</li>\n",
       "\t<li>99.869973425068</li>\n",
       "\t<li>98.0731333083599</li>\n",
       "\t<li>98.5924295043123</li>\n",
       "\t<li>101.516574908685</li>\n",
       "\t<li>100.748212290303</li>\n",
       "\t<li>98.68945167377</li>\n",
       "</ol>\n"
      ],
      "text/latex": [
       "\\begin{enumerate*}\n",
       "\\item 99.7071162998942\n",
       "\\item 99.3530504321757\n",
       "\\item 99.7010218523281\n",
       "\\item 100.439401329006\n",
       "\\item 99.869973425068\n",
       "\\item 98.0731333083599\n",
       "\\item 98.5924295043123\n",
       "\\item 101.516574908685\n",
       "\\item 100.748212290303\n",
       "\\item 98.68945167377\n",
       "\\end{enumerate*}\n"
      ],
      "text/markdown": [
       "1. 99.7071162998942\n",
       "2. 99.3530504321757\n",
       "3. 99.7010218523281\n",
       "4. 100.439401329006\n",
       "5. 99.869973425068\n",
       "6. 98.0731333083599\n",
       "7. 98.5924295043123\n",
       "8. 101.516574908685\n",
       "9. 100.748212290303\n",
       "10. 98.68945167377\n",
       "\n",
       "\n"
      ],
      "text/plain": [
       " [1]  99.70712  99.35305  99.70102 100.43940  99.86997  98.07313  98.59243\n",
       " [8] 101.51657 100.74821  98.68945"
      ]
     },
     "metadata": {},
     "output_type": "display_data"
    }
   ],
   "source": [
    "rnorm(n = 10, mean = 100)"
   ]
  },
  {
   "cell_type": "markdown",
   "metadata": {},
   "source": [
    "Não é necessário fornecer o nome dos parâmetros porque serão processados em ordem. Contudo, é possível chamar utilizando diferentes atributos de ordem utilizando o nome dos parâmetros:"
   ]
  },
  {
   "cell_type": "code",
   "execution_count": 22,
   "metadata": {},
   "outputs": [
    {
     "data": {
      "text/html": [
       "<ol class=list-inline>\n",
       "\t<li>-209.7911271331</li>\n",
       "\t<li>97.620332256539</li>\n",
       "\t<li>67.7553658153226</li>\n",
       "\t<li>-27.4688859769892</li>\n",
       "\t<li>-84.1399457184809</li>\n",
       "\t<li>35.5916914472778</li>\n",
       "\t<li>193.958743678559</li>\n",
       "\t<li>31.1123369066628</li>\n",
       "\t<li>-34.3720670618713</li>\n",
       "\t<li>-178.273708581653</li>\n",
       "</ol>\n"
      ],
      "text/latex": [
       "\\begin{enumerate*}\n",
       "\\item -209.7911271331\n",
       "\\item 97.620332256539\n",
       "\\item 67.7553658153226\n",
       "\\item -27.4688859769892\n",
       "\\item -84.1399457184809\n",
       "\\item 35.5916914472778\n",
       "\\item 193.958743678559\n",
       "\\item 31.1123369066628\n",
       "\\item -34.3720670618713\n",
       "\\item -178.273708581653\n",
       "\\end{enumerate*}\n"
      ],
      "text/markdown": [
       "1. -209.7911271331\n",
       "2. 97.620332256539\n",
       "3. 67.7553658153226\n",
       "4. -27.4688859769892\n",
       "5. -84.1399457184809\n",
       "6. 35.5916914472778\n",
       "7. 193.958743678559\n",
       "8. 31.1123369066628\n",
       "9. -34.3720670618713\n",
       "10. -178.273708581653\n",
       "\n",
       "\n"
      ],
      "text/plain": [
       " [1] -209.79113   97.62033   67.75537  -27.46889  -84.13995   35.59169\n",
       " [7]  193.95874   31.11234  -34.37207 -178.27371"
      ]
     },
     "metadata": {},
     "output_type": "display_data"
    }
   ],
   "source": [
    "rnorm(10, sd = 100)"
   ]
  },
  {
   "cell_type": "markdown",
   "metadata": {},
   "source": [
    "Algumas funções apresentam uma lista de opções depois de um parâmetro; isso significa que o primeiro valor é o padrão. Um bom exemplo é a função `power.t.test()`"
   ]
  },
  {
   "cell_type": "code",
   "execution_count": 23,
   "metadata": {},
   "outputs": [],
   "source": [
    "?power.t.test()"
   ]
  },
  {
   "cell_type": "markdown",
   "metadata": {},
   "source": [
    "### 1.4.6. Ajuda\n",
    "\n",
    "É possível iniciar o módulo de ajuda utilizando a chamada `help.start()`."
   ]
  },
  {
   "cell_type": "code",
   "execution_count": 24,
   "metadata": {},
   "outputs": [
    {
     "name": "stderr",
     "output_type": "stream",
     "text": [
      "starting httpd help server ...\n",
      " done\n",
      "\n"
     ]
    },
    {
     "name": "stdout",
     "output_type": "stream",
     "text": [
      "If the browser launched by 'xdg-open' is already running, it is *not*\n",
      "    restarted, and you must switch to its window.\n",
      "Otherwise, be patient ...\n"
     ]
    }
   ],
   "source": [
    "help.start()"
   ]
  },
  {
   "cell_type": "markdown",
   "metadata": {},
   "source": [
    "Contudo, ao utilizar o jupyter notebook, a utilização do operador `?` abre a ajuda como uma nova tela no navegador, sendo a forma recomendada de obter ajuda."
   ]
  },
  {
   "cell_type": "markdown",
   "metadata": {},
   "source": [
    "## 1.5. Pacotes\n",
    "\n",
    "Uma das maiores virtudes da linguagem R é a **facilidade de extensão** das ferramentas por parte dos usuários. Existem milhares de pacotes no repositório oficial da comunidade que resolvem diferentes classes de problema, ou apenas apresentam dados e análises já compiladas para facilitar a reprodução.\n",
    "\n",
    "Tais pacotes não fazem parte da distribuição padrão, e precisam ser baixados antes de utilizados. O principal repositório de aplicações se chama [CRAN](https://cran.r-project.org/). Antes de um pacote ser enviado para sua base, precisa passar por uma bateria de testes de forma a garantir sua qualidade e segurança. Ao utilizar o comando `install.packages()` os pacotes serão baixados diretamento do espelho do repositório.\n",
    "\n",
    "É importante observar que existe uma grande diferença entre **baixar** e **carregar** um pacote no script.\n",
    "\n",
    "### 1.5.1. Instalando um pacote\n",
    "\n",
    "Ao utilizar o comando `install.packages` o pacote está sendo baixado do espelho para a máquina local, de forma a poder utilizá-lo posteriormente nos scripts. \n",
    "\n",
    "O seguinte trecho de código foi apresentado no começo da aula:"
   ]
  },
  {
   "cell_type": "code",
   "execution_count": 25,
   "metadata": {},
   "outputs": [],
   "source": [
    "home <- path.expand(\"~\")\n",
    "lib_dir <- file.path(file.path(home, \"R\"), \"lib\")\n",
    "dir.create(lib_dir, showWarnings = FALSE)\n",
    "\n",
    "library(utils)\n",
    ".libPaths(c(lib_dir, .libPaths()))"
   ]
  },
  {
   "cell_type": "markdown",
   "metadata": {},
   "source": [
    "Esse comando permite que os pacotes sejam baixados no diretório do usuário, uma vez que não termos permissão para baixar na distribuição R instalada no sistema operacional. Também é necessário que seja carregado logo no começo do notebook, de forma a permitir que os pacotes instalados no diretório local sejam vistos pelos scripts. Todos os notebooks serão iniciados com esses comandos.\n",
    "\n",
    "Agora é possível instalar um pacote:"
   ]
  },
  {
   "cell_type": "code",
   "execution_count": 11,
   "metadata": {},
   "outputs": [
    {
     "name": "stderr",
     "output_type": "stream",
     "text": [
      "Installing package into 'C:/Users/lmarc/Documents/R/lib'\n",
      "(as 'lib' is unspecified)\n",
      "\n",
      "also installing the dependencies 'colourpicker', 'miniUI', 'shinyjs'\n",
      "\n",
      "\n"
     ]
    },
    {
     "name": "stdout",
     "output_type": "stream",
     "text": [
      "package 'colourpicker' successfully unpacked and MD5 sums checked\n",
      "package 'miniUI' successfully unpacked and MD5 sums checked\n",
      "package 'shinyjs' successfully unpacked and MD5 sums checked\n",
      "package 'ggExtra' successfully unpacked and MD5 sums checked\n",
      "\n",
      "The downloaded binary packages are in\n",
      "\tC:\\Users\\lmarc\\AppData\\Local\\Temp\\RtmpWqkgi8\\downloaded_packages\n"
     ]
    }
   ],
   "source": [
    "install.packages('ggExtra')"
   ]
  },
  {
   "cell_type": "markdown",
   "metadata": {},
   "source": [
    "### 1.5.2. Carregando um pacote\n",
    "\n",
    "A utilização do comando `library(packagename)` carrega o pacote para utilização no programa. Como se trata de carregar uma função, o comando deve estar presente em todas as execuções do script, diferente do comando `install`, quebaixa o pacote para utilização posterior.\n",
    "\n",
    "O seguinte exemplo carrega uma biblioteca e executa um exemplo elementar:"
   ]
  },
  {
   "cell_type": "code",
   "execution_count": 28,
   "metadata": {},
   "outputs": [],
   "source": [
    "library(ggExtra)\n",
    "\n",
    "#ggExtra::runExample()"
   ]
  },
  {
   "cell_type": "markdown",
   "metadata": {},
   "source": [
    "### 1.5.3. Instalando do github\n",
    "\n",
    "Muitos pacotes ainda não chegaram ao CRAN por ainda estarem em desenvolvimento. Também é possível que _datasets_ e exemplos de código apresentados como resultados de pesquisa estejam disponíveis no github. Com a utilização do pacote `devtools` é possível baixar pacotes diretamente do github, assim como _datasets_ , para utilização nos scripts:"
   ]
  },
  {
   "cell_type": "code",
   "execution_count": 12,
   "metadata": {},
   "outputs": [
    {
     "name": "stderr",
     "output_type": "stream",
     "text": [
      "Installing package into 'C:/Users/lmarc/Documents/R/lib'\n",
      "(as 'lib' is unspecified)\n",
      "\n",
      "also installing the dependencies 'gh', 'rlang', 'usethis', 'covr', 'desc', 'DT', 'git2r', 'memoise', 'pkgbuild', 'pkgload', 'rcmdcheck', 'remotes', 'roxygen2', 'rversions', 'sessioninfo', 'testthat'\n",
      "\n",
      "\n"
     ]
    },
    {
     "name": "stdout",
     "output_type": "stream",
     "text": [
      "\n",
      "  There is a binary version available but the source version is later:\n",
      "      binary source needs_compilation\n",
      "rlang  0.4.3  0.4.4              TRUE\n",
      "\n",
      "package 'gh' successfully unpacked and MD5 sums checked\n",
      "package 'usethis' successfully unpacked and MD5 sums checked\n",
      "package 'covr' successfully unpacked and MD5 sums checked\n",
      "package 'desc' successfully unpacked and MD5 sums checked\n",
      "package 'DT' successfully unpacked and MD5 sums checked\n",
      "package 'git2r' successfully unpacked and MD5 sums checked\n",
      "package 'memoise' successfully unpacked and MD5 sums checked\n",
      "package 'pkgbuild' successfully unpacked and MD5 sums checked\n",
      "package 'pkgload' successfully unpacked and MD5 sums checked\n",
      "package 'rcmdcheck' successfully unpacked and MD5 sums checked\n",
      "package 'remotes' successfully unpacked and MD5 sums checked\n",
      "package 'roxygen2' successfully unpacked and MD5 sums checked\n",
      "package 'rversions' successfully unpacked and MD5 sums checked\n",
      "package 'sessioninfo' successfully unpacked and MD5 sums checked\n",
      "package 'testthat' successfully unpacked and MD5 sums checked\n",
      "package 'devtools' successfully unpacked and MD5 sums checked\n",
      "\n",
      "The downloaded binary packages are in\n",
      "\tC:\\Users\\lmarc\\AppData\\Local\\Temp\\RtmpWqkgi8\\downloaded_packages\n"
     ]
    },
    {
     "name": "stderr",
     "output_type": "stream",
     "text": [
      "installing the source package 'rlang'\n",
      "\n",
      "\n",
      "Warning message in install.packages(\"devtools\"):\n",
      "\"installation of package 'rlang' had non-zero exit status\"\n"
     ]
    },
    {
     "ename": "ERROR",
     "evalue": "Error: .onLoad failed in loadNamespace() for 'pkgload', details:\n  call: loadNamespace(i, c(lib.loc, .libPaths()), versionCheck = vI[[i]])\n  error: namespace 'rlang' 0.3.4 is already loaded, but >= 0.4.1 is required\n",
     "output_type": "error",
     "traceback": [
      "Error: .onLoad failed in loadNamespace() for 'pkgload', details:\n  call: loadNamespace(i, c(lib.loc, .libPaths()), versionCheck = vI[[i]])\n  error: namespace 'rlang' 0.3.4 is already loaded, but >= 0.4.1 is required\nTraceback:\n",
      "1. devtools::install_github",
      "2. getExportedValue(pkg, name)",
      "3. asNamespace(ns)",
      "4. getNamespace(ns)",
      "5. loadNamespace(name)",
      "6. namespaceImportFrom(ns, loadNamespace(j <- i[[1L]], c(lib.loc, \n .     .libPaths()), versionCheck = vI[[j]]), i[[2L]], from = package)",
      "7. asNamespace(ns)",
      "8. loadNamespace(j <- i[[1L]], c(lib.loc, .libPaths()), versionCheck = vI[[j]])",
      "9. runHook(\".onLoad\", env, package.lib, package)",
      "10. stop(gettextf(\"%s failed in %s() for '%s', details:\\n  call: %s\\n  error: %s\", \n  .     hookname, \"loadNamespace\", pkgname, deparse(conditionCall(res))[1L], \n  .     conditionMessage(res)), call. = FALSE, domain = NA)"
     ]
    }
   ],
   "source": [
    "install.packages(\"devtools\")\n",
    "devtools::install_github(\"adam-gruer/goodshirt\")"
   ]
  },
  {
   "cell_type": "markdown",
   "metadata": {},
   "source": [
    "Depois de baixar o pacote do github é possível utilizar alguns dos exemplos fornecidos pelo autor para testar a funcionalidade."
   ]
  },
  {
   "cell_type": "code",
   "execution_count": 30,
   "metadata": {},
   "outputs": [
    {
     "data": {
      "text/plain": [
       "\n",
       " You know, I thought I'd have a stomachache right now, but weirdly... I do. \n",
       "\n",
       " ~ Chidi"
      ]
     },
     "metadata": {},
     "output_type": "display_data"
    },
    {
     "data": {
      "text/plain": [
       "\n",
       "  \"We're running out of time and I'm your only option?\" A lot of guys your age said that to me just as the bar was about to close. But I never settled for them. Because my ex-boyfriend lived nearby, he was obsessed with me and he never slept because he was addicted to Adderall. There is always another option. \n",
       "\n",
       " ~ Eleanor"
      ]
     },
     "metadata": {},
     "output_type": "display_data"
    },
    {
     "data": {
      "text/plain": [
       "\n",
       " I understand nothing. \n",
       "\n",
       " ~ Tahani"
      ]
     },
     "metadata": {},
     "output_type": "display_data"
    },
    {
     "data": {
      "text/plain": [
       "\n",
       " Here's the thing. I'm nice to you, and you're mean to me. There's something wrong about that, but I can't put my finger on what it is. \n",
       "\n",
       " ~ Jason"
      ]
     },
     "metadata": {},
     "output_type": "display_data"
    }
   ],
   "source": [
    "library(goodshirt)\n",
    "# quotes from The Good Place\n",
    "chidi()\n",
    "eleanor()\n",
    "tahani()\n",
    "jason()"
   ]
  },
  {
   "cell_type": "markdown",
   "metadata": {},
   "source": [
    "## 1.6. Organizando um projeto\n",
    "\n",
    "Os projetos são um conjunto de arquivos que compõem a análise. Muitos projetos são compostos de scripts, arquivos de dados, PDF com resultado das análise, etc.\n",
    "\n",
    "### 1.6.1. Desenvolvendo scripts reproduzíveis\n",
    "\n",
    "A linguagem R permite o desenvolvimento de scripts reproduzíveis. A seguir é possível ver um exemplo, que configura seu ambiente com as dependências obrigatórias e apresenta script elementar.\n"
   ]
  },
  {
   "cell_type": "code",
   "execution_count": null,
   "metadata": {},
   "outputs": [],
   "source": [
    "# load add-on packages\n",
    "library(tidyverse)\n",
    "\n",
    "# set variables ----\n",
    "n <- 100\n",
    "\n",
    "# simulate data ----\n",
    "data <- data.frame(\n",
    "  id = 1:n,\n",
    "  dv = c(rnorm(n/2, 0), rnorm(n/2, 1)),\n",
    "  condition = rep(c(\"A\", \"B\"), each = n/2)\n",
    ")\n",
    "\n",
    "# plot data ----\n",
    "ggplot(data, aes(condition, dv)) +\n",
    "  geom_violin(trim = FALSE) +\n",
    "  geom_boxplot(width = 0.25, \n",
    "               aes(fill = condition),\n",
    "               show.legend = FALSE)\n",
    "\n",
    "# save plot ----\n",
    "dir.create(\"output\", showWarnings = FALSE)\n",
    "ggsave(\"output/sim_data.png\", width = 8, height = 6)"
   ]
  },
  {
   "cell_type": "markdown",
   "metadata": {},
   "source": [
    "Ao construir seus scripts, é recomendado que seja seguida a mesma estrutura:\n",
    "\n",
    "1. Carregar os pacotes/dependências necessários para sua execução;\n",
    "2. Definir as funções do usuário;\n",
    "3. Carregar os dados que serão utilizados;\n",
    "4. Trabalhar com os dados;\n",
    "5. Salvar tudo o que precisa ser salvo.\n",
    "\n",
    "### 1.6.2. Análises completas utilizando Jupyter Notebook\n",
    "\n",
    "Os princípios de desenvolvimento de software que norteiam os processos aplicados às outras linguagens também se aplicam aos projetos executados em R. Contudo, como visto na introdução, trata-se de uma linguagem que tem como principal objetivo executar análises estatísticas. Agora é importante retomar o ciclo de análise utilizado em ciência de dados e apresentado no livro-texto da disciplina, _R for Data Science_ \n",
    "\n",
    "![Ciclo de Ciência de Dados](images/data-science.png \"Projetos de Data Science\")\n",
    "\n",
    "Ainda que a literatura apresente variações, uma etapa fundamental envolve a aprendizagem sobre os dados. Normalmente utiliza-se um conjunto reduzido das informações para saber se os objetivos de negócio podem ser atendidos a partir dos conjuntos de dados que estão disponíveis para a análise.\n",
    "\n",
    "Nesse contexto, a utilização dos notebooks pode auxiliar o cientista de dados, no sentido de conter todos os elementos que levaram ao entendimento dos dados para o negócio. Todas as entradas, saídas, gráficos produzidos e conclusões devem ser passíveis de reprodução, e sua verificabilidade é facilitada com a utilização dos notebooks. Como boa prática então sugere-se que o notebook seja completo e auto-contido, permitindo a repetição do experimento nas mesmas condições.\n",
    "\n",
    "Os próximos laboratórios terão como foco a construção de notebooks para responder perguntas de negócio."
   ]
  },
  {
   "cell_type": "code",
   "execution_count": null,
   "metadata": {},
   "outputs": [],
   "source": []
  }
 ],
 "metadata": {
  "kernelspec": {
   "display_name": "R",
   "language": "R",
   "name": "ir"
  },
  "language_info": {
   "codemirror_mode": "r",
   "file_extension": ".r",
   "mimetype": "text/x-r-source",
   "name": "R",
   "pygments_lexer": "r",
   "version": "3.6.1"
  }
 },
 "nbformat": 4,
 "nbformat_minor": 2
}
