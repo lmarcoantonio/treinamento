{
 "cells": [
  {
   "cell_type": "markdown",
   "metadata": {},
   "source": [
    "# Aula 02 - Trabalhando com dados\n",
    "\n",
    "\n",
    "## 2.1. Objetivos de aprendizagem\n",
    "\n",
    "1. Entender os tipos de dado elementares;\n",
    "2. Entender os tipos de _container_ básicos;\n",
    "3. Criar vetores e armazená-los em variáveis;\n",
    "4. Entender operações entre vetores;\n",
    "5. Importar dados de arquivos CSV e Excel.\n",
    "\n",
    "## 2.2. Recursos\n",
    "\n",
    "* Para melhor aproveitamento da aula recomenda-se a leitura prévia do [Capítulo 11: Importação de dados](https://r4ds.had.co.nz/data-import.html) do Livro _R for Data Science_\n",
    "* [_Dataset_ de nomes de bebê na Escócia](https://www.nrscotland.gov.uk/files//statistics/babies-first-names-full-list/summary-records/babies-names16-all-names-years.csv)\n",
    "\n",
    "Vamos iniciar o notebook carregando as bibliotecas locais."
   ]
  },
  {
   "cell_type": "code",
   "execution_count": 8,
   "metadata": {},
   "outputs": [],
   "source": [
    "home <- path.expand(\"~\")\n",
    "lib_dir <- file.path(file.path(home, \"R\"), \"lib\")\n",
    "dir.create(lib_dir, showWarnings = FALSE)\n",
    "\n",
    "library(utils)\n",
    ".libPaths(c(lib_dir, .libPaths()))"
   ]
  },
  {
   "cell_type": "markdown",
   "metadata": {},
   "source": [
    "## 2.3. Tipos de dado elementares\n",
    "\n",
    "A linguagem R possui cinco tipos de dado elementares:\n",
    "\n",
    "**type** | **description** | **example**\n",
    ":---------|:-----------------|:-------------\n",
    "double   | ponto flutuante | `.333337`\n",
    "integer  | integer         | `-1`, `0` , `1`\n",
    "numeric  | qualquer número real (int,dbl) | \t`1`, `.5`, `-.222`\n",
    "boolean  | verdadeiro ou falso | `TRUE`, `FALSE`\n",
    "character | string de texto | `\"hello world\"`, `'howdy'`\n",
    "\n",
    "Existem outros tipos de dados, como `factor` que será importante em algum momento, mas com os tipos apresentados é possível tratar a maior parte dos dados.\n",
    "\n",
    "Strings de caractere podem incluir qualquer elemento, incluindo aspas, desde que utilizando a contrabarra para escapar"
   ]
  },
  {
   "cell_type": "code",
   "execution_count": 1,
   "metadata": {},
   "outputs": [
    {
     "name": "stdout",
     "output_type": "stream",
     "text": [
      "The instructor said, \"R is cool,\" and the class agreed."
     ]
    }
   ],
   "source": [
    "my_string <- \"The instructor said, \\\"R is cool,\\\" and the class agreed.\"\n",
    "cat(my_string) # cat() prints the arguments"
   ]
  },
  {
   "cell_type": "markdown",
   "metadata": {},
   "source": [
    "Os números que não possuem anotação de tipo são armazenados como double, mesmo aqueles que são números decimais, como `9`. Se quiser utilizar um inteiro exato, utilize o sufixo `L` (`9L` para o caso).\n",
    "\n",
    "Se for necessário descobrir o tipo de dado, é possível utilizar a função `class`."
   ]
  },
  {
   "cell_type": "code",
   "execution_count": 2,
   "metadata": {},
   "outputs": [
    {
     "data": {
      "text/html": [
       "'numeric'"
      ],
      "text/latex": [
       "'numeric'"
      ],
      "text/markdown": [
       "'numeric'"
      ],
      "text/plain": [
       "[1] \"numeric\""
      ]
     },
     "metadata": {},
     "output_type": "display_data"
    },
    {
     "data": {
      "text/html": [
       "'integer'"
      ],
      "text/latex": [
       "'integer'"
      ],
      "text/markdown": [
       "'integer'"
      ],
      "text/plain": [
       "[1] \"integer\""
      ]
     },
     "metadata": {},
     "output_type": "display_data"
    },
    {
     "data": {
      "text/html": [
       "'character'"
      ],
      "text/latex": [
       "'character'"
      ],
      "text/markdown": [
       "'character'"
      ],
      "text/plain": [
       "[1] \"character\""
      ]
     },
     "metadata": {},
     "output_type": "display_data"
    },
    {
     "data": {
      "text/html": [
       "'logical'"
      ],
      "text/latex": [
       "'logical'"
      ],
      "text/markdown": [
       "'logical'"
      ],
      "text/plain": [
       "[1] \"logical\""
      ]
     },
     "metadata": {},
     "output_type": "display_data"
    }
   ],
   "source": [
    "class(10) # numeric\n",
    "class(10L) # integer\n",
    "class(\"10\") # string\n",
    "class(10L == 11L) # logical"
   ]
  },
  {
   "cell_type": "markdown",
   "metadata": {},
   "source": [
    "## 2.4. Tipos de _container_ básicos\n",
    "\n",
    "### 2.4.1. Vetores\n",
    "\n",
    "Vetores são as estruturas de dados mais importantes na linguagem R. Assim como na Matemática, um vetor em R é um conjunto de elementos ordenados, e todos os seus membros devem ser do mesmo tipo. Para criar um vetor é possível utilizar a sintaxe `c(...)`:"
   ]
  },
  {
   "cell_type": "code",
   "execution_count": 3,
   "metadata": {},
   "outputs": [
    {
     "data": {
      "text/html": [
       "<ol class=list-inline>\n",
       "\t<li>1</li>\n",
       "\t<li>2</li>\n",
       "\t<li>3</li>\n",
       "\t<li>4</li>\n",
       "</ol>\n"
      ],
      "text/latex": [
       "\\begin{enumerate*}\n",
       "\\item 1\n",
       "\\item 2\n",
       "\\item 3\n",
       "\\item 4\n",
       "\\end{enumerate*}\n"
      ],
      "text/markdown": [
       "1. 1\n",
       "2. 2\n",
       "3. 3\n",
       "4. 4\n",
       "\n",
       "\n"
      ],
      "text/plain": [
       "[1] 1 2 3 4"
      ]
     },
     "metadata": {},
     "output_type": "display_data"
    },
    {
     "data": {
      "text/html": [
       "<ol class=list-inline>\n",
       "\t<li>'this'</li>\n",
       "\t<li>'is'</li>\n",
       "\t<li>'cool'</li>\n",
       "</ol>\n"
      ],
      "text/latex": [
       "\\begin{enumerate*}\n",
       "\\item 'this'\n",
       "\\item 'is'\n",
       "\\item 'cool'\n",
       "\\end{enumerate*}\n"
      ],
      "text/markdown": [
       "1. 'this'\n",
       "2. 'is'\n",
       "3. 'cool'\n",
       "\n",
       "\n"
      ],
      "text/plain": [
       "[1] \"this\" \"is\"   \"cool\""
      ]
     },
     "metadata": {},
     "output_type": "display_data"
    },
    {
     "data": {
      "text/html": [
       "<ol class=list-inline>\n",
       "\t<li>1</li>\n",
       "\t<li>2</li>\n",
       "\t<li>3</li>\n",
       "\t<li>4</li>\n",
       "\t<li>5</li>\n",
       "\t<li>6</li>\n",
       "</ol>\n"
      ],
      "text/latex": [
       "\\begin{enumerate*}\n",
       "\\item 1\n",
       "\\item 2\n",
       "\\item 3\n",
       "\\item 4\n",
       "\\item 5\n",
       "\\item 6\n",
       "\\end{enumerate*}\n"
      ],
      "text/markdown": [
       "1. 1\n",
       "2. 2\n",
       "3. 3\n",
       "4. 4\n",
       "5. 5\n",
       "6. 6\n",
       "\n",
       "\n"
      ],
      "text/plain": [
       "[1] 1 2 3 4 5 6"
      ]
     },
     "metadata": {},
     "output_type": "display_data"
    }
   ],
   "source": [
    "## put information into a vector using c(...)\n",
    "c(1, 2, 3, 4)\n",
    "c(\"this\", \"is\", \"cool\")\n",
    "1:6 # shortcut to make a vector of all integers x:y"
   ]
  },
  {
   "cell_type": "markdown",
   "metadata": {},
   "source": [
    "#### 2.4.1.1. Selecionando valores em um vetor\n",
    "\n",
    "Para selecionar valores de um vetor utilizamos o operador especial `[]` ou o vetor especial `LETTERS`"
   ]
  },
  {
   "cell_type": "code",
   "execution_count": 6,
   "metadata": {},
   "outputs": [
    {
     "data": {
      "text/html": [
       "<ol class=list-inline>\n",
       "\t<li>'R'</li>\n",
       "\t<li>'S'</li>\n",
       "\t<li>'T'</li>\n",
       "\t<li>'U'</li>\n",
       "\t<li>'D'</li>\n",
       "\t<li>'I'</li>\n",
       "\t<li>'O'</li>\n",
       "</ol>\n"
      ],
      "text/latex": [
       "\\begin{enumerate*}\n",
       "\\item 'R'\n",
       "\\item 'S'\n",
       "\\item 'T'\n",
       "\\item 'U'\n",
       "\\item 'D'\n",
       "\\item 'I'\n",
       "\\item 'O'\n",
       "\\end{enumerate*}\n"
      ],
      "text/markdown": [
       "1. 'R'\n",
       "2. 'S'\n",
       "3. 'T'\n",
       "4. 'U'\n",
       "5. 'D'\n",
       "6. 'I'\n",
       "7. 'O'\n",
       "\n",
       "\n"
      ],
      "text/plain": [
       "[1] \"R\" \"S\" \"T\" \"U\" \"D\" \"I\" \"O\""
      ]
     },
     "metadata": {},
     "output_type": "display_data"
    }
   ],
   "source": [
    "word <- c(18, 19, 20, 21, 4, 9, 15)\n",
    "LETTERS[word]"
   ]
  },
  {
   "cell_type": "code",
   "execution_count": 8,
   "metadata": {},
   "outputs": [
    {
     "data": {
      "text/html": [
       "18"
      ],
      "text/latex": [
       "18"
      ],
      "text/markdown": [
       "18"
      ],
      "text/plain": [
       "[1] 18"
      ]
     },
     "metadata": {},
     "output_type": "display_data"
    }
   ],
   "source": [
    "word[1]"
   ]
  },
  {
   "cell_type": "markdown",
   "metadata": {},
   "source": [
    "Também é possível criar _named vectors_ onde cada um dos elementos tem um nome. Ex.:"
   ]
  },
  {
   "cell_type": "code",
   "execution_count": 9,
   "metadata": {},
   "outputs": [
    {
     "data": {
      "text/html": [
       "<dl class=dl-horizontal>\n",
       "\t<dt>first</dt>\n",
       "\t\t<dd>77.9</dd>\n",
       "\t<dt>second</dt>\n",
       "\t\t<dd>-13.2</dd>\n",
       "\t<dt>third</dt>\n",
       "\t\t<dd>100.1</dd>\n",
       "</dl>\n"
      ],
      "text/latex": [
       "\\begin{description*}\n",
       "\\item[first] 77.9\n",
       "\\item[second] -13.2\n",
       "\\item[third] 100.1\n",
       "\\end{description*}\n"
      ],
      "text/markdown": [
       "first\n",
       ":   77.9second\n",
       ":   -13.2third\n",
       ":   100.1\n",
       "\n"
      ],
      "text/plain": [
       " first second  third \n",
       "  77.9  -13.2  100.1 "
      ]
     },
     "metadata": {},
     "output_type": "display_data"
    }
   ],
   "source": [
    "vec <- c(first = 77.9, second = -13.2, third = 100.1)\n",
    "vec"
   ]
  },
  {
   "cell_type": "markdown",
   "metadata": {},
   "source": [
    "Assim é possível acessar os elementos através do nome"
   ]
  },
  {
   "cell_type": "code",
   "execution_count": 10,
   "metadata": {},
   "outputs": [
    {
     "data": {
      "text/html": [
       "<dl class=dl-horizontal>\n",
       "\t<dt>third</dt>\n",
       "\t\t<dd>100.1</dd>\n",
       "\t<dt>second</dt>\n",
       "\t\t<dd>-13.2</dd>\n",
       "\t<dt>second</dt>\n",
       "\t\t<dd>-13.2</dd>\n",
       "</dl>\n"
      ],
      "text/latex": [
       "\\begin{description*}\n",
       "\\item[third] 100.1\n",
       "\\item[second] -13.2\n",
       "\\item[second] -13.2\n",
       "\\end{description*}\n"
      ],
      "text/markdown": [
       "third\n",
       ":   100.1second\n",
       ":   -13.2second\n",
       ":   -13.2\n",
       "\n"
      ],
      "text/plain": [
       " third second second \n",
       " 100.1  -13.2  -13.2 "
      ]
     },
     "metadata": {},
     "output_type": "display_data"
    }
   ],
   "source": [
    "vec[c(\"third\", \"second\", \"second\")]"
   ]
  },
  {
   "cell_type": "markdown",
   "metadata": {},
   "source": [
    "Note no exemplo que a ordem de acesso num vetor com nome (`named vector`) não faz diferença."
   ]
  },
  {
   "cell_type": "markdown",
   "metadata": {},
   "source": [
    "Também é possível acessar os elementos utilizando um vetor lógico entre colchetes. Nesse caso serão impressos somente os elementos cujo resultado for `TRUE` para o vetor de origem."
   ]
  },
  {
   "cell_type": "code",
   "execution_count": 16,
   "metadata": {},
   "outputs": [
    {
     "data": {
      "text/html": [
       "26"
      ],
      "text/latex": [
       "26"
      ],
      "text/markdown": [
       "26"
      ],
      "text/plain": [
       "[1] 26"
      ]
     },
     "metadata": {},
     "output_type": "display_data"
    },
    {
     "data": {
      "text/html": [
       "<ol class=list-inline>\n",
       "\t<li>'A'</li>\n",
       "\t<li>'C'</li>\n",
       "\t<li>'E'</li>\n",
       "\t<li>'G'</li>\n",
       "\t<li>'I'</li>\n",
       "\t<li>'K'</li>\n",
       "\t<li>'M'</li>\n",
       "\t<li>'O'</li>\n",
       "\t<li>'Q'</li>\n",
       "\t<li>'S'</li>\n",
       "\t<li>'U'</li>\n",
       "\t<li>'W'</li>\n",
       "\t<li>'Y'</li>\n",
       "</ol>\n"
      ],
      "text/latex": [
       "\\begin{enumerate*}\n",
       "\\item 'A'\n",
       "\\item 'C'\n",
       "\\item 'E'\n",
       "\\item 'G'\n",
       "\\item 'I'\n",
       "\\item 'K'\n",
       "\\item 'M'\n",
       "\\item 'O'\n",
       "\\item 'Q'\n",
       "\\item 'S'\n",
       "\\item 'U'\n",
       "\\item 'W'\n",
       "\\item 'Y'\n",
       "\\end{enumerate*}\n"
      ],
      "text/markdown": [
       "1. 'A'\n",
       "2. 'C'\n",
       "3. 'E'\n",
       "4. 'G'\n",
       "5. 'I'\n",
       "6. 'K'\n",
       "7. 'M'\n",
       "8. 'O'\n",
       "9. 'Q'\n",
       "10. 'S'\n",
       "11. 'U'\n",
       "12. 'W'\n",
       "13. 'Y'\n",
       "\n",
       "\n"
      ],
      "text/plain": [
       " [1] \"A\" \"C\" \"E\" \"G\" \"I\" \"K\" \"M\" \"O\" \"Q\" \"S\" \"U\" \"W\" \"Y\""
      ]
     },
     "metadata": {},
     "output_type": "display_data"
    }
   ],
   "source": [
    "length(LETTERS)\n",
    "LETTERS[c(TRUE, FALSE)]"
   ]
  },
  {
   "cell_type": "markdown",
   "metadata": {},
   "source": [
    "#### 2.4.1.2. Sequências de repetição\n",
    "\n",
    "O operador `:` cria uma lista de elementos no intervalo definido. Contudo, se for necessário repetir o vetor várias vezes existe a função `rep()`, que permite diferentes formas de repetição."
   ]
  },
  {
   "cell_type": "code",
   "execution_count": 17,
   "metadata": {},
   "outputs": [
    {
     "data": {
      "text/html": [
       "<ol class=list-inline>\n",
       "\t<li>0</li>\n",
       "\t<li>0</li>\n",
       "\t<li>0</li>\n",
       "\t<li>0</li>\n",
       "\t<li>0</li>\n",
       "\t<li>0</li>\n",
       "\t<li>0</li>\n",
       "\t<li>0</li>\n",
       "\t<li>0</li>\n",
       "\t<li>0</li>\n",
       "</ol>\n"
      ],
      "text/latex": [
       "\\begin{enumerate*}\n",
       "\\item 0\n",
       "\\item 0\n",
       "\\item 0\n",
       "\\item 0\n",
       "\\item 0\n",
       "\\item 0\n",
       "\\item 0\n",
       "\\item 0\n",
       "\\item 0\n",
       "\\item 0\n",
       "\\end{enumerate*}\n"
      ],
      "text/markdown": [
       "1. 0\n",
       "2. 0\n",
       "3. 0\n",
       "4. 0\n",
       "5. 0\n",
       "6. 0\n",
       "7. 0\n",
       "8. 0\n",
       "9. 0\n",
       "10. 0\n",
       "\n",
       "\n"
      ],
      "text/plain": [
       " [1] 0 0 0 0 0 0 0 0 0 0"
      ]
     },
     "metadata": {},
     "output_type": "display_data"
    },
    {
     "data": {
      "text/html": [
       "<ol class=list-inline>\n",
       "\t<li>1</li>\n",
       "\t<li>3</li>\n",
       "\t<li>1</li>\n",
       "\t<li>3</li>\n",
       "\t<li>1</li>\n",
       "\t<li>3</li>\n",
       "\t<li>1</li>\n",
       "\t<li>3</li>\n",
       "\t<li>1</li>\n",
       "\t<li>3</li>\n",
       "\t<li>1</li>\n",
       "\t<li>3</li>\n",
       "\t<li>1</li>\n",
       "\t<li>3</li>\n",
       "</ol>\n"
      ],
      "text/latex": [
       "\\begin{enumerate*}\n",
       "\\item 1\n",
       "\\item 3\n",
       "\\item 1\n",
       "\\item 3\n",
       "\\item 1\n",
       "\\item 3\n",
       "\\item 1\n",
       "\\item 3\n",
       "\\item 1\n",
       "\\item 3\n",
       "\\item 1\n",
       "\\item 3\n",
       "\\item 1\n",
       "\\item 3\n",
       "\\end{enumerate*}\n"
      ],
      "text/markdown": [
       "1. 1\n",
       "2. 3\n",
       "3. 1\n",
       "4. 3\n",
       "5. 1\n",
       "6. 3\n",
       "7. 1\n",
       "8. 3\n",
       "9. 1\n",
       "10. 3\n",
       "11. 1\n",
       "12. 3\n",
       "13. 1\n",
       "14. 3\n",
       "\n",
       "\n"
      ],
      "text/plain": [
       " [1] 1 3 1 3 1 3 1 3 1 3 1 3 1 3"
      ]
     },
     "metadata": {},
     "output_type": "display_data"
    },
    {
     "data": {
      "text/html": [
       "<ol class=list-inline>\n",
       "\t<li>'A'</li>\n",
       "\t<li>'A'</li>\n",
       "\t<li>'B'</li>\n",
       "\t<li>'B'</li>\n",
       "\t<li>'C'</li>\n",
       "\t<li>'C'</li>\n",
       "</ol>\n"
      ],
      "text/latex": [
       "\\begin{enumerate*}\n",
       "\\item 'A'\n",
       "\\item 'A'\n",
       "\\item 'B'\n",
       "\\item 'B'\n",
       "\\item 'C'\n",
       "\\item 'C'\n",
       "\\end{enumerate*}\n"
      ],
      "text/markdown": [
       "1. 'A'\n",
       "2. 'A'\n",
       "3. 'B'\n",
       "4. 'B'\n",
       "5. 'C'\n",
       "6. 'C'\n",
       "\n",
       "\n"
      ],
      "text/plain": [
       "[1] \"A\" \"A\" \"B\" \"B\" \"C\" \"C\""
      ]
     },
     "metadata": {},
     "output_type": "display_data"
    }
   ],
   "source": [
    "rep(0, 10)                      # ten zeroes\n",
    "rep(c(1L, 3L), times = 7)       # alternating 1 and 3, 7 times\n",
    "rep(c(\"A\", \"B\", \"C\"), each = 2) # A to C, 2 times each"
   ]
  },
  {
   "cell_type": "markdown",
   "metadata": {},
   "source": [
    "A função `rep()` e útil para criar um vetor de valores lógicos (`TRUE`/`FALSE` ou `0`/`1`) para selecionar valores de outro vetor."
   ]
  },
  {
   "cell_type": "code",
   "execution_count": 18,
   "metadata": {},
   "outputs": [
    {
     "data": {
      "text/html": [
       "<ol class=list-inline>\n",
       "\t<li>1</li>\n",
       "\t<li>2</li>\n",
       "\t<li>5</li>\n",
       "\t<li>6</li>\n",
       "\t<li>9</li>\n",
       "\t<li>10</li>\n",
       "\t<li>13</li>\n",
       "\t<li>14</li>\n",
       "\t<li>17</li>\n",
       "\t<li>18</li>\n",
       "\t<li>21</li>\n",
       "\t<li>22</li>\n",
       "\t<li>25</li>\n",
       "\t<li>26</li>\n",
       "\t<li>29</li>\n",
       "\t<li>30</li>\n",
       "\t<li>33</li>\n",
       "\t<li>34</li>\n",
       "\t<li>37</li>\n",
       "\t<li>38</li>\n",
       "</ol>\n"
      ],
      "text/latex": [
       "\\begin{enumerate*}\n",
       "\\item 1\n",
       "\\item 2\n",
       "\\item 5\n",
       "\\item 6\n",
       "\\item 9\n",
       "\\item 10\n",
       "\\item 13\n",
       "\\item 14\n",
       "\\item 17\n",
       "\\item 18\n",
       "\\item 21\n",
       "\\item 22\n",
       "\\item 25\n",
       "\\item 26\n",
       "\\item 29\n",
       "\\item 30\n",
       "\\item 33\n",
       "\\item 34\n",
       "\\item 37\n",
       "\\item 38\n",
       "\\end{enumerate*}\n"
      ],
      "text/markdown": [
       "1. 1\n",
       "2. 2\n",
       "3. 5\n",
       "4. 6\n",
       "5. 9\n",
       "6. 10\n",
       "7. 13\n",
       "8. 14\n",
       "9. 17\n",
       "10. 18\n",
       "11. 21\n",
       "12. 22\n",
       "13. 25\n",
       "14. 26\n",
       "15. 29\n",
       "16. 30\n",
       "17. 33\n",
       "18. 34\n",
       "19. 37\n",
       "20. 38\n",
       "\n",
       "\n"
      ],
      "text/plain": [
       " [1]  1  2  5  6  9 10 13 14 17 18 21 22 25 26 29 30 33 34 37 38"
      ]
     },
     "metadata": {},
     "output_type": "display_data"
    }
   ],
   "source": [
    "# Get subject IDs in the pattern Y Y N N ...\n",
    "subject_ids <- 1:40\n",
    "yynn <- rep(c(TRUE, FALSE), each = 2, \n",
    "            length.out = length(subject_ids))\n",
    "subject_ids[yynn]"
   ]
  },
  {
   "cell_type": "markdown",
   "metadata": {},
   "source": [
    "E se for necessário criar uma sequência que possua incremento diferente de números inteiros? Para isso existe a função `seq()`:"
   ]
  },
  {
   "cell_type": "code",
   "execution_count": 19,
   "metadata": {},
   "outputs": [
    {
     "data": {
      "text/html": [
       "<ol class=list-inline>\n",
       "\t<li>-1</li>\n",
       "\t<li>-0.8</li>\n",
       "\t<li>-0.6</li>\n",
       "\t<li>-0.4</li>\n",
       "\t<li>-0.2</li>\n",
       "\t<li>0</li>\n",
       "\t<li>0.2</li>\n",
       "\t<li>0.4</li>\n",
       "\t<li>0.6</li>\n",
       "\t<li>0.8</li>\n",
       "\t<li>1</li>\n",
       "</ol>\n"
      ],
      "text/latex": [
       "\\begin{enumerate*}\n",
       "\\item -1\n",
       "\\item -0.8\n",
       "\\item -0.6\n",
       "\\item -0.4\n",
       "\\item -0.2\n",
       "\\item 0\n",
       "\\item 0.2\n",
       "\\item 0.4\n",
       "\\item 0.6\n",
       "\\item 0.8\n",
       "\\item 1\n",
       "\\end{enumerate*}\n"
      ],
      "text/markdown": [
       "1. -1\n",
       "2. -0.8\n",
       "3. -0.6\n",
       "4. -0.4\n",
       "5. -0.2\n",
       "6. 0\n",
       "7. 0.2\n",
       "8. 0.4\n",
       "9. 0.6\n",
       "10. 0.8\n",
       "11. 1\n",
       "\n",
       "\n"
      ],
      "text/plain": [
       " [1] -1.0 -0.8 -0.6 -0.4 -0.2  0.0  0.2  0.4  0.6  0.8  1.0"
      ]
     },
     "metadata": {},
     "output_type": "display_data"
    },
    {
     "data": {
      "text/html": [
       "<ol class=list-inline>\n",
       "\t<li>0</li>\n",
       "\t<li>10</li>\n",
       "\t<li>20</li>\n",
       "\t<li>30</li>\n",
       "\t<li>40</li>\n",
       "\t<li>50</li>\n",
       "\t<li>60</li>\n",
       "\t<li>70</li>\n",
       "\t<li>80</li>\n",
       "\t<li>90</li>\n",
       "\t<li>100</li>\n",
       "</ol>\n"
      ],
      "text/latex": [
       "\\begin{enumerate*}\n",
       "\\item 0\n",
       "\\item 10\n",
       "\\item 20\n",
       "\\item 30\n",
       "\\item 40\n",
       "\\item 50\n",
       "\\item 60\n",
       "\\item 70\n",
       "\\item 80\n",
       "\\item 90\n",
       "\\item 100\n",
       "\\end{enumerate*}\n"
      ],
      "text/markdown": [
       "1. 0\n",
       "2. 10\n",
       "3. 20\n",
       "4. 30\n",
       "5. 40\n",
       "6. 50\n",
       "7. 60\n",
       "8. 70\n",
       "9. 80\n",
       "10. 90\n",
       "11. 100\n",
       "\n",
       "\n"
      ],
      "text/plain": [
       " [1]   0  10  20  30  40  50  60  70  80  90 100"
      ]
     },
     "metadata": {},
     "output_type": "display_data"
    },
    {
     "data": {
      "text/html": [
       "<ol class=list-inline>\n",
       "\t<li>0</li>\n",
       "\t<li>0.4</li>\n",
       "\t<li>0.8</li>\n",
       "\t<li>1.2</li>\n",
       "\t<li>1.6</li>\n",
       "\t<li>2</li>\n",
       "\t<li>2.4</li>\n",
       "\t<li>2.8</li>\n",
       "\t<li>3.2</li>\n",
       "\t<li>3.6</li>\n",
       "\t<li>4</li>\n",
       "\t<li>4.4</li>\n",
       "\t<li>4.8</li>\n",
       "\t<li>5.2</li>\n",
       "\t<li>5.6</li>\n",
       "\t<li>6</li>\n",
       "\t<li>6.4</li>\n",
       "\t<li>6.8</li>\n",
       "\t<li>7.2</li>\n",
       "\t<li>7.6</li>\n",
       "\t<li>8</li>\n",
       "\t<li>8.4</li>\n",
       "\t<li>8.8</li>\n",
       "\t<li>9.2</li>\n",
       "\t<li>9.6</li>\n",
       "\t<li>10</li>\n",
       "</ol>\n"
      ],
      "text/latex": [
       "\\begin{enumerate*}\n",
       "\\item 0\n",
       "\\item 0.4\n",
       "\\item 0.8\n",
       "\\item 1.2\n",
       "\\item 1.6\n",
       "\\item 2\n",
       "\\item 2.4\n",
       "\\item 2.8\n",
       "\\item 3.2\n",
       "\\item 3.6\n",
       "\\item 4\n",
       "\\item 4.4\n",
       "\\item 4.8\n",
       "\\item 5.2\n",
       "\\item 5.6\n",
       "\\item 6\n",
       "\\item 6.4\n",
       "\\item 6.8\n",
       "\\item 7.2\n",
       "\\item 7.6\n",
       "\\item 8\n",
       "\\item 8.4\n",
       "\\item 8.8\n",
       "\\item 9.2\n",
       "\\item 9.6\n",
       "\\item 10\n",
       "\\end{enumerate*}\n"
      ],
      "text/markdown": [
       "1. 0\n",
       "2. 0.4\n",
       "3. 0.8\n",
       "4. 1.2\n",
       "5. 1.6\n",
       "6. 2\n",
       "7. 2.4\n",
       "8. 2.8\n",
       "9. 3.2\n",
       "10. 3.6\n",
       "11. 4\n",
       "12. 4.4\n",
       "13. 4.8\n",
       "14. 5.2\n",
       "15. 5.6\n",
       "16. 6\n",
       "17. 6.4\n",
       "18. 6.8\n",
       "19. 7.2\n",
       "20. 7.6\n",
       "21. 8\n",
       "22. 8.4\n",
       "23. 8.8\n",
       "24. 9.2\n",
       "25. 9.6\n",
       "26. 10\n",
       "\n",
       "\n"
      ],
      "text/plain": [
       " [1]  0.0  0.4  0.8  1.2  1.6  2.0  2.4  2.8  3.2  3.6  4.0  4.4  4.8  5.2  5.6\n",
       "[16]  6.0  6.4  6.8  7.2  7.6  8.0  8.4  8.8  9.2  9.6 10.0"
      ]
     },
     "metadata": {},
     "output_type": "display_data"
    }
   ],
   "source": [
    "seq(from = -1, to = 1, by = 0.2)\n",
    "seq(0, 100, length.out = 11)\n",
    "seq(0, 10, along.with = LETTERS)"
   ]
  },
  {
   "cell_type": "markdown",
   "metadata": {},
   "source": [
    "#### 2.4.1.3. Operações entre vetores\n",
    "\n",
    "A linguagem R realiza operações entre vetores de uma forma bastante peculiar. Vejamos um exemplo utilizando _z-scores_ que representa o _score_ de desvio (um _score_ menos a média) dividido pelo desvio padrão com quatro IQ _scores_"
   ]
  },
  {
   "cell_type": "code",
   "execution_count": 2,
   "metadata": {},
   "outputs": [],
   "source": [
    "## example IQ scores: mu = 100, sigma = 15\n",
    "iq <- c(86, 101, 127, 99)"
   ]
  },
  {
   "cell_type": "markdown",
   "metadata": {},
   "source": [
    "Se quisermos subtrair a média dos quatro `scores` do vetor, utilizamos apenas o seguinte trecho de código:"
   ]
  },
  {
   "cell_type": "code",
   "execution_count": 3,
   "metadata": {},
   "outputs": [
    {
     "data": {
      "text/html": [
       "<ol class=list-inline>\n",
       "\t<li>-14</li>\n",
       "\t<li>1</li>\n",
       "\t<li>27</li>\n",
       "\t<li>-1</li>\n",
       "</ol>\n"
      ],
      "text/latex": [
       "\\begin{enumerate*}\n",
       "\\item -14\n",
       "\\item 1\n",
       "\\item 27\n",
       "\\item -1\n",
       "\\end{enumerate*}\n"
      ],
      "text/markdown": [
       "1. -14\n",
       "2. 1\n",
       "3. 27\n",
       "4. -1\n",
       "\n",
       "\n"
      ],
      "text/plain": [
       "[1] -14   1  27  -1"
      ]
     },
     "metadata": {},
     "output_type": "display_data"
    }
   ],
   "source": [
    "iq - 100"
   ]
  },
  {
   "cell_type": "markdown",
   "metadata": {},
   "source": [
    "Esse comando vai subtrair 100 (a média) de cada um dos elementos do vetor. A linguagem R assume que esse é o comportamento desejado, custituindo o que se define como _vectorized operation_ , e facilita a representação de operações complexas de maneira mais eficiente.\n",
    "\n",
    "Tomemos como exemplo o cálculo dos z-scores:\n",
    "\n",
    "![Fórmula z-score](images/z-scores.png)\n",
    "\n",
    "onde X são os scores, mi a média e alfa o desvio padrão. É possível expressar a fórmula em R utilizando a seguinte sintaxe:"
   ]
  },
  {
   "cell_type": "code",
   "execution_count": 5,
   "metadata": {},
   "outputs": [
    {
     "data": {
      "text/html": [
       "<ol class=list-inline>\n",
       "\t<li>-0.933333333333333</li>\n",
       "\t<li>0.0666666666666667</li>\n",
       "\t<li>1.8</li>\n",
       "\t<li>-0.0666666666666667</li>\n",
       "</ol>\n"
      ],
      "text/latex": [
       "\\begin{enumerate*}\n",
       "\\item -0.933333333333333\n",
       "\\item 0.0666666666666667\n",
       "\\item 1.8\n",
       "\\item -0.0666666666666667\n",
       "\\end{enumerate*}\n"
      ],
      "text/markdown": [
       "1. -0.933333333333333\n",
       "2. 0.0666666666666667\n",
       "3. 1.8\n",
       "4. -0.0666666666666667\n",
       "\n",
       "\n"
      ],
      "text/plain": [
       "[1] -0.93333333  0.06666667  1.80000000 -0.06666667"
      ]
     },
     "metadata": {},
     "output_type": "display_data"
    }
   ],
   "source": [
    "## z-scores\n",
    "(iq - 100) / 15"
   ]
  },
  {
   "cell_type": "markdown",
   "metadata": {},
   "source": [
    "Assim, computamos os _z-scores_ com apenas uma linha de código.\n",
    "\n",
    "#### 2.4.1.4. Exercícios\n",
    "\n",
    "1. O vetor `letters` contém as letras do alfabeto em inglês. Utilize um vetor indexado de inteiros para extrair as letras da palavra 'cat'.\n",
    "2. A função `colors()` retorna o nome de todas as cores que o R conhece. Qual o tamanho do vetor retornado por essa função? Utilize as operações da linguagem R para encontrar a resposta.\n",
    "3. A chamada `runif(1000, 0, 1)` desenha 1000 números de uma distribuição uniforme de 0 a 1, simulando os p-valores retornados ao realizar 1000 experimentos onde a hipótese nula é verdadeira. Armazene o resultado dessa chamada na variável `pvals`. Crie um vetor lógico chamado `is_sig` que é `TRUE` se o elemento correspondente de `pvals` for menor que .05, e `FALSE` se não for. Depois, utilize esse vetor lógio para recuperar esses p-valores. Finalmente, calcule a proporção dos p-valores que foi insignificante.\n"
   ]
  },
  {
   "cell_type": "code",
   "execution_count": 1,
   "metadata": {},
   "outputs": [],
   "source": [
    "# Faça os exercícios aqui"
   ]
  },
  {
   "cell_type": "markdown",
   "metadata": {},
   "source": [
    "### 2.4.2. Listas\n",
    "\n",
    "Como informado na seção anterior, os vetores podem armazenar somente valores do mesmo tipo. O que fazer então se desejarmos armazenar uma coleção de valores com diferentes tipos? É para isso que utilizamos o tipo `list`, utilizando a função `list()`."
   ]
  },
  {
   "cell_type": "code",
   "execution_count": 6,
   "metadata": {},
   "outputs": [
    {
     "data": {
      "text/html": [
       "<ol class=list-inline>\n",
       "\t<li>'Michael_Jackson'</li>\n",
       "\t<li>'Nirvana'</li>\n",
       "</ol>\n"
      ],
      "text/latex": [
       "\\begin{enumerate*}\n",
       "\\item 'Michael\\_Jackson'\n",
       "\\item 'Nirvana'\n",
       "\\end{enumerate*}\n"
      ],
      "text/markdown": [
       "1. 'Michael_Jackson'\n",
       "2. 'Nirvana'\n",
       "\n",
       "\n"
      ],
      "text/plain": [
       "[1] \"Michael_Jackson\" \"Nirvana\"        "
      ]
     },
     "metadata": {},
     "output_type": "display_data"
    },
    {
     "data": {
      "text/html": [
       "2"
      ],
      "text/latex": [
       "2"
      ],
      "text/markdown": [
       "2"
      ],
      "text/plain": [
       "[1] 2"
      ]
     },
     "metadata": {},
     "output_type": "display_data"
    }
   ],
   "source": [
    "albums <- \n",
    "  list(\n",
    "    Michael_Jackson = c(\n",
    "      \"Off the Wall\",\n",
    "      \"Thriller\",\n",
    "      \"Bad\",\n",
    "      \"Dangerous\"\n",
    "    ),\n",
    "    Nirvana = c(\n",
    "      \"Bleach\",\n",
    "      \"Nevermind\",\n",
    "      \"In Utero\"\n",
    "    )\n",
    "  )  \n",
    "\n",
    "names(albums)\n",
    "length(albums)"
   ]
  },
  {
   "cell_type": "markdown",
   "metadata": {},
   "source": [
    "### 2.4.3. Dados tabulados\n",
    "\n",
    "A maior parte dos dados que utilizamos nas análises são **dados tabulados** , ou seja, dados oriundos de tabelas.  Estruturas de dados tabulares, como listas, permitem criar uma coleção de dados de diferentes tipos, mas restrita ao fato de que cada coluna da tabela (elemento da lista) deve ter o mesmo número de elementos. A versão em R das tabelas é chamada de `data.frame`, enquanto a versão do _tidyverse_ é chamada de `tibble`. Como os tibbles são um formato mais fácil de trabalhar, vamos focar os primeiros exemplos nessa estrutura de dados. Para conhecer melhor a diferença entre essas duas estruturas de dados, veja `vignette(\"tibble\")`.\n",
    "\n",
    "Ao criar um tibble é possível utilizar a função `tibble()` definindo o tipo de dado no momento da criação. Note que se for necessário repetir um valor, só é preciso definir um vetor com um único elemento; o R vai estender o vetor para preencher a tabela. Todas as colunas no tibble devem ter o mesmo tamanho ou tamanho 1.\n",
    "\n",
    "Para utilizar a função `tibble()`, é necessário carregar o pacote `tibble` ou o pacote `tidyverse`."
   ]
  },
  {
   "cell_type": "code",
   "execution_count": 9,
   "metadata": {},
   "outputs": [
    {
     "name": "stderr",
     "output_type": "stream",
     "text": [
      "Installing package into ‘/home/eduardo/R/lib’\n",
      "(as ‘lib’ is unspecified)\n",
      "\n",
      "── \u001b[1mAttaching packages\u001b[22m ─────────────────────────────────────── tidyverse 1.3.0 ──\n",
      "\n",
      "\u001b[32m✔\u001b[39m \u001b[34mggplot2\u001b[39m 3.2.1     \u001b[32m✔\u001b[39m \u001b[34mpurrr  \u001b[39m 0.3.3\n",
      "\u001b[32m✔\u001b[39m \u001b[34mtibble \u001b[39m 2.1.3     \u001b[32m✔\u001b[39m \u001b[34mdplyr  \u001b[39m 0.8.3\n",
      "\u001b[32m✔\u001b[39m \u001b[34mtidyr  \u001b[39m 1.0.0     \u001b[32m✔\u001b[39m \u001b[34mstringr\u001b[39m 1.4.0\n",
      "\u001b[32m✔\u001b[39m \u001b[34mreadr  \u001b[39m 1.3.1     \u001b[32m✔\u001b[39m \u001b[34mforcats\u001b[39m 0.4.0\n",
      "\n",
      "── \u001b[1mConflicts\u001b[22m ────────────────────────────────────────── tidyverse_conflicts() ──\n",
      "\u001b[31m✖\u001b[39m \u001b[34mdplyr\u001b[39m::\u001b[32mfilter()\u001b[39m masks \u001b[34mstats\u001b[39m::filter()\n",
      "\u001b[31m✖\u001b[39m \u001b[34mdplyr\u001b[39m::\u001b[32mlag()\u001b[39m    masks \u001b[34mstats\u001b[39m::lag()\n",
      "\n"
     ]
    }
   ],
   "source": [
    "install.packages(\"tidyverse\")\n",
    "library(\"tidyverse\")"
   ]
  },
  {
   "cell_type": "markdown",
   "metadata": {},
   "source": [
    "É possível obter informação a respeito das dimensões da tabela utilizando a função `ncols()` (colunas), `nrows()` (linhas) ou `dim()` (vetor com número de linhas e colunas)."
   ]
  },
  {
   "cell_type": "code",
   "execution_count": 10,
   "metadata": {},
   "outputs": [
    {
     "data": {
      "text/html": [
       "<table>\n",
       "<caption>A tibble: 12 × 2</caption>\n",
       "<thead>\n",
       "\t<tr><th scope=col>ID</th><th scope=col>name</th></tr>\n",
       "\t<tr><th scope=col>&lt;int&gt;</th><th scope=col>&lt;chr&gt;</th></tr>\n",
       "</thead>\n",
       "<tbody>\n",
       "\t<tr><td> 1</td><td>Jan</td></tr>\n",
       "\t<tr><td> 2</td><td>Feb</td></tr>\n",
       "\t<tr><td> 3</td><td>Mar</td></tr>\n",
       "\t<tr><td> 4</td><td>Apr</td></tr>\n",
       "\t<tr><td> 5</td><td>May</td></tr>\n",
       "\t<tr><td> 6</td><td>Jun</td></tr>\n",
       "\t<tr><td> 7</td><td>Jul</td></tr>\n",
       "\t<tr><td> 8</td><td>Aug</td></tr>\n",
       "\t<tr><td> 9</td><td>Sep</td></tr>\n",
       "\t<tr><td>10</td><td>Oct</td></tr>\n",
       "\t<tr><td>11</td><td>Nov</td></tr>\n",
       "\t<tr><td>12</td><td>Dec</td></tr>\n",
       "</tbody>\n",
       "</table>\n"
      ],
      "text/latex": [
       "A tibble: 12 × 2\n",
       "\\begin{tabular}{ll}\n",
       " ID & name\\\\\n",
       " <int> & <chr>\\\\\n",
       "\\hline\n",
       "\t  1 & Jan\\\\\n",
       "\t  2 & Feb\\\\\n",
       "\t  3 & Mar\\\\\n",
       "\t  4 & Apr\\\\\n",
       "\t  5 & May\\\\\n",
       "\t  6 & Jun\\\\\n",
       "\t  7 & Jul\\\\\n",
       "\t  8 & Aug\\\\\n",
       "\t  9 & Sep\\\\\n",
       "\t 10 & Oct\\\\\n",
       "\t 11 & Nov\\\\\n",
       "\t 12 & Dec\\\\\n",
       "\\end{tabular}\n"
      ],
      "text/markdown": [
       "\n",
       "A tibble: 12 × 2\n",
       "\n",
       "| ID &lt;int&gt; | name &lt;chr&gt; |\n",
       "|---|---|\n",
       "|  1 | Jan |\n",
       "|  2 | Feb |\n",
       "|  3 | Mar |\n",
       "|  4 | Apr |\n",
       "|  5 | May |\n",
       "|  6 | Jun |\n",
       "|  7 | Jul |\n",
       "|  8 | Aug |\n",
       "|  9 | Sep |\n",
       "| 10 | Oct |\n",
       "| 11 | Nov |\n",
       "| 12 | Dec |\n",
       "\n"
      ],
      "text/plain": [
       "   ID name\n",
       "1   1 Jan \n",
       "2   2 Feb \n",
       "3   3 Mar \n",
       "4   4 Apr \n",
       "5   5 May \n",
       "6   6 Jun \n",
       "7   7 Jul \n",
       "8   8 Aug \n",
       "9   9 Sep \n",
       "10 10 Oct \n",
       "11 11 Nov \n",
       "12 12 Dec "
      ]
     },
     "metadata": {},
     "output_type": "display_data"
    },
    {
     "data": {
      "text/html": [
       "12"
      ],
      "text/latex": [
       "12"
      ],
      "text/markdown": [
       "12"
      ],
      "text/plain": [
       "[1] 12"
      ]
     },
     "metadata": {},
     "output_type": "display_data"
    },
    {
     "data": {
      "text/html": [
       "2"
      ],
      "text/latex": [
       "2"
      ],
      "text/markdown": [
       "2"
      ],
      "text/plain": [
       "[1] 2"
      ]
     },
     "metadata": {},
     "output_type": "display_data"
    }
   ],
   "source": [
    "months <- tibble(ID = 1:12,\n",
    "                 name = c(\"Jan\", \"Feb\", \"Mar\", \"Apr\",\n",
    "                          \"May\", \"Jun\", \"Jul\", \"Aug\",\n",
    "                          \"Sep\", \"Oct\", \"Nov\", \"Dec\"))\n",
    "\n",
    "# print it\n",
    "months\n",
    "\n",
    "# how many rows?\n",
    "nrow(months)\n",
    "\n",
    "# how many columns?\n",
    "ncol(months)"
   ]
  },
  {
   "cell_type": "markdown",
   "metadata": {},
   "source": [
    "#### 2.4.3.2. Visualizando seu tibble\n",
    "\n",
    "Sempre visualize seus dados uma vez que tiver criado a tabela para armazená-los. Depois veja pelo menos um ubstrato das informações após cada transformação.\n",
    "\n",
    "As funções para visualização dos dados em um tibble são 3: `View()`, `print()` e `glimpse()`. Perceba que não é comum imprimir os dados em um script; normalmente trata-se de uma operação intermediária para validação das informações. \n",
    "\n",
    "O método `print()` pode ser chamado, mas também é executado ao simplesmente chamar a variável na linha de comando. Normalmente utilizamos a função `print()` quando desejamos controlar a disposição das informações.\n",
    "\n",
    "A utilização do Jupyter facilita a visualização de dados tabulados. Para exemplificar a diferença, utilizamos a tabela `starwars` que faz parte do _tidyverse_ . No console do R, somente as 10 primeiras linhas seriam visualizadas:\n",
    "\n",
    "```\n",
    "starwars\n",
    "\n",
    "## # A tibble: 87 x 13\n",
    "##    name  height  mass hair_color skin_color eye_color birth_year gender\n",
    "##    <chr>  <int> <dbl> <chr>      <chr>      <chr>          <dbl> <chr> \n",
    "##  1 Luke…    172    77 blond      fair       blue            19   male  \n",
    "##  2 C-3PO    167    75 <NA>       gold       yellow         112   <NA>  \n",
    "##  3 R2-D2     96    32 <NA>       white, bl… red             33   <NA>  \n",
    "##  4 Dart…    202   136 none       white      yellow          41.9 male  \n",
    "##  5 Leia…    150    49 brown      light      brown           19   female\n",
    "##  6 Owen…    178   120 brown, gr… light      blue            52   male  \n",
    "##  7 Beru…    165    75 brown      light      blue            47   female\n",
    "##  8 R5-D4     97    32 <NA>       white, red red             NA   <NA>  \n",
    "##  9 Bigg…    183    84 black      light      brown           24   male  \n",
    "## 10 Obi-…    182    77 auburn, w… fair       blue-gray       57   male  \n",
    "## # … with 77 more rows, and 5 more variables: homeworld <chr>, species <chr>,\n",
    "## #   films <list>, vehicles <list>, starships <list>\n",
    "```\n",
    "\n",
    "Com a utilização do Jupyter vemos os dados da tabela formatados para auxiliar a visualização:"
   ]
  },
  {
   "cell_type": "code",
   "execution_count": 11,
   "metadata": {},
   "outputs": [
    {
     "data": {
      "text/html": [
       "<table>\n",
       "<caption>A tibble: 87 × 13</caption>\n",
       "<thead>\n",
       "\t<tr><th scope=col>name</th><th scope=col>height</th><th scope=col>mass</th><th scope=col>hair_color</th><th scope=col>skin_color</th><th scope=col>eye_color</th><th scope=col>birth_year</th><th scope=col>gender</th><th scope=col>homeworld</th><th scope=col>species</th><th scope=col>films</th><th scope=col>vehicles</th><th scope=col>starships</th></tr>\n",
       "\t<tr><th scope=col>&lt;chr&gt;</th><th scope=col>&lt;int&gt;</th><th scope=col>&lt;dbl&gt;</th><th scope=col>&lt;chr&gt;</th><th scope=col>&lt;chr&gt;</th><th scope=col>&lt;chr&gt;</th><th scope=col>&lt;dbl&gt;</th><th scope=col>&lt;chr&gt;</th><th scope=col>&lt;chr&gt;</th><th scope=col>&lt;chr&gt;</th><th scope=col>&lt;list&gt;</th><th scope=col>&lt;list&gt;</th><th scope=col>&lt;list&gt;</th></tr>\n",
       "</thead>\n",
       "<tbody>\n",
       "\t<tr><td>Luke Skywalker       </td><td>172</td><td>  77.0</td><td>blond        </td><td>fair            </td><td>blue     </td><td> 19.0</td><td>male         </td><td>Tatooine  </td><td>Human         </td><td>Revenge of the Sith    , Return of the Jedi     , The Empire Strikes Back, A New Hope             , The Force Awakens      </td><td>Snowspeeder          , Imperial Speeder Bike</td><td>X-wing          , Imperial shuttle</td></tr>\n",
       "\t<tr><td>C-3PO                </td><td>167</td><td>  75.0</td><td>NA           </td><td>gold            </td><td>yellow   </td><td>112.0</td><td>NA           </td><td>Tatooine  </td><td>Droid         </td><td>Attack of the Clones   , The Phantom Menace     , Revenge of the Sith    , Return of the Jedi     , The Empire Strikes Back, A New Hope             </td><td></td><td></td></tr>\n",
       "\t<tr><td>R2-D2                </td><td> 96</td><td>  32.0</td><td>NA           </td><td>white, blue     </td><td>red      </td><td> 33.0</td><td>NA           </td><td>Naboo     </td><td>Droid         </td><td>Attack of the Clones   , The Phantom Menace     , Revenge of the Sith    , Return of the Jedi     , The Empire Strikes Back, A New Hope             , The Force Awakens      </td><td></td><td></td></tr>\n",
       "\t<tr><td>Darth Vader          </td><td>202</td><td> 136.0</td><td>none         </td><td>white           </td><td>yellow   </td><td> 41.9</td><td>male         </td><td>Tatooine  </td><td>Human         </td><td>Revenge of the Sith    , Return of the Jedi     , The Empire Strikes Back, A New Hope             </td><td></td><td>TIE Advanced x1</td></tr>\n",
       "\t<tr><td>Leia Organa          </td><td>150</td><td>  49.0</td><td>brown        </td><td>light           </td><td>brown    </td><td> 19.0</td><td>female       </td><td>Alderaan  </td><td>Human         </td><td>Revenge of the Sith    , Return of the Jedi     , The Empire Strikes Back, A New Hope             , The Force Awakens      </td><td>Imperial Speeder Bike</td><td></td></tr>\n",
       "\t<tr><td>Owen Lars            </td><td>178</td><td> 120.0</td><td>brown, grey  </td><td>light           </td><td>blue     </td><td> 52.0</td><td>male         </td><td>Tatooine  </td><td>Human         </td><td>Attack of the Clones, Revenge of the Sith , A New Hope          </td><td></td><td></td></tr>\n",
       "\t<tr><td>Beru Whitesun lars   </td><td>165</td><td>  75.0</td><td>brown        </td><td>light           </td><td>blue     </td><td> 47.0</td><td>female       </td><td>Tatooine  </td><td>Human         </td><td>Attack of the Clones, Revenge of the Sith , A New Hope          </td><td></td><td></td></tr>\n",
       "\t<tr><td>R5-D4                </td><td> 97</td><td>  32.0</td><td>NA           </td><td>white, red      </td><td>red      </td><td>   NA</td><td>NA           </td><td>Tatooine  </td><td>Droid         </td><td>A New Hope</td><td></td><td></td></tr>\n",
       "\t<tr><td>Biggs Darklighter    </td><td>183</td><td>  84.0</td><td>black        </td><td>light           </td><td>brown    </td><td> 24.0</td><td>male         </td><td>Tatooine  </td><td>Human         </td><td>A New Hope</td><td></td><td>X-wing</td></tr>\n",
       "\t<tr><td>Obi-Wan Kenobi       </td><td>182</td><td>  77.0</td><td>auburn, white</td><td>fair            </td><td>blue-gray</td><td> 57.0</td><td>male         </td><td>Stewjon   </td><td>Human         </td><td>Attack of the Clones   , The Phantom Menace     , Revenge of the Sith    , Return of the Jedi     , The Empire Strikes Back, A New Hope             </td><td>Tribubble bongo</td><td>Jedi starfighter        , Trade Federation cruiser, Naboo star skiff        , Jedi Interceptor        , Belbullab-22 starfighter</td></tr>\n",
       "\t<tr><td>Anakin Skywalker     </td><td>188</td><td>  84.0</td><td>blond        </td><td>fair            </td><td>blue     </td><td> 41.9</td><td>male         </td><td>Tatooine  </td><td>Human         </td><td>Attack of the Clones, The Phantom Menace  , Revenge of the Sith </td><td>Zephyr-G swoop bike, XJ-6 airspeeder    </td><td>Trade Federation cruiser, Jedi Interceptor        , Naboo fighter           </td></tr>\n",
       "\t<tr><td>Wilhuff Tarkin       </td><td>180</td><td>    NA</td><td>auburn, grey </td><td>fair            </td><td>blue     </td><td> 64.0</td><td>male         </td><td>Eriadu    </td><td>Human         </td><td>Revenge of the Sith, A New Hope         </td><td></td><td></td></tr>\n",
       "\t<tr><td>Chewbacca            </td><td>228</td><td> 112.0</td><td>brown        </td><td>unknown         </td><td>blue     </td><td>200.0</td><td>male         </td><td>Kashyyyk  </td><td>Wookiee       </td><td>Revenge of the Sith    , Return of the Jedi     , The Empire Strikes Back, A New Hope             , The Force Awakens      </td><td>AT-ST</td><td>Millennium Falcon, Imperial shuttle </td></tr>\n",
       "\t<tr><td>Han Solo             </td><td>180</td><td>  80.0</td><td>brown        </td><td>fair            </td><td>brown    </td><td> 29.0</td><td>male         </td><td>Corellia  </td><td>Human         </td><td>Return of the Jedi     , The Empire Strikes Back, A New Hope             , The Force Awakens      </td><td></td><td>Millennium Falcon, Imperial shuttle </td></tr>\n",
       "\t<tr><td>Greedo               </td><td>173</td><td>  74.0</td><td>NA           </td><td>green           </td><td>black    </td><td> 44.0</td><td>male         </td><td>Rodia     </td><td>Rodian        </td><td>A New Hope</td><td></td><td></td></tr>\n",
       "\t<tr><td>Jabba Desilijic Tiure</td><td>175</td><td>1358.0</td><td>NA           </td><td>green-tan, brown</td><td>orange   </td><td>600.0</td><td>hermaphrodite</td><td>Nal Hutta </td><td>Hutt          </td><td>The Phantom Menace, Return of the Jedi, A New Hope        </td><td></td><td></td></tr>\n",
       "\t<tr><td>Wedge Antilles       </td><td>170</td><td>  77.0</td><td>brown        </td><td>fair            </td><td>hazel    </td><td> 21.0</td><td>male         </td><td>Corellia  </td><td>Human         </td><td>Return of the Jedi     , The Empire Strikes Back, A New Hope             </td><td>Snowspeeder</td><td>X-wing</td></tr>\n",
       "\t<tr><td>Jek Tono Porkins     </td><td>180</td><td> 110.0</td><td>brown        </td><td>fair            </td><td>blue     </td><td>   NA</td><td>male         </td><td>Bestine IV</td><td>Human         </td><td>A New Hope</td><td></td><td>X-wing</td></tr>\n",
       "\t<tr><td>Yoda                 </td><td> 66</td><td>  17.0</td><td>white        </td><td>green           </td><td>brown    </td><td>896.0</td><td>male         </td><td>NA        </td><td>Yoda's species</td><td>Attack of the Clones   , The Phantom Menace     , Revenge of the Sith    , Return of the Jedi     , The Empire Strikes Back</td><td></td><td></td></tr>\n",
       "\t<tr><td>Palpatine            </td><td>170</td><td>  75.0</td><td>grey         </td><td>pale            </td><td>yellow   </td><td> 82.0</td><td>male         </td><td>Naboo     </td><td>Human         </td><td>Attack of the Clones   , The Phantom Menace     , Revenge of the Sith    , Return of the Jedi     , The Empire Strikes Back</td><td></td><td></td></tr>\n",
       "\t<tr><td>Boba Fett            </td><td>183</td><td>  78.2</td><td>black        </td><td>fair            </td><td>brown    </td><td> 31.5</td><td>male         </td><td>Kamino    </td><td>Human         </td><td>Attack of the Clones   , Return of the Jedi     , The Empire Strikes Back</td><td></td><td>Slave 1</td></tr>\n",
       "\t<tr><td>IG-88                </td><td>200</td><td> 140.0</td><td>none         </td><td>metal           </td><td>red      </td><td> 15.0</td><td>none         </td><td>NA        </td><td>Droid         </td><td>The Empire Strikes Back</td><td></td><td></td></tr>\n",
       "\t<tr><td>Bossk                </td><td>190</td><td> 113.0</td><td>none         </td><td>green           </td><td>red      </td><td> 53.0</td><td>male         </td><td>Trandosha </td><td>Trandoshan    </td><td>The Empire Strikes Back</td><td></td><td></td></tr>\n",
       "\t<tr><td>Lando Calrissian     </td><td>177</td><td>  79.0</td><td>black        </td><td>dark            </td><td>brown    </td><td> 31.0</td><td>male         </td><td>Socorro   </td><td>Human         </td><td>Return of the Jedi     , The Empire Strikes Back</td><td></td><td>Millennium Falcon</td></tr>\n",
       "\t<tr><td>Lobot                </td><td>175</td><td>  79.0</td><td>none         </td><td>light           </td><td>blue     </td><td> 37.0</td><td>male         </td><td>Bespin    </td><td>Human         </td><td>The Empire Strikes Back</td><td></td><td></td></tr>\n",
       "\t<tr><td>Ackbar               </td><td>180</td><td>  83.0</td><td>none         </td><td>brown mottle    </td><td>orange   </td><td> 41.0</td><td>male         </td><td>Mon Cala  </td><td>Mon Calamari  </td><td>Return of the Jedi, The Force Awakens </td><td></td><td></td></tr>\n",
       "\t<tr><td>Mon Mothma           </td><td>150</td><td>    NA</td><td>auburn       </td><td>fair            </td><td>blue     </td><td> 48.0</td><td>female       </td><td>Chandrila </td><td>Human         </td><td>Return of the Jedi</td><td></td><td></td></tr>\n",
       "\t<tr><td>Arvel Crynyd         </td><td> NA</td><td>    NA</td><td>brown        </td><td>fair            </td><td>brown    </td><td>   NA</td><td>male         </td><td>NA        </td><td>Human         </td><td>Return of the Jedi</td><td></td><td>A-wing</td></tr>\n",
       "\t<tr><td>Wicket Systri Warrick</td><td> 88</td><td>  20.0</td><td>brown        </td><td>brown           </td><td>brown    </td><td>  8.0</td><td>male         </td><td>Endor     </td><td>Ewok          </td><td>Return of the Jedi</td><td></td><td></td></tr>\n",
       "\t<tr><td>Nien Nunb            </td><td>160</td><td>  68.0</td><td>none         </td><td>grey            </td><td>black    </td><td>   NA</td><td>male         </td><td>Sullust   </td><td>Sullustan     </td><td>Return of the Jedi</td><td></td><td>Millennium Falcon</td></tr>\n",
       "\t<tr><td>⋮</td><td>⋮</td><td>⋮</td><td>⋮</td><td>⋮</td><td>⋮</td><td>⋮</td><td>⋮</td><td>⋮</td><td>⋮</td><td>⋮</td><td>⋮</td><td>⋮</td></tr>\n",
       "\t<tr><td>Cordé              </td><td>157</td><td>   NA</td><td>brown  </td><td>light              </td><td>brown        </td><td> NA</td><td>female</td><td>Naboo       </td><td>Human    </td><td>Attack of the Clones</td><td></td><td></td></tr>\n",
       "\t<tr><td>Cliegg Lars        </td><td>183</td><td>   NA</td><td>brown  </td><td>fair               </td><td>blue         </td><td> 82</td><td>male  </td><td>Tatooine    </td><td>Human    </td><td>Attack of the Clones</td><td></td><td></td></tr>\n",
       "\t<tr><td>Poggle the Lesser  </td><td>183</td><td> 80.0</td><td>none   </td><td>green              </td><td>yellow       </td><td> NA</td><td>male  </td><td>Geonosis    </td><td>Geonosian</td><td>Attack of the Clones, Revenge of the Sith </td><td></td><td></td></tr>\n",
       "\t<tr><td>Luminara Unduli    </td><td>170</td><td> 56.2</td><td>black  </td><td>yellow             </td><td>blue         </td><td> 58</td><td>female</td><td>Mirial      </td><td>Mirialan </td><td>Attack of the Clones, Revenge of the Sith </td><td></td><td></td></tr>\n",
       "\t<tr><td>Barriss Offee      </td><td>166</td><td> 50.0</td><td>black  </td><td>yellow             </td><td>blue         </td><td> 40</td><td>female</td><td>Mirial      </td><td>Mirialan </td><td>Attack of the Clones</td><td></td><td></td></tr>\n",
       "\t<tr><td>Dormé              </td><td>165</td><td>   NA</td><td>brown  </td><td>light              </td><td>brown        </td><td> NA</td><td>female</td><td>Naboo       </td><td>Human    </td><td>Attack of the Clones</td><td></td><td></td></tr>\n",
       "\t<tr><td>Dooku              </td><td>193</td><td> 80.0</td><td>white  </td><td>fair               </td><td>brown        </td><td>102</td><td>male  </td><td>Serenno     </td><td>Human    </td><td>Attack of the Clones, Revenge of the Sith </td><td>Flitknot speeder</td><td></td></tr>\n",
       "\t<tr><td>Bail Prestor Organa</td><td>191</td><td>   NA</td><td>black  </td><td>tan                </td><td>brown        </td><td> 67</td><td>male  </td><td>Alderaan    </td><td>Human    </td><td>Attack of the Clones, Revenge of the Sith </td><td></td><td></td></tr>\n",
       "\t<tr><td>Jango Fett         </td><td>183</td><td> 79.0</td><td>black  </td><td>tan                </td><td>brown        </td><td> 66</td><td>male  </td><td>Concord Dawn</td><td>Human    </td><td>Attack of the Clones</td><td></td><td></td></tr>\n",
       "\t<tr><td>Zam Wesell         </td><td>168</td><td> 55.0</td><td>blonde </td><td>fair, green, yellow</td><td>yellow       </td><td> NA</td><td>female</td><td>Zolan       </td><td>Clawdite </td><td>Attack of the Clones</td><td>Koro-2 Exodrive airspeeder</td><td></td></tr>\n",
       "\t<tr><td>Dexter Jettster    </td><td>198</td><td>102.0</td><td>none   </td><td>brown              </td><td>yellow       </td><td> NA</td><td>male  </td><td>Ojom        </td><td>Besalisk </td><td>Attack of the Clones</td><td></td><td></td></tr>\n",
       "\t<tr><td>Lama Su            </td><td>229</td><td> 88.0</td><td>none   </td><td>grey               </td><td>black        </td><td> NA</td><td>male  </td><td>Kamino      </td><td>Kaminoan </td><td>Attack of the Clones</td><td></td><td></td></tr>\n",
       "\t<tr><td>Taun We            </td><td>213</td><td>   NA</td><td>none   </td><td>grey               </td><td>black        </td><td> NA</td><td>female</td><td>Kamino      </td><td>Kaminoan </td><td>Attack of the Clones</td><td></td><td></td></tr>\n",
       "\t<tr><td>Jocasta Nu         </td><td>167</td><td>   NA</td><td>white  </td><td>fair               </td><td>blue         </td><td> NA</td><td>female</td><td>Coruscant   </td><td>Human    </td><td>Attack of the Clones</td><td></td><td></td></tr>\n",
       "\t<tr><td>Ratts Tyerell      </td><td> 79</td><td> 15.0</td><td>none   </td><td>grey, blue         </td><td>unknown      </td><td> NA</td><td>male  </td><td>Aleen Minor </td><td>Aleena   </td><td>The Phantom Menace</td><td></td><td></td></tr>\n",
       "\t<tr><td>R4-P17             </td><td> 96</td><td>   NA</td><td>none   </td><td>silver, red        </td><td>red, blue    </td><td> NA</td><td>female</td><td>NA          </td><td>NA       </td><td>Attack of the Clones, Revenge of the Sith </td><td></td><td></td></tr>\n",
       "\t<tr><td>Wat Tambor         </td><td>193</td><td> 48.0</td><td>none   </td><td>green, grey        </td><td>unknown      </td><td> NA</td><td>male  </td><td>Skako       </td><td>Skakoan  </td><td>Attack of the Clones</td><td></td><td></td></tr>\n",
       "\t<tr><td>San Hill           </td><td>191</td><td>   NA</td><td>none   </td><td>grey               </td><td>gold         </td><td> NA</td><td>male  </td><td>Muunilinst  </td><td>Muun     </td><td>Attack of the Clones</td><td></td><td></td></tr>\n",
       "\t<tr><td>Shaak Ti           </td><td>178</td><td> 57.0</td><td>none   </td><td>red, blue, white   </td><td>black        </td><td> NA</td><td>female</td><td>Shili       </td><td>Togruta  </td><td>Attack of the Clones, Revenge of the Sith </td><td></td><td></td></tr>\n",
       "\t<tr><td>Grievous           </td><td>216</td><td>159.0</td><td>none   </td><td>brown, white       </td><td>green, yellow</td><td> NA</td><td>male  </td><td>Kalee       </td><td>Kaleesh  </td><td>Revenge of the Sith</td><td>Tsmeu-6 personal wheel bike</td><td>Belbullab-22 starfighter</td></tr>\n",
       "\t<tr><td>Tarfful            </td><td>234</td><td>136.0</td><td>brown  </td><td>brown              </td><td>blue         </td><td> NA</td><td>male  </td><td>Kashyyyk    </td><td>Wookiee  </td><td>Revenge of the Sith</td><td></td><td></td></tr>\n",
       "\t<tr><td>Raymus Antilles    </td><td>188</td><td> 79.0</td><td>brown  </td><td>light              </td><td>brown        </td><td> NA</td><td>male  </td><td>Alderaan    </td><td>Human    </td><td>Revenge of the Sith, A New Hope         </td><td></td><td></td></tr>\n",
       "\t<tr><td>Sly Moore          </td><td>178</td><td> 48.0</td><td>none   </td><td>pale               </td><td>white        </td><td> NA</td><td>female</td><td>Umbara      </td><td>NA       </td><td>Attack of the Clones, Revenge of the Sith </td><td></td><td></td></tr>\n",
       "\t<tr><td>Tion Medon         </td><td>206</td><td> 80.0</td><td>none   </td><td>grey               </td><td>black        </td><td> NA</td><td>male  </td><td>Utapau      </td><td>Pau'an   </td><td>Revenge of the Sith</td><td></td><td></td></tr>\n",
       "\t<tr><td>Finn               </td><td> NA</td><td>   NA</td><td>black  </td><td>dark               </td><td>dark         </td><td> NA</td><td>male  </td><td>NA          </td><td>Human    </td><td>The Force Awakens</td><td></td><td></td></tr>\n",
       "\t<tr><td>Rey                </td><td> NA</td><td>   NA</td><td>brown  </td><td>light              </td><td>hazel        </td><td> NA</td><td>female</td><td>NA          </td><td>Human    </td><td>The Force Awakens</td><td></td><td></td></tr>\n",
       "\t<tr><td>Poe Dameron        </td><td> NA</td><td>   NA</td><td>brown  </td><td>light              </td><td>brown        </td><td> NA</td><td>male  </td><td>NA          </td><td>Human    </td><td>The Force Awakens</td><td></td><td>T-70 X-wing fighter</td></tr>\n",
       "\t<tr><td>BB8                </td><td> NA</td><td>   NA</td><td>none   </td><td>none               </td><td>black        </td><td> NA</td><td>none  </td><td>NA          </td><td>Droid    </td><td>The Force Awakens</td><td></td><td></td></tr>\n",
       "\t<tr><td>Captain Phasma     </td><td> NA</td><td>   NA</td><td>unknown</td><td>unknown            </td><td>unknown      </td><td> NA</td><td>female</td><td>NA          </td><td>NA       </td><td>The Force Awakens</td><td></td><td></td></tr>\n",
       "\t<tr><td>Padmé Amidala      </td><td>165</td><td> 45.0</td><td>brown  </td><td>light              </td><td>brown        </td><td> 46</td><td>female</td><td>Naboo       </td><td>Human    </td><td>Attack of the Clones, The Phantom Menace  , Revenge of the Sith </td><td></td><td>H-type Nubian yacht, Naboo star skiff   , Naboo fighter      </td></tr>\n",
       "</tbody>\n",
       "</table>\n"
      ],
      "text/latex": [
       "A tibble: 87 × 13\n",
       "\\begin{tabular}{lllllllllllll}\n",
       " name & height & mass & hair\\_color & skin\\_color & eye\\_color & birth\\_year & gender & homeworld & species & films & vehicles & starships\\\\\n",
       " <chr> & <int> & <dbl> & <chr> & <chr> & <chr> & <dbl> & <chr> & <chr> & <chr> & <list> & <list> & <list>\\\\\n",
       "\\hline\n",
       "\t Luke Skywalker        & 172 &   77.0 & blond         & fair             & blue      &  19.0 & male          & Tatooine   & Human          & Revenge of the Sith    , Return of the Jedi     , The Empire Strikes Back, A New Hope             , The Force Awakens       & Snowspeeder          , Imperial Speeder Bike & X-wing          , Imperial shuttle\\\\\n",
       "\t C-3PO                 & 167 &   75.0 & NA            & gold             & yellow    & 112.0 & NA            & Tatooine   & Droid          & Attack of the Clones   , The Phantom Menace     , Revenge of the Sith    , Return of the Jedi     , The Empire Strikes Back, A New Hope              &  & \\\\\n",
       "\t R2-D2                 &  96 &   32.0 & NA            & white, blue      & red       &  33.0 & NA            & Naboo      & Droid          & Attack of the Clones   , The Phantom Menace     , Revenge of the Sith    , Return of the Jedi     , The Empire Strikes Back, A New Hope             , The Force Awakens       &  & \\\\\n",
       "\t Darth Vader           & 202 &  136.0 & none          & white            & yellow    &  41.9 & male          & Tatooine   & Human          & Revenge of the Sith    , Return of the Jedi     , The Empire Strikes Back, A New Hope              &  & TIE Advanced x1\\\\\n",
       "\t Leia Organa           & 150 &   49.0 & brown         & light            & brown     &  19.0 & female        & Alderaan   & Human          & Revenge of the Sith    , Return of the Jedi     , The Empire Strikes Back, A New Hope             , The Force Awakens       & Imperial Speeder Bike & \\\\\n",
       "\t Owen Lars             & 178 &  120.0 & brown, grey   & light            & blue      &  52.0 & male          & Tatooine   & Human          & Attack of the Clones, Revenge of the Sith , A New Hope           &  & \\\\\n",
       "\t Beru Whitesun lars    & 165 &   75.0 & brown         & light            & blue      &  47.0 & female        & Tatooine   & Human          & Attack of the Clones, Revenge of the Sith , A New Hope           &  & \\\\\n",
       "\t R5-D4                 &  97 &   32.0 & NA            & white, red       & red       &    NA & NA            & Tatooine   & Droid          & A New Hope &  & \\\\\n",
       "\t Biggs Darklighter     & 183 &   84.0 & black         & light            & brown     &  24.0 & male          & Tatooine   & Human          & A New Hope &  & X-wing\\\\\n",
       "\t Obi-Wan Kenobi        & 182 &   77.0 & auburn, white & fair             & blue-gray &  57.0 & male          & Stewjon    & Human          & Attack of the Clones   , The Phantom Menace     , Revenge of the Sith    , Return of the Jedi     , The Empire Strikes Back, A New Hope              & Tribubble bongo & Jedi starfighter        , Trade Federation cruiser, Naboo star skiff        , Jedi Interceptor        , Belbullab-22 starfighter\\\\\n",
       "\t Anakin Skywalker      & 188 &   84.0 & blond         & fair             & blue      &  41.9 & male          & Tatooine   & Human          & Attack of the Clones, The Phantom Menace  , Revenge of the Sith  & Zephyr-G swoop bike, XJ-6 airspeeder     & Trade Federation cruiser, Jedi Interceptor        , Naboo fighter           \\\\\n",
       "\t Wilhuff Tarkin        & 180 &     NA & auburn, grey  & fair             & blue      &  64.0 & male          & Eriadu     & Human          & Revenge of the Sith, A New Hope          &  & \\\\\n",
       "\t Chewbacca             & 228 &  112.0 & brown         & unknown          & blue      & 200.0 & male          & Kashyyyk   & Wookiee        & Revenge of the Sith    , Return of the Jedi     , The Empire Strikes Back, A New Hope             , The Force Awakens       & AT-ST & Millennium Falcon, Imperial shuttle \\\\\n",
       "\t Han Solo              & 180 &   80.0 & brown         & fair             & brown     &  29.0 & male          & Corellia   & Human          & Return of the Jedi     , The Empire Strikes Back, A New Hope             , The Force Awakens       &  & Millennium Falcon, Imperial shuttle \\\\\n",
       "\t Greedo                & 173 &   74.0 & NA            & green            & black     &  44.0 & male          & Rodia      & Rodian         & A New Hope &  & \\\\\n",
       "\t Jabba Desilijic Tiure & 175 & 1358.0 & NA            & green-tan, brown & orange    & 600.0 & hermaphrodite & Nal Hutta  & Hutt           & The Phantom Menace, Return of the Jedi, A New Hope         &  & \\\\\n",
       "\t Wedge Antilles        & 170 &   77.0 & brown         & fair             & hazel     &  21.0 & male          & Corellia   & Human          & Return of the Jedi     , The Empire Strikes Back, A New Hope              & Snowspeeder & X-wing\\\\\n",
       "\t Jek Tono Porkins      & 180 &  110.0 & brown         & fair             & blue      &    NA & male          & Bestine IV & Human          & A New Hope &  & X-wing\\\\\n",
       "\t Yoda                  &  66 &   17.0 & white         & green            & brown     & 896.0 & male          & NA         & Yoda's species & Attack of the Clones   , The Phantom Menace     , Revenge of the Sith    , Return of the Jedi     , The Empire Strikes Back &  & \\\\\n",
       "\t Palpatine             & 170 &   75.0 & grey          & pale             & yellow    &  82.0 & male          & Naboo      & Human          & Attack of the Clones   , The Phantom Menace     , Revenge of the Sith    , Return of the Jedi     , The Empire Strikes Back &  & \\\\\n",
       "\t Boba Fett             & 183 &   78.2 & black         & fair             & brown     &  31.5 & male          & Kamino     & Human          & Attack of the Clones   , Return of the Jedi     , The Empire Strikes Back &  & Slave 1\\\\\n",
       "\t IG-88                 & 200 &  140.0 & none          & metal            & red       &  15.0 & none          & NA         & Droid          & The Empire Strikes Back &  & \\\\\n",
       "\t Bossk                 & 190 &  113.0 & none          & green            & red       &  53.0 & male          & Trandosha  & Trandoshan     & The Empire Strikes Back &  & \\\\\n",
       "\t Lando Calrissian      & 177 &   79.0 & black         & dark             & brown     &  31.0 & male          & Socorro    & Human          & Return of the Jedi     , The Empire Strikes Back &  & Millennium Falcon\\\\\n",
       "\t Lobot                 & 175 &   79.0 & none          & light            & blue      &  37.0 & male          & Bespin     & Human          & The Empire Strikes Back &  & \\\\\n",
       "\t Ackbar                & 180 &   83.0 & none          & brown mottle     & orange    &  41.0 & male          & Mon Cala   & Mon Calamari   & Return of the Jedi, The Force Awakens  &  & \\\\\n",
       "\t Mon Mothma            & 150 &     NA & auburn        & fair             & blue      &  48.0 & female        & Chandrila  & Human          & Return of the Jedi &  & \\\\\n",
       "\t Arvel Crynyd          &  NA &     NA & brown         & fair             & brown     &    NA & male          & NA         & Human          & Return of the Jedi &  & A-wing\\\\\n",
       "\t Wicket Systri Warrick &  88 &   20.0 & brown         & brown            & brown     &   8.0 & male          & Endor      & Ewok           & Return of the Jedi &  & \\\\\n",
       "\t Nien Nunb             & 160 &   68.0 & none          & grey             & black     &    NA & male          & Sullust    & Sullustan      & Return of the Jedi &  & Millennium Falcon\\\\\n",
       "\t ⋮ & ⋮ & ⋮ & ⋮ & ⋮ & ⋮ & ⋮ & ⋮ & ⋮ & ⋮ & ⋮ & ⋮ & ⋮\\\\\n",
       "\t Cordé               & 157 &    NA & brown   & light               & brown         &  NA & female & Naboo        & Human     & Attack of the Clones &  & \\\\\n",
       "\t Cliegg Lars         & 183 &    NA & brown   & fair                & blue          &  82 & male   & Tatooine     & Human     & Attack of the Clones &  & \\\\\n",
       "\t Poggle the Lesser   & 183 &  80.0 & none    & green               & yellow        &  NA & male   & Geonosis     & Geonosian & Attack of the Clones, Revenge of the Sith  &  & \\\\\n",
       "\t Luminara Unduli     & 170 &  56.2 & black   & yellow              & blue          &  58 & female & Mirial       & Mirialan  & Attack of the Clones, Revenge of the Sith  &  & \\\\\n",
       "\t Barriss Offee       & 166 &  50.0 & black   & yellow              & blue          &  40 & female & Mirial       & Mirialan  & Attack of the Clones &  & \\\\\n",
       "\t Dormé               & 165 &    NA & brown   & light               & brown         &  NA & female & Naboo        & Human     & Attack of the Clones &  & \\\\\n",
       "\t Dooku               & 193 &  80.0 & white   & fair                & brown         & 102 & male   & Serenno      & Human     & Attack of the Clones, Revenge of the Sith  & Flitknot speeder & \\\\\n",
       "\t Bail Prestor Organa & 191 &    NA & black   & tan                 & brown         &  67 & male   & Alderaan     & Human     & Attack of the Clones, Revenge of the Sith  &  & \\\\\n",
       "\t Jango Fett          & 183 &  79.0 & black   & tan                 & brown         &  66 & male   & Concord Dawn & Human     & Attack of the Clones &  & \\\\\n",
       "\t Zam Wesell          & 168 &  55.0 & blonde  & fair, green, yellow & yellow        &  NA & female & Zolan        & Clawdite  & Attack of the Clones & Koro-2 Exodrive airspeeder & \\\\\n",
       "\t Dexter Jettster     & 198 & 102.0 & none    & brown               & yellow        &  NA & male   & Ojom         & Besalisk  & Attack of the Clones &  & \\\\\n",
       "\t Lama Su             & 229 &  88.0 & none    & grey                & black         &  NA & male   & Kamino       & Kaminoan  & Attack of the Clones &  & \\\\\n",
       "\t Taun We             & 213 &    NA & none    & grey                & black         &  NA & female & Kamino       & Kaminoan  & Attack of the Clones &  & \\\\\n",
       "\t Jocasta Nu          & 167 &    NA & white   & fair                & blue          &  NA & female & Coruscant    & Human     & Attack of the Clones &  & \\\\\n",
       "\t Ratts Tyerell       &  79 &  15.0 & none    & grey, blue          & unknown       &  NA & male   & Aleen Minor  & Aleena    & The Phantom Menace &  & \\\\\n",
       "\t R4-P17              &  96 &    NA & none    & silver, red         & red, blue     &  NA & female & NA           & NA        & Attack of the Clones, Revenge of the Sith  &  & \\\\\n",
       "\t Wat Tambor          & 193 &  48.0 & none    & green, grey         & unknown       &  NA & male   & Skako        & Skakoan   & Attack of the Clones &  & \\\\\n",
       "\t San Hill            & 191 &    NA & none    & grey                & gold          &  NA & male   & Muunilinst   & Muun      & Attack of the Clones &  & \\\\\n",
       "\t Shaak Ti            & 178 &  57.0 & none    & red, blue, white    & black         &  NA & female & Shili        & Togruta   & Attack of the Clones, Revenge of the Sith  &  & \\\\\n",
       "\t Grievous            & 216 & 159.0 & none    & brown, white        & green, yellow &  NA & male   & Kalee        & Kaleesh   & Revenge of the Sith & Tsmeu-6 personal wheel bike & Belbullab-22 starfighter\\\\\n",
       "\t Tarfful             & 234 & 136.0 & brown   & brown               & blue          &  NA & male   & Kashyyyk     & Wookiee   & Revenge of the Sith &  & \\\\\n",
       "\t Raymus Antilles     & 188 &  79.0 & brown   & light               & brown         &  NA & male   & Alderaan     & Human     & Revenge of the Sith, A New Hope          &  & \\\\\n",
       "\t Sly Moore           & 178 &  48.0 & none    & pale                & white         &  NA & female & Umbara       & NA        & Attack of the Clones, Revenge of the Sith  &  & \\\\\n",
       "\t Tion Medon          & 206 &  80.0 & none    & grey                & black         &  NA & male   & Utapau       & Pau'an    & Revenge of the Sith &  & \\\\\n",
       "\t Finn                &  NA &    NA & black   & dark                & dark          &  NA & male   & NA           & Human     & The Force Awakens &  & \\\\\n",
       "\t Rey                 &  NA &    NA & brown   & light               & hazel         &  NA & female & NA           & Human     & The Force Awakens &  & \\\\\n",
       "\t Poe Dameron         &  NA &    NA & brown   & light               & brown         &  NA & male   & NA           & Human     & The Force Awakens &  & T-70 X-wing fighter\\\\\n",
       "\t BB8                 &  NA &    NA & none    & none                & black         &  NA & none   & NA           & Droid     & The Force Awakens &  & \\\\\n",
       "\t Captain Phasma      &  NA &    NA & unknown & unknown             & unknown       &  NA & female & NA           & NA        & The Force Awakens &  & \\\\\n",
       "\t Padmé Amidala       & 165 &  45.0 & brown   & light               & brown         &  46 & female & Naboo        & Human     & Attack of the Clones, The Phantom Menace  , Revenge of the Sith  &  & H-type Nubian yacht, Naboo star skiff   , Naboo fighter      \\\\\n",
       "\\end{tabular}\n"
      ],
      "text/markdown": [
       "\n",
       "A tibble: 87 × 13\n",
       "\n",
       "| name &lt;chr&gt; | height &lt;int&gt; | mass &lt;dbl&gt; | hair_color &lt;chr&gt; | skin_color &lt;chr&gt; | eye_color &lt;chr&gt; | birth_year &lt;dbl&gt; | gender &lt;chr&gt; | homeworld &lt;chr&gt; | species &lt;chr&gt; | films &lt;list&gt; | vehicles &lt;list&gt; | starships &lt;list&gt; |\n",
       "|---|---|---|---|---|---|---|---|---|---|---|---|---|\n",
       "| Luke Skywalker        | 172 |   77.0 | blond         | fair             | blue      |  19.0 | male          | Tatooine   | Human          | Revenge of the Sith    , Return of the Jedi     , The Empire Strikes Back, A New Hope             , The Force Awakens       | Snowspeeder          , Imperial Speeder Bike | X-wing          , Imperial shuttle |\n",
       "| C-3PO                 | 167 |   75.0 | NA            | gold             | yellow    | 112.0 | NA            | Tatooine   | Droid          | Attack of the Clones   , The Phantom Menace     , Revenge of the Sith    , Return of the Jedi     , The Empire Strikes Back, A New Hope              | <!----> | <!----> |\n",
       "| R2-D2                 |  96 |   32.0 | NA            | white, blue      | red       |  33.0 | NA            | Naboo      | Droid          | Attack of the Clones   , The Phantom Menace     , Revenge of the Sith    , Return of the Jedi     , The Empire Strikes Back, A New Hope             , The Force Awakens       | <!----> | <!----> |\n",
       "| Darth Vader           | 202 |  136.0 | none          | white            | yellow    |  41.9 | male          | Tatooine   | Human          | Revenge of the Sith    , Return of the Jedi     , The Empire Strikes Back, A New Hope              | <!----> | TIE Advanced x1 |\n",
       "| Leia Organa           | 150 |   49.0 | brown         | light            | brown     |  19.0 | female        | Alderaan   | Human          | Revenge of the Sith    , Return of the Jedi     , The Empire Strikes Back, A New Hope             , The Force Awakens       | Imperial Speeder Bike | <!----> |\n",
       "| Owen Lars             | 178 |  120.0 | brown, grey   | light            | blue      |  52.0 | male          | Tatooine   | Human          | Attack of the Clones, Revenge of the Sith , A New Hope           | <!----> | <!----> |\n",
       "| Beru Whitesun lars    | 165 |   75.0 | brown         | light            | blue      |  47.0 | female        | Tatooine   | Human          | Attack of the Clones, Revenge of the Sith , A New Hope           | <!----> | <!----> |\n",
       "| R5-D4                 |  97 |   32.0 | NA            | white, red       | red       |    NA | NA            | Tatooine   | Droid          | A New Hope | <!----> | <!----> |\n",
       "| Biggs Darklighter     | 183 |   84.0 | black         | light            | brown     |  24.0 | male          | Tatooine   | Human          | A New Hope | <!----> | X-wing |\n",
       "| Obi-Wan Kenobi        | 182 |   77.0 | auburn, white | fair             | blue-gray |  57.0 | male          | Stewjon    | Human          | Attack of the Clones   , The Phantom Menace     , Revenge of the Sith    , Return of the Jedi     , The Empire Strikes Back, A New Hope              | Tribubble bongo | Jedi starfighter        , Trade Federation cruiser, Naboo star skiff        , Jedi Interceptor        , Belbullab-22 starfighter |\n",
       "| Anakin Skywalker      | 188 |   84.0 | blond         | fair             | blue      |  41.9 | male          | Tatooine   | Human          | Attack of the Clones, The Phantom Menace  , Revenge of the Sith  | Zephyr-G swoop bike, XJ-6 airspeeder     | Trade Federation cruiser, Jedi Interceptor        , Naboo fighter            |\n",
       "| Wilhuff Tarkin        | 180 |     NA | auburn, grey  | fair             | blue      |  64.0 | male          | Eriadu     | Human          | Revenge of the Sith, A New Hope          | <!----> | <!----> |\n",
       "| Chewbacca             | 228 |  112.0 | brown         | unknown          | blue      | 200.0 | male          | Kashyyyk   | Wookiee        | Revenge of the Sith    , Return of the Jedi     , The Empire Strikes Back, A New Hope             , The Force Awakens       | AT-ST | Millennium Falcon, Imperial shuttle  |\n",
       "| Han Solo              | 180 |   80.0 | brown         | fair             | brown     |  29.0 | male          | Corellia   | Human          | Return of the Jedi     , The Empire Strikes Back, A New Hope             , The Force Awakens       | <!----> | Millennium Falcon, Imperial shuttle  |\n",
       "| Greedo                | 173 |   74.0 | NA            | green            | black     |  44.0 | male          | Rodia      | Rodian         | A New Hope | <!----> | <!----> |\n",
       "| Jabba Desilijic Tiure | 175 | 1358.0 | NA            | green-tan, brown | orange    | 600.0 | hermaphrodite | Nal Hutta  | Hutt           | The Phantom Menace, Return of the Jedi, A New Hope         | <!----> | <!----> |\n",
       "| Wedge Antilles        | 170 |   77.0 | brown         | fair             | hazel     |  21.0 | male          | Corellia   | Human          | Return of the Jedi     , The Empire Strikes Back, A New Hope              | Snowspeeder | X-wing |\n",
       "| Jek Tono Porkins      | 180 |  110.0 | brown         | fair             | blue      |    NA | male          | Bestine IV | Human          | A New Hope | <!----> | X-wing |\n",
       "| Yoda                  |  66 |   17.0 | white         | green            | brown     | 896.0 | male          | NA         | Yoda's species | Attack of the Clones   , The Phantom Menace     , Revenge of the Sith    , Return of the Jedi     , The Empire Strikes Back | <!----> | <!----> |\n",
       "| Palpatine             | 170 |   75.0 | grey          | pale             | yellow    |  82.0 | male          | Naboo      | Human          | Attack of the Clones   , The Phantom Menace     , Revenge of the Sith    , Return of the Jedi     , The Empire Strikes Back | <!----> | <!----> |\n",
       "| Boba Fett             | 183 |   78.2 | black         | fair             | brown     |  31.5 | male          | Kamino     | Human          | Attack of the Clones   , Return of the Jedi     , The Empire Strikes Back | <!----> | Slave 1 |\n",
       "| IG-88                 | 200 |  140.0 | none          | metal            | red       |  15.0 | none          | NA         | Droid          | The Empire Strikes Back | <!----> | <!----> |\n",
       "| Bossk                 | 190 |  113.0 | none          | green            | red       |  53.0 | male          | Trandosha  | Trandoshan     | The Empire Strikes Back | <!----> | <!----> |\n",
       "| Lando Calrissian      | 177 |   79.0 | black         | dark             | brown     |  31.0 | male          | Socorro    | Human          | Return of the Jedi     , The Empire Strikes Back | <!----> | Millennium Falcon |\n",
       "| Lobot                 | 175 |   79.0 | none          | light            | blue      |  37.0 | male          | Bespin     | Human          | The Empire Strikes Back | <!----> | <!----> |\n",
       "| Ackbar                | 180 |   83.0 | none          | brown mottle     | orange    |  41.0 | male          | Mon Cala   | Mon Calamari   | Return of the Jedi, The Force Awakens  | <!----> | <!----> |\n",
       "| Mon Mothma            | 150 |     NA | auburn        | fair             | blue      |  48.0 | female        | Chandrila  | Human          | Return of the Jedi | <!----> | <!----> |\n",
       "| Arvel Crynyd          |  NA |     NA | brown         | fair             | brown     |    NA | male          | NA         | Human          | Return of the Jedi | <!----> | A-wing |\n",
       "| Wicket Systri Warrick |  88 |   20.0 | brown         | brown            | brown     |   8.0 | male          | Endor      | Ewok           | Return of the Jedi | <!----> | <!----> |\n",
       "| Nien Nunb             | 160 |   68.0 | none          | grey             | black     |    NA | male          | Sullust    | Sullustan      | Return of the Jedi | <!----> | Millennium Falcon |\n",
       "| ⋮ | ⋮ | ⋮ | ⋮ | ⋮ | ⋮ | ⋮ | ⋮ | ⋮ | ⋮ | ⋮ | ⋮ | ⋮ |\n",
       "| Cordé               | 157 |    NA | brown   | light               | brown         |  NA | female | Naboo        | Human     | Attack of the Clones | <!----> | <!----> |\n",
       "| Cliegg Lars         | 183 |    NA | brown   | fair                | blue          |  82 | male   | Tatooine     | Human     | Attack of the Clones | <!----> | <!----> |\n",
       "| Poggle the Lesser   | 183 |  80.0 | none    | green               | yellow        |  NA | male   | Geonosis     | Geonosian | Attack of the Clones, Revenge of the Sith  | <!----> | <!----> |\n",
       "| Luminara Unduli     | 170 |  56.2 | black   | yellow              | blue          |  58 | female | Mirial       | Mirialan  | Attack of the Clones, Revenge of the Sith  | <!----> | <!----> |\n",
       "| Barriss Offee       | 166 |  50.0 | black   | yellow              | blue          |  40 | female | Mirial       | Mirialan  | Attack of the Clones | <!----> | <!----> |\n",
       "| Dormé               | 165 |    NA | brown   | light               | brown         |  NA | female | Naboo        | Human     | Attack of the Clones | <!----> | <!----> |\n",
       "| Dooku               | 193 |  80.0 | white   | fair                | brown         | 102 | male   | Serenno      | Human     | Attack of the Clones, Revenge of the Sith  | Flitknot speeder | <!----> |\n",
       "| Bail Prestor Organa | 191 |    NA | black   | tan                 | brown         |  67 | male   | Alderaan     | Human     | Attack of the Clones, Revenge of the Sith  | <!----> | <!----> |\n",
       "| Jango Fett          | 183 |  79.0 | black   | tan                 | brown         |  66 | male   | Concord Dawn | Human     | Attack of the Clones | <!----> | <!----> |\n",
       "| Zam Wesell          | 168 |  55.0 | blonde  | fair, green, yellow | yellow        |  NA | female | Zolan        | Clawdite  | Attack of the Clones | Koro-2 Exodrive airspeeder | <!----> |\n",
       "| Dexter Jettster     | 198 | 102.0 | none    | brown               | yellow        |  NA | male   | Ojom         | Besalisk  | Attack of the Clones | <!----> | <!----> |\n",
       "| Lama Su             | 229 |  88.0 | none    | grey                | black         |  NA | male   | Kamino       | Kaminoan  | Attack of the Clones | <!----> | <!----> |\n",
       "| Taun We             | 213 |    NA | none    | grey                | black         |  NA | female | Kamino       | Kaminoan  | Attack of the Clones | <!----> | <!----> |\n",
       "| Jocasta Nu          | 167 |    NA | white   | fair                | blue          |  NA | female | Coruscant    | Human     | Attack of the Clones | <!----> | <!----> |\n",
       "| Ratts Tyerell       |  79 |  15.0 | none    | grey, blue          | unknown       |  NA | male   | Aleen Minor  | Aleena    | The Phantom Menace | <!----> | <!----> |\n",
       "| R4-P17              |  96 |    NA | none    | silver, red         | red, blue     |  NA | female | NA           | NA        | Attack of the Clones, Revenge of the Sith  | <!----> | <!----> |\n",
       "| Wat Tambor          | 193 |  48.0 | none    | green, grey         | unknown       |  NA | male   | Skako        | Skakoan   | Attack of the Clones | <!----> | <!----> |\n",
       "| San Hill            | 191 |    NA | none    | grey                | gold          |  NA | male   | Muunilinst   | Muun      | Attack of the Clones | <!----> | <!----> |\n",
       "| Shaak Ti            | 178 |  57.0 | none    | red, blue, white    | black         |  NA | female | Shili        | Togruta   | Attack of the Clones, Revenge of the Sith  | <!----> | <!----> |\n",
       "| Grievous            | 216 | 159.0 | none    | brown, white        | green, yellow |  NA | male   | Kalee        | Kaleesh   | Revenge of the Sith | Tsmeu-6 personal wheel bike | Belbullab-22 starfighter |\n",
       "| Tarfful             | 234 | 136.0 | brown   | brown               | blue          |  NA | male   | Kashyyyk     | Wookiee   | Revenge of the Sith | <!----> | <!----> |\n",
       "| Raymus Antilles     | 188 |  79.0 | brown   | light               | brown         |  NA | male   | Alderaan     | Human     | Revenge of the Sith, A New Hope          | <!----> | <!----> |\n",
       "| Sly Moore           | 178 |  48.0 | none    | pale                | white         |  NA | female | Umbara       | NA        | Attack of the Clones, Revenge of the Sith  | <!----> | <!----> |\n",
       "| Tion Medon          | 206 |  80.0 | none    | grey                | black         |  NA | male   | Utapau       | Pau'an    | Revenge of the Sith | <!----> | <!----> |\n",
       "| Finn                |  NA |    NA | black   | dark                | dark          |  NA | male   | NA           | Human     | The Force Awakens | <!----> | <!----> |\n",
       "| Rey                 |  NA |    NA | brown   | light               | hazel         |  NA | female | NA           | Human     | The Force Awakens | <!----> | <!----> |\n",
       "| Poe Dameron         |  NA |    NA | brown   | light               | brown         |  NA | male   | NA           | Human     | The Force Awakens | <!----> | T-70 X-wing fighter |\n",
       "| BB8                 |  NA |    NA | none    | none                | black         |  NA | none   | NA           | Droid     | The Force Awakens | <!----> | <!----> |\n",
       "| Captain Phasma      |  NA |    NA | unknown | unknown             | unknown       |  NA | female | NA           | NA        | The Force Awakens | <!----> | <!----> |\n",
       "| Padmé Amidala       | 165 |  45.0 | brown   | light               | brown         |  46 | female | Naboo        | Human     | Attack of the Clones, The Phantom Menace  , Revenge of the Sith  | <!----> | H-type Nubian yacht, Naboo star skiff   , Naboo fighter       |\n",
       "\n"
      ],
      "text/plain": [
       "   name                  height mass   hair_color    skin_color         \n",
       "1  Luke Skywalker        172      77.0 blond         fair               \n",
       "2  C-3PO                 167      75.0 NA            gold               \n",
       "3  R2-D2                  96      32.0 NA            white, blue        \n",
       "4  Darth Vader           202     136.0 none          white              \n",
       "5  Leia Organa           150      49.0 brown         light              \n",
       "6  Owen Lars             178     120.0 brown, grey   light              \n",
       "7  Beru Whitesun lars    165      75.0 brown         light              \n",
       "8  R5-D4                  97      32.0 NA            white, red         \n",
       "9  Biggs Darklighter     183      84.0 black         light              \n",
       "10 Obi-Wan Kenobi        182      77.0 auburn, white fair               \n",
       "11 Anakin Skywalker      188      84.0 blond         fair               \n",
       "12 Wilhuff Tarkin        180        NA auburn, grey  fair               \n",
       "13 Chewbacca             228     112.0 brown         unknown            \n",
       "14 Han Solo              180      80.0 brown         fair               \n",
       "15 Greedo                173      74.0 NA            green              \n",
       "16 Jabba Desilijic Tiure 175    1358.0 NA            green-tan, brown   \n",
       "17 Wedge Antilles        170      77.0 brown         fair               \n",
       "18 Jek Tono Porkins      180     110.0 brown         fair               \n",
       "19 Yoda                   66      17.0 white         green              \n",
       "20 Palpatine             170      75.0 grey          pale               \n",
       "21 Boba Fett             183      78.2 black         fair               \n",
       "22 IG-88                 200     140.0 none          metal              \n",
       "23 Bossk                 190     113.0 none          green              \n",
       "24 Lando Calrissian      177      79.0 black         dark               \n",
       "25 Lobot                 175      79.0 none          light              \n",
       "26 Ackbar                180      83.0 none          brown mottle       \n",
       "27 Mon Mothma            150        NA auburn        fair               \n",
       "28 Arvel Crynyd           NA        NA brown         fair               \n",
       "29 Wicket Systri Warrick  88      20.0 brown         brown              \n",
       "30 Nien Nunb             160      68.0 none          grey               \n",
       "⋮  ⋮                     ⋮      ⋮      ⋮             ⋮                  \n",
       "58 Cordé                 157       NA  brown         light              \n",
       "59 Cliegg Lars           183       NA  brown         fair               \n",
       "60 Poggle the Lesser     183     80.0  none          green              \n",
       "61 Luminara Unduli       170     56.2  black         yellow             \n",
       "62 Barriss Offee         166     50.0  black         yellow             \n",
       "63 Dormé                 165       NA  brown         light              \n",
       "64 Dooku                 193     80.0  white         fair               \n",
       "65 Bail Prestor Organa   191       NA  black         tan                \n",
       "66 Jango Fett            183     79.0  black         tan                \n",
       "67 Zam Wesell            168     55.0  blonde        fair, green, yellow\n",
       "68 Dexter Jettster       198    102.0  none          brown              \n",
       "69 Lama Su               229     88.0  none          grey               \n",
       "70 Taun We               213       NA  none          grey               \n",
       "71 Jocasta Nu            167       NA  white         fair               \n",
       "72 Ratts Tyerell          79     15.0  none          grey, blue         \n",
       "73 R4-P17                 96       NA  none          silver, red        \n",
       "74 Wat Tambor            193     48.0  none          green, grey        \n",
       "75 San Hill              191       NA  none          grey               \n",
       "76 Shaak Ti              178     57.0  none          red, blue, white   \n",
       "77 Grievous              216    159.0  none          brown, white       \n",
       "78 Tarfful               234    136.0  brown         brown              \n",
       "79 Raymus Antilles       188     79.0  brown         light              \n",
       "80 Sly Moore             178     48.0  none          pale               \n",
       "81 Tion Medon            206     80.0  none          grey               \n",
       "82 Finn                   NA       NA  black         dark               \n",
       "83 Rey                    NA       NA  brown         light              \n",
       "84 Poe Dameron            NA       NA  brown         light              \n",
       "85 BB8                    NA       NA  none          none               \n",
       "86 Captain Phasma         NA       NA  unknown       unknown            \n",
       "87 Padmé Amidala         165     45.0  brown         light              \n",
       "   eye_color     birth_year gender        homeworld    species       \n",
       "1  blue           19.0      male          Tatooine     Human         \n",
       "2  yellow        112.0      NA            Tatooine     Droid         \n",
       "3  red            33.0      NA            Naboo        Droid         \n",
       "4  yellow         41.9      male          Tatooine     Human         \n",
       "5  brown          19.0      female        Alderaan     Human         \n",
       "6  blue           52.0      male          Tatooine     Human         \n",
       "7  blue           47.0      female        Tatooine     Human         \n",
       "8  red              NA      NA            Tatooine     Droid         \n",
       "9  brown          24.0      male          Tatooine     Human         \n",
       "10 blue-gray      57.0      male          Stewjon      Human         \n",
       "11 blue           41.9      male          Tatooine     Human         \n",
       "12 blue           64.0      male          Eriadu       Human         \n",
       "13 blue          200.0      male          Kashyyyk     Wookiee       \n",
       "14 brown          29.0      male          Corellia     Human         \n",
       "15 black          44.0      male          Rodia        Rodian        \n",
       "16 orange        600.0      hermaphrodite Nal Hutta    Hutt          \n",
       "17 hazel          21.0      male          Corellia     Human         \n",
       "18 blue             NA      male          Bestine IV   Human         \n",
       "19 brown         896.0      male          NA           Yoda's species\n",
       "20 yellow         82.0      male          Naboo        Human         \n",
       "21 brown          31.5      male          Kamino       Human         \n",
       "22 red            15.0      none          NA           Droid         \n",
       "23 red            53.0      male          Trandosha    Trandoshan    \n",
       "24 brown          31.0      male          Socorro      Human         \n",
       "25 blue           37.0      male          Bespin       Human         \n",
       "26 orange         41.0      male          Mon Cala     Mon Calamari  \n",
       "27 blue           48.0      female        Chandrila    Human         \n",
       "28 brown            NA      male          NA           Human         \n",
       "29 brown           8.0      male          Endor        Ewok          \n",
       "30 black            NA      male          Sullust      Sullustan     \n",
       "⋮  ⋮             ⋮          ⋮             ⋮            ⋮             \n",
       "58 brown          NA        female        Naboo        Human         \n",
       "59 blue           82        male          Tatooine     Human         \n",
       "60 yellow         NA        male          Geonosis     Geonosian     \n",
       "61 blue           58        female        Mirial       Mirialan      \n",
       "62 blue           40        female        Mirial       Mirialan      \n",
       "63 brown          NA        female        Naboo        Human         \n",
       "64 brown         102        male          Serenno      Human         \n",
       "65 brown          67        male          Alderaan     Human         \n",
       "66 brown          66        male          Concord Dawn Human         \n",
       "67 yellow         NA        female        Zolan        Clawdite      \n",
       "68 yellow         NA        male          Ojom         Besalisk      \n",
       "69 black          NA        male          Kamino       Kaminoan      \n",
       "70 black          NA        female        Kamino       Kaminoan      \n",
       "71 blue           NA        female        Coruscant    Human         \n",
       "72 unknown        NA        male          Aleen Minor  Aleena        \n",
       "73 red, blue      NA        female        NA           NA            \n",
       "74 unknown        NA        male          Skako        Skakoan       \n",
       "75 gold           NA        male          Muunilinst   Muun          \n",
       "76 black          NA        female        Shili        Togruta       \n",
       "77 green, yellow  NA        male          Kalee        Kaleesh       \n",
       "78 blue           NA        male          Kashyyyk     Wookiee       \n",
       "79 brown          NA        male          Alderaan     Human         \n",
       "80 white          NA        female        Umbara       NA            \n",
       "81 black          NA        male          Utapau       Pau'an        \n",
       "82 dark           NA        male          NA           Human         \n",
       "83 hazel          NA        female        NA           Human         \n",
       "84 brown          NA        male          NA           Human         \n",
       "85 black          NA        none          NA           Droid         \n",
       "86 unknown        NA        female        NA           NA            \n",
       "87 brown          46        female        Naboo        Human         \n",
       "   films                                                                                                                                                                        \n",
       "1  Revenge of the Sith    , Return of the Jedi     , The Empire Strikes Back, A New Hope             , The Force Awakens                                                        \n",
       "2  Attack of the Clones   , The Phantom Menace     , Revenge of the Sith    , Return of the Jedi     , The Empire Strikes Back, A New Hope                                      \n",
       "3  Attack of the Clones   , The Phantom Menace     , Revenge of the Sith    , Return of the Jedi     , The Empire Strikes Back, A New Hope             , The Force Awakens      \n",
       "4  Revenge of the Sith    , Return of the Jedi     , The Empire Strikes Back, A New Hope                                                                                        \n",
       "5  Revenge of the Sith    , Return of the Jedi     , The Empire Strikes Back, A New Hope             , The Force Awakens                                                        \n",
       "6  Attack of the Clones, Revenge of the Sith , A New Hope                                                                                                                       \n",
       "7  Attack of the Clones, Revenge of the Sith , A New Hope                                                                                                                       \n",
       "8  A New Hope                                                                                                                                                                   \n",
       "9  A New Hope                                                                                                                                                                   \n",
       "10 Attack of the Clones   , The Phantom Menace     , Revenge of the Sith    , Return of the Jedi     , The Empire Strikes Back, A New Hope                                      \n",
       "11 Attack of the Clones, The Phantom Menace  , Revenge of the Sith                                                                                                              \n",
       "12 Revenge of the Sith, A New Hope                                                                                                                                              \n",
       "13 Revenge of the Sith    , Return of the Jedi     , The Empire Strikes Back, A New Hope             , The Force Awakens                                                        \n",
       "14 Return of the Jedi     , The Empire Strikes Back, A New Hope             , The Force Awakens                                                                                 \n",
       "15 A New Hope                                                                                                                                                                   \n",
       "16 The Phantom Menace, Return of the Jedi, A New Hope                                                                                                                           \n",
       "17 Return of the Jedi     , The Empire Strikes Back, A New Hope                                                                                                                 \n",
       "18 A New Hope                                                                                                                                                                   \n",
       "19 Attack of the Clones   , The Phantom Menace     , Revenge of the Sith    , Return of the Jedi     , The Empire Strikes Back                                                  \n",
       "20 Attack of the Clones   , The Phantom Menace     , Revenge of the Sith    , Return of the Jedi     , The Empire Strikes Back                                                  \n",
       "21 Attack of the Clones   , Return of the Jedi     , The Empire Strikes Back                                                                                                    \n",
       "22 The Empire Strikes Back                                                                                                                                                      \n",
       "23 The Empire Strikes Back                                                                                                                                                      \n",
       "24 Return of the Jedi     , The Empire Strikes Back                                                                                                                             \n",
       "25 The Empire Strikes Back                                                                                                                                                      \n",
       "26 Return of the Jedi, The Force Awakens                                                                                                                                        \n",
       "27 Return of the Jedi                                                                                                                                                           \n",
       "28 Return of the Jedi                                                                                                                                                           \n",
       "29 Return of the Jedi                                                                                                                                                           \n",
       "30 Return of the Jedi                                                                                                                                                           \n",
       "⋮  ⋮                                                                                                                                                                            \n",
       "58 Attack of the Clones                                                                                                                                                         \n",
       "59 Attack of the Clones                                                                                                                                                         \n",
       "60 Attack of the Clones, Revenge of the Sith                                                                                                                                    \n",
       "61 Attack of the Clones, Revenge of the Sith                                                                                                                                    \n",
       "62 Attack of the Clones                                                                                                                                                         \n",
       "63 Attack of the Clones                                                                                                                                                         \n",
       "64 Attack of the Clones, Revenge of the Sith                                                                                                                                    \n",
       "65 Attack of the Clones, Revenge of the Sith                                                                                                                                    \n",
       "66 Attack of the Clones                                                                                                                                                         \n",
       "67 Attack of the Clones                                                                                                                                                         \n",
       "68 Attack of the Clones                                                                                                                                                         \n",
       "69 Attack of the Clones                                                                                                                                                         \n",
       "70 Attack of the Clones                                                                                                                                                         \n",
       "71 Attack of the Clones                                                                                                                                                         \n",
       "72 The Phantom Menace                                                                                                                                                           \n",
       "73 Attack of the Clones, Revenge of the Sith                                                                                                                                    \n",
       "74 Attack of the Clones                                                                                                                                                         \n",
       "75 Attack of the Clones                                                                                                                                                         \n",
       "76 Attack of the Clones, Revenge of the Sith                                                                                                                                    \n",
       "77 Revenge of the Sith                                                                                                                                                          \n",
       "78 Revenge of the Sith                                                                                                                                                          \n",
       "79 Revenge of the Sith, A New Hope                                                                                                                                              \n",
       "80 Attack of the Clones, Revenge of the Sith                                                                                                                                    \n",
       "81 Revenge of the Sith                                                                                                                                                          \n",
       "82 The Force Awakens                                                                                                                                                            \n",
       "83 The Force Awakens                                                                                                                                                            \n",
       "84 The Force Awakens                                                                                                                                                            \n",
       "85 The Force Awakens                                                                                                                                                            \n",
       "86 The Force Awakens                                                                                                                                                            \n",
       "87 Attack of the Clones, The Phantom Menace  , Revenge of the Sith                                                                                                              \n",
       "   vehicles                                    \n",
       "1  Snowspeeder          , Imperial Speeder Bike\n",
       "2                                              \n",
       "3                                              \n",
       "4                                              \n",
       "5  Imperial Speeder Bike                       \n",
       "6                                              \n",
       "7                                              \n",
       "8                                              \n",
       "9                                              \n",
       "10 Tribubble bongo                             \n",
       "11 Zephyr-G swoop bike, XJ-6 airspeeder        \n",
       "12                                             \n",
       "13 AT-ST                                       \n",
       "14                                             \n",
       "15                                             \n",
       "16                                             \n",
       "17 Snowspeeder                                 \n",
       "18                                             \n",
       "19                                             \n",
       "20                                             \n",
       "21                                             \n",
       "22                                             \n",
       "23                                             \n",
       "24                                             \n",
       "25                                             \n",
       "26                                             \n",
       "27                                             \n",
       "28                                             \n",
       "29                                             \n",
       "30                                             \n",
       "⋮  ⋮                                           \n",
       "58                                             \n",
       "59                                             \n",
       "60                                             \n",
       "61                                             \n",
       "62                                             \n",
       "63                                             \n",
       "64 Flitknot speeder                            \n",
       "65                                             \n",
       "66                                             \n",
       "67 Koro-2 Exodrive airspeeder                  \n",
       "68                                             \n",
       "69                                             \n",
       "70                                             \n",
       "71                                             \n",
       "72                                             \n",
       "73                                             \n",
       "74                                             \n",
       "75                                             \n",
       "76                                             \n",
       "77 Tsmeu-6 personal wheel bike                 \n",
       "78                                             \n",
       "79                                             \n",
       "80                                             \n",
       "81                                             \n",
       "82                                             \n",
       "83                                             \n",
       "84                                             \n",
       "85                                             \n",
       "86                                             \n",
       "87                                             \n",
       "   starships                                                                                                                       \n",
       "1  X-wing          , Imperial shuttle                                                                                              \n",
       "2                                                                                                                                  \n",
       "3                                                                                                                                  \n",
       "4  TIE Advanced x1                                                                                                                 \n",
       "5                                                                                                                                  \n",
       "6                                                                                                                                  \n",
       "7                                                                                                                                  \n",
       "8                                                                                                                                  \n",
       "9  X-wing                                                                                                                          \n",
       "10 Jedi starfighter        , Trade Federation cruiser, Naboo star skiff        , Jedi Interceptor        , Belbullab-22 starfighter\n",
       "11 Trade Federation cruiser, Jedi Interceptor        , Naboo fighter                                                               \n",
       "12                                                                                                                                 \n",
       "13 Millennium Falcon, Imperial shuttle                                                                                             \n",
       "14 Millennium Falcon, Imperial shuttle                                                                                             \n",
       "15                                                                                                                                 \n",
       "16                                                                                                                                 \n",
       "17 X-wing                                                                                                                          \n",
       "18 X-wing                                                                                                                          \n",
       "19                                                                                                                                 \n",
       "20                                                                                                                                 \n",
       "21 Slave 1                                                                                                                         \n",
       "22                                                                                                                                 \n",
       "23                                                                                                                                 \n",
       "24 Millennium Falcon                                                                                                               \n",
       "25                                                                                                                                 \n",
       "26                                                                                                                                 \n",
       "27                                                                                                                                 \n",
       "28 A-wing                                                                                                                          \n",
       "29                                                                                                                                 \n",
       "30 Millennium Falcon                                                                                                               \n",
       "⋮  ⋮                                                                                                                               \n",
       "58                                                                                                                                 \n",
       "59                                                                                                                                 \n",
       "60                                                                                                                                 \n",
       "61                                                                                                                                 \n",
       "62                                                                                                                                 \n",
       "63                                                                                                                                 \n",
       "64                                                                                                                                 \n",
       "65                                                                                                                                 \n",
       "66                                                                                                                                 \n",
       "67                                                                                                                                 \n",
       "68                                                                                                                                 \n",
       "69                                                                                                                                 \n",
       "70                                                                                                                                 \n",
       "71                                                                                                                                 \n",
       "72                                                                                                                                 \n",
       "73                                                                                                                                 \n",
       "74                                                                                                                                 \n",
       "75                                                                                                                                 \n",
       "76                                                                                                                                 \n",
       "77 Belbullab-22 starfighter                                                                                                        \n",
       "78                                                                                                                                 \n",
       "79                                                                                                                                 \n",
       "80                                                                                                                                 \n",
       "81                                                                                                                                 \n",
       "82                                                                                                                                 \n",
       "83                                                                                                                                 \n",
       "84 T-70 X-wing fighter                                                                                                             \n",
       "85                                                                                                                                 \n",
       "86                                                                                                                                 \n",
       "87 H-type Nubian yacht, Naboo star skiff   , Naboo fighter                                                                         "
      ]
     },
     "metadata": {},
     "output_type": "display_data"
    }
   ],
   "source": [
    "starwars"
   ]
  },
  {
   "cell_type": "markdown",
   "metadata": {},
   "source": [
    "A função `print()` pode ser chamada explicitamente para visualizar todos os dados no formato do console. O exemplo abaixo utiliza o símbolo `+Inf` para representar infinitas linhas."
   ]
  },
  {
   "cell_type": "code",
   "execution_count": 14,
   "metadata": {},
   "outputs": [
    {
     "name": "stdout",
     "output_type": "stream",
     "text": [
      "\u001b[38;5;246m# A tibble: 87 x 13\u001b[39m\n",
      "   name  height   mass hair_color skin_color eye_color birth_year gender\n",
      "   \u001b[3m\u001b[38;5;246m<chr>\u001b[39m\u001b[23m  \u001b[3m\u001b[38;5;246m<int>\u001b[39m\u001b[23m  \u001b[3m\u001b[38;5;246m<dbl>\u001b[39m\u001b[23m \u001b[3m\u001b[38;5;246m<chr>\u001b[39m\u001b[23m      \u001b[3m\u001b[38;5;246m<chr>\u001b[39m\u001b[23m      \u001b[3m\u001b[38;5;246m<chr>\u001b[39m\u001b[23m          \u001b[3m\u001b[38;5;246m<dbl>\u001b[39m\u001b[23m \u001b[3m\u001b[38;5;246m<chr>\u001b[39m\u001b[23m \n",
      "\u001b[38;5;250m 1\u001b[39m Luke…    172   77   blond      fair       blue            19   male  \n",
      "\u001b[38;5;250m 2\u001b[39m C-3PO    167   75   \u001b[31mNA\u001b[39m         gold       yellow         112   \u001b[31mNA\u001b[39m    \n",
      "\u001b[38;5;250m 3\u001b[39m R2-D2     96   32   \u001b[31mNA\u001b[39m         white, bl… red             33   \u001b[31mNA\u001b[39m    \n",
      "\u001b[38;5;250m 4\u001b[39m Dart…    202  136   none       white      yellow          41.9 male  \n",
      "\u001b[38;5;250m 5\u001b[39m Leia…    150   49   brown      light      brown           19   female\n",
      "\u001b[38;5;250m 6\u001b[39m Owen…    178  120   brown, gr… light      blue            52   male  \n",
      "\u001b[38;5;250m 7\u001b[39m Beru…    165   75   brown      light      blue            47   female\n",
      "\u001b[38;5;250m 8\u001b[39m R5-D4     97   32   \u001b[31mNA\u001b[39m         white, red red             \u001b[31mNA\u001b[39m   \u001b[31mNA\u001b[39m    \n",
      "\u001b[38;5;250m 9\u001b[39m Bigg…    183   84   black      light      brown           24   male  \n",
      "\u001b[38;5;250m10\u001b[39m Obi-…    182   77   auburn, w… fair       blue-gray       57   male  \n",
      "\u001b[38;5;250m11\u001b[39m Anak…    188   84   blond      fair       blue            41.9 male  \n",
      "\u001b[38;5;250m12\u001b[39m Wilh…    180   \u001b[31mNA\u001b[39m   auburn, g… fair       blue            64   male  \n",
      "\u001b[38;5;250m13\u001b[39m Chew…    228  112   brown      unknown    blue           200   male  \n",
      "\u001b[38;5;250m14\u001b[39m Han …    180   80   brown      fair       brown           29   male  \n",
      "\u001b[38;5;250m15\u001b[39m Gree…    173   74   \u001b[31mNA\u001b[39m         green      black           44   male  \n",
      "\u001b[38;5;250m16\u001b[39m Jabb…    175 \u001b[4m1\u001b[24m358   \u001b[31mNA\u001b[39m         green-tan… orange         600   herma…\n",
      "\u001b[38;5;250m17\u001b[39m Wedg…    170   77   brown      fair       hazel           21   male  \n",
      "\u001b[38;5;250m18\u001b[39m Jek …    180  110   brown      fair       blue            \u001b[31mNA\u001b[39m   male  \n",
      "\u001b[38;5;250m19\u001b[39m Yoda      66   17   white      green      brown          896   male  \n",
      "\u001b[38;5;250m20\u001b[39m Palp…    170   75   grey       pale       yellow          82   male  \n",
      "\u001b[38;5;250m21\u001b[39m Boba…    183   78.2 black      fair       brown           31.5 male  \n",
      "\u001b[38;5;250m22\u001b[39m IG-88    200  140   none       metal      red             15   none  \n",
      "\u001b[38;5;250m23\u001b[39m Bossk    190  113   none       green      red             53   male  \n",
      "\u001b[38;5;250m24\u001b[39m Land…    177   79   black      dark       brown           31   male  \n",
      "\u001b[38;5;250m25\u001b[39m Lobot    175   79   none       light      blue            37   male  \n",
      "\u001b[38;5;250m26\u001b[39m Ackb…    180   83   none       brown mot… orange          41   male  \n",
      "\u001b[38;5;250m27\u001b[39m Mon …    150   \u001b[31mNA\u001b[39m   auburn     fair       blue            48   female\n",
      "\u001b[38;5;250m28\u001b[39m Arve…     \u001b[31mNA\u001b[39m   \u001b[31mNA\u001b[39m   brown      fair       brown           \u001b[31mNA\u001b[39m   male  \n",
      "\u001b[38;5;250m29\u001b[39m Wick…     88   20   brown      brown      brown            8   male  \n",
      "\u001b[38;5;250m30\u001b[39m Nien…    160   68   none       grey       black           \u001b[31mNA\u001b[39m   male  \n",
      "\u001b[38;5;250m31\u001b[39m Qui-…    193   89   brown      fair       blue            92   male  \n",
      "\u001b[38;5;250m32\u001b[39m Nute…    191   90   none       mottled g… red             \u001b[31mNA\u001b[39m   male  \n",
      "\u001b[38;5;250m33\u001b[39m Fini…    170   \u001b[31mNA\u001b[39m   blond      fair       blue            91   male  \n",
      "\u001b[38;5;250m34\u001b[39m Jar …    196   66   none       orange     orange          52   male  \n",
      "\u001b[38;5;250m35\u001b[39m Roos…    224   82   none       grey       orange          \u001b[31mNA\u001b[39m   male  \n",
      "\u001b[38;5;250m36\u001b[39m Rugo…    206   \u001b[31mNA\u001b[39m   none       green      orange          \u001b[31mNA\u001b[39m   male  \n",
      "\u001b[38;5;250m37\u001b[39m Ric …    183   \u001b[31mNA\u001b[39m   brown      fair       blue            \u001b[31mNA\u001b[39m   male  \n",
      "\u001b[38;5;250m38\u001b[39m Watto    137   \u001b[31mNA\u001b[39m   black      blue, grey yellow          \u001b[31mNA\u001b[39m   male  \n",
      "\u001b[38;5;250m39\u001b[39m Sebu…    112   40   none       grey, red  orange          \u001b[31mNA\u001b[39m   male  \n",
      "\u001b[38;5;250m40\u001b[39m Quar…    183   \u001b[31mNA\u001b[39m   black      dark       brown           62   male  \n",
      "\u001b[38;5;250m41\u001b[39m Shmi…    163   \u001b[31mNA\u001b[39m   black      fair       brown           72   female\n",
      "\u001b[38;5;250m42\u001b[39m Dart…    175   80   none       red        yellow          54   male  \n",
      "\u001b[38;5;250m43\u001b[39m Bib …    180   \u001b[31mNA\u001b[39m   none       pale       pink            \u001b[31mNA\u001b[39m   male  \n",
      "\u001b[38;5;250m44\u001b[39m Ayla…    178   55   none       blue       hazel           48   female\n",
      "\u001b[38;5;250m45\u001b[39m Dud …     94   45   none       blue, grey yellow          \u001b[31mNA\u001b[39m   male  \n",
      "\u001b[38;5;250m46\u001b[39m Gasg…    122   \u001b[31mNA\u001b[39m   none       white, bl… black           \u001b[31mNA\u001b[39m   male  \n",
      "\u001b[38;5;250m47\u001b[39m Ben …    163   65   none       grey, gre… orange          \u001b[31mNA\u001b[39m   male  \n",
      "\u001b[38;5;250m48\u001b[39m Mace…    188   84   none       dark       brown           72   male  \n",
      "\u001b[38;5;250m49\u001b[39m Ki-A…    198   82   white      pale       yellow          92   male  \n",
      "\u001b[38;5;250m50\u001b[39m Kit …    196   87   none       green      black           \u001b[31mNA\u001b[39m   male  \n",
      "\u001b[38;5;250m51\u001b[39m Eeth…    171   \u001b[31mNA\u001b[39m   black      brown      brown           \u001b[31mNA\u001b[39m   male  \n",
      "\u001b[38;5;250m52\u001b[39m Adi …    184   50   none       dark       blue            \u001b[31mNA\u001b[39m   female\n",
      "\u001b[38;5;250m53\u001b[39m Saes…    188   \u001b[31mNA\u001b[39m   none       pale       orange          \u001b[31mNA\u001b[39m   male  \n",
      "\u001b[38;5;250m54\u001b[39m Yara…    264   \u001b[31mNA\u001b[39m   none       white      yellow          \u001b[31mNA\u001b[39m   male  \n",
      "\u001b[38;5;250m55\u001b[39m Plo …    188   80   none       orange     black           22   male  \n",
      "\u001b[38;5;250m56\u001b[39m Mas …    196   \u001b[31mNA\u001b[39m   none       blue       blue            \u001b[31mNA\u001b[39m   male  \n",
      "\u001b[38;5;250m57\u001b[39m Greg…    185   85   black      dark       brown           \u001b[31mNA\u001b[39m   male  \n",
      "\u001b[38;5;250m58\u001b[39m Cordé    157   \u001b[31mNA\u001b[39m   brown      light      brown           \u001b[31mNA\u001b[39m   female\n",
      "\u001b[38;5;250m59\u001b[39m Clie…    183   \u001b[31mNA\u001b[39m   brown      fair       blue            82   male  \n",
      "\u001b[38;5;250m60\u001b[39m Pogg…    183   80   none       green      yellow          \u001b[31mNA\u001b[39m   male  \n",
      "\u001b[38;5;250m61\u001b[39m Lumi…    170   56.2 black      yellow     blue            58   female\n",
      "\u001b[38;5;250m62\u001b[39m Barr…    166   50   black      yellow     blue            40   female\n",
      "\u001b[38;5;250m63\u001b[39m Dormé    165   \u001b[31mNA\u001b[39m   brown      light      brown           \u001b[31mNA\u001b[39m   female\n",
      "\u001b[38;5;250m64\u001b[39m Dooku    193   80   white      fair       brown          102   male  \n",
      "\u001b[38;5;250m65\u001b[39m Bail…    191   \u001b[31mNA\u001b[39m   black      tan        brown           67   male  \n",
      "\u001b[38;5;250m66\u001b[39m Jang…    183   79   black      tan        brown           66   male  \n",
      "\u001b[38;5;250m67\u001b[39m Zam …    168   55   blonde     fair, gre… yellow          \u001b[31mNA\u001b[39m   female\n",
      "\u001b[38;5;250m68\u001b[39m Dext…    198  102   none       brown      yellow          \u001b[31mNA\u001b[39m   male  \n",
      "\u001b[38;5;250m69\u001b[39m Lama…    229   88   none       grey       black           \u001b[31mNA\u001b[39m   male  \n",
      "\u001b[38;5;250m70\u001b[39m Taun…    213   \u001b[31mNA\u001b[39m   none       grey       black           \u001b[31mNA\u001b[39m   female\n",
      "\u001b[38;5;250m71\u001b[39m Joca…    167   \u001b[31mNA\u001b[39m   white      fair       blue            \u001b[31mNA\u001b[39m   female\n",
      "\u001b[38;5;250m72\u001b[39m Ratt…     79   15   none       grey, blue unknown         \u001b[31mNA\u001b[39m   male  \n",
      "\u001b[38;5;250m73\u001b[39m R4-P…     96   \u001b[31mNA\u001b[39m   none       silver, r… red, blue       \u001b[31mNA\u001b[39m   female\n",
      "\u001b[38;5;250m74\u001b[39m Wat …    193   48   none       green, gr… unknown         \u001b[31mNA\u001b[39m   male  \n",
      "\u001b[38;5;250m75\u001b[39m San …    191   \u001b[31mNA\u001b[39m   none       grey       gold            \u001b[31mNA\u001b[39m   male  \n",
      "\u001b[38;5;250m76\u001b[39m Shaa…    178   57   none       red, blue… black           \u001b[31mNA\u001b[39m   female\n",
      "\u001b[38;5;250m77\u001b[39m Grie…    216  159   none       brown, wh… green, y…       \u001b[31mNA\u001b[39m   male  \n",
      "\u001b[38;5;250m78\u001b[39m Tarf…    234  136   brown      brown      blue            \u001b[31mNA\u001b[39m   male  \n",
      "\u001b[38;5;250m79\u001b[39m Raym…    188   79   brown      light      brown           \u001b[31mNA\u001b[39m   male  \n",
      "\u001b[38;5;250m80\u001b[39m Sly …    178   48   none       pale       white           \u001b[31mNA\u001b[39m   female\n",
      "\u001b[38;5;250m81\u001b[39m Tion…    206   80   none       grey       black           \u001b[31mNA\u001b[39m   male  \n",
      "\u001b[38;5;250m82\u001b[39m Finn      \u001b[31mNA\u001b[39m   \u001b[31mNA\u001b[39m   black      dark       dark            \u001b[31mNA\u001b[39m   male  \n",
      "\u001b[38;5;250m83\u001b[39m Rey       \u001b[31mNA\u001b[39m   \u001b[31mNA\u001b[39m   brown      light      hazel           \u001b[31mNA\u001b[39m   female\n",
      "\u001b[38;5;250m84\u001b[39m Poe …     \u001b[31mNA\u001b[39m   \u001b[31mNA\u001b[39m   brown      light      brown           \u001b[31mNA\u001b[39m   male  \n",
      "\u001b[38;5;250m85\u001b[39m BB8       \u001b[31mNA\u001b[39m   \u001b[31mNA\u001b[39m   none       none       black           \u001b[31mNA\u001b[39m   none  \n",
      "\u001b[38;5;250m86\u001b[39m Capt…     \u001b[31mNA\u001b[39m   \u001b[31mNA\u001b[39m   unknown    unknown    unknown         \u001b[31mNA\u001b[39m   female\n",
      "\u001b[38;5;250m87\u001b[39m Padm…    165   45   brown      light      brown           46   female\n",
      "\u001b[38;5;246m# … with 5 more variables: homeworld \u001b[3m\u001b[38;5;246m<chr>\u001b[38;5;246m\u001b[23m, species \u001b[3m\u001b[38;5;246m<chr>\u001b[38;5;246m\u001b[23m, films \u001b[3m\u001b[38;5;246m<list>\u001b[38;5;246m\u001b[23m,\n",
      "#   vehicles \u001b[3m\u001b[38;5;246m<list>\u001b[38;5;246m\u001b[23m, starships \u001b[3m\u001b[38;5;246m<list>\u001b[38;5;246m\u001b[23m\u001b[39m\n"
     ]
    }
   ],
   "source": [
    "print(starwars, n = +Inf)"
   ]
  },
  {
   "cell_type": "markdown",
   "metadata": {},
   "source": [
    "Contudo, o exemplo acaba ocultando algumas colunas. Se quisermos visualizar todas as colunas, podemos utilizar a função `glimpse()`, que inverte a orientação da tabela para mostrar todas as colunas."
   ]
  },
  {
   "cell_type": "code",
   "execution_count": 15,
   "metadata": {},
   "outputs": [
    {
     "name": "stdout",
     "output_type": "stream",
     "text": [
      "Observations: 87\n",
      "Variables: 13\n",
      "$ name       \u001b[3m\u001b[38;5;246m<chr>\u001b[39m\u001b[23m \"Luke Skywalker\", \"C-3PO\", \"R2-D2\", \"Darth Vader\", \"Leia O…\n",
      "$ height     \u001b[3m\u001b[38;5;246m<int>\u001b[39m\u001b[23m 172, 167, 96, 202, 150, 178, 165, 97, 183, 182, 188, 180, …\n",
      "$ mass       \u001b[3m\u001b[38;5;246m<dbl>\u001b[39m\u001b[23m 77.0, 75.0, 32.0, 136.0, 49.0, 120.0, 75.0, 32.0, 84.0, 77…\n",
      "$ hair_color \u001b[3m\u001b[38;5;246m<chr>\u001b[39m\u001b[23m \"blond\", NA, NA, \"none\", \"brown\", \"brown, grey\", \"brown\", …\n",
      "$ skin_color \u001b[3m\u001b[38;5;246m<chr>\u001b[39m\u001b[23m \"fair\", \"gold\", \"white, blue\", \"white\", \"light\", \"light\", …\n",
      "$ eye_color  \u001b[3m\u001b[38;5;246m<chr>\u001b[39m\u001b[23m \"blue\", \"yellow\", \"red\", \"yellow\", \"brown\", \"blue\", \"blue\"…\n",
      "$ birth_year \u001b[3m\u001b[38;5;246m<dbl>\u001b[39m\u001b[23m 19.0, 112.0, 33.0, 41.9, 19.0, 52.0, 47.0, NA, 24.0, 57.0,…\n",
      "$ gender     \u001b[3m\u001b[38;5;246m<chr>\u001b[39m\u001b[23m \"male\", NA, NA, \"male\", \"female\", \"male\", \"female\", NA, \"m…\n",
      "$ homeworld  \u001b[3m\u001b[38;5;246m<chr>\u001b[39m\u001b[23m \"Tatooine\", \"Tatooine\", \"Naboo\", \"Tatooine\", \"Alderaan\", \"…\n",
      "$ species    \u001b[3m\u001b[38;5;246m<chr>\u001b[39m\u001b[23m \"Human\", \"Droid\", \"Droid\", \"Human\", \"Human\", \"Human\", \"Hum…\n",
      "$ films      \u001b[3m\u001b[38;5;246m<list>\u001b[39m\u001b[23m [<\"Revenge of the Sith\", \"Return of the Jedi\", \"The Empir…\n",
      "$ vehicles   \u001b[3m\u001b[38;5;246m<list>\u001b[39m\u001b[23m [<\"Snowspeeder\", \"Imperial Speeder Bike\">, <>, <>, <>, \"I…\n",
      "$ starships  \u001b[3m\u001b[38;5;246m<list>\u001b[39m\u001b[23m [<\"X-wing\", \"Imperial shuttle\">, <>, <>, \"TIE Advanced x1…\n"
     ]
    }
   ],
   "source": [
    "glimpse(starwars)"
   ]
  },
  {
   "cell_type": "markdown",
   "metadata": {},
   "source": [
    "A função `View()` pode ser utilizada no console para visualizar a mesma tabela fornecida pelo Jupyter ao chamar a função `print()`. Por razões óbvias não é possível utilizar a função no Jupyter.\n",
    "\n",
    "A maior vantagem da utilização dos notebooks é poder visualizar os dados em formato amigável a cada passo da análise, facilitando ainda a importação dos resultados."
   ]
  },
  {
   "cell_type": "markdown",
   "metadata": {},
   "source": [
    "#### 2.4.3.2. Acessando linhas e colunas\n",
    "\n",
    "Existem diferentes formas de acessar colunas em uma tabela, mas trataremos o acesso aos dados na tabela mais a frente no curso. Alguns exemplos:"
   ]
  },
  {
   "cell_type": "code",
   "execution_count": 20,
   "metadata": {},
   "outputs": [
    {
     "data": {
      "text/html": [
       "<table>\n",
       "<caption>A tibble: 1 × 2</caption>\n",
       "<thead>\n",
       "\t<tr><th scope=col>ID</th><th scope=col>name</th></tr>\n",
       "\t<tr><th scope=col>&lt;int&gt;</th><th scope=col>&lt;chr&gt;</th></tr>\n",
       "</thead>\n",
       "<tbody>\n",
       "\t<tr><td>1</td><td>Jan</td></tr>\n",
       "</tbody>\n",
       "</table>\n"
      ],
      "text/latex": [
       "A tibble: 1 × 2\n",
       "\\begin{tabular}{ll}\n",
       " ID & name\\\\\n",
       " <int> & <chr>\\\\\n",
       "\\hline\n",
       "\t 1 & Jan\\\\\n",
       "\\end{tabular}\n"
      ],
      "text/markdown": [
       "\n",
       "A tibble: 1 × 2\n",
       "\n",
       "| ID &lt;int&gt; | name &lt;chr&gt; |\n",
       "|---|---|\n",
       "| 1 | Jan |\n",
       "\n"
      ],
      "text/plain": [
       "  ID name\n",
       "1 1  Jan "
      ]
     },
     "metadata": {},
     "output_type": "display_data"
    },
    {
     "data": {
      "text/html": [
       "<table>\n",
       "<caption>A tibble: 12 × 1</caption>\n",
       "<thead>\n",
       "\t<tr><th scope=col>name</th></tr>\n",
       "\t<tr><th scope=col>&lt;chr&gt;</th></tr>\n",
       "</thead>\n",
       "<tbody>\n",
       "\t<tr><td>Jan</td></tr>\n",
       "\t<tr><td>Feb</td></tr>\n",
       "\t<tr><td>Mar</td></tr>\n",
       "\t<tr><td>Apr</td></tr>\n",
       "\t<tr><td>May</td></tr>\n",
       "\t<tr><td>Jun</td></tr>\n",
       "\t<tr><td>Jul</td></tr>\n",
       "\t<tr><td>Aug</td></tr>\n",
       "\t<tr><td>Sep</td></tr>\n",
       "\t<tr><td>Oct</td></tr>\n",
       "\t<tr><td>Nov</td></tr>\n",
       "\t<tr><td>Dec</td></tr>\n",
       "</tbody>\n",
       "</table>\n"
      ],
      "text/latex": [
       "A tibble: 12 × 1\n",
       "\\begin{tabular}{l}\n",
       " name\\\\\n",
       " <chr>\\\\\n",
       "\\hline\n",
       "\t Jan\\\\\n",
       "\t Feb\\\\\n",
       "\t Mar\\\\\n",
       "\t Apr\\\\\n",
       "\t May\\\\\n",
       "\t Jun\\\\\n",
       "\t Jul\\\\\n",
       "\t Aug\\\\\n",
       "\t Sep\\\\\n",
       "\t Oct\\\\\n",
       "\t Nov\\\\\n",
       "\t Dec\\\\\n",
       "\\end{tabular}\n"
      ],
      "text/markdown": [
       "\n",
       "A tibble: 12 × 1\n",
       "\n",
       "| name &lt;chr&gt; |\n",
       "|---|\n",
       "| Jan |\n",
       "| Feb |\n",
       "| Mar |\n",
       "| Apr |\n",
       "| May |\n",
       "| Jun |\n",
       "| Jul |\n",
       "| Aug |\n",
       "| Sep |\n",
       "| Oct |\n",
       "| Nov |\n",
       "| Dec |\n",
       "\n"
      ],
      "text/plain": [
       "   name\n",
       "1  Jan \n",
       "2  Feb \n",
       "3  Mar \n",
       "4  Apr \n",
       "5  May \n",
       "6  Jun \n",
       "7  Jul \n",
       "8  Aug \n",
       "9  Sep \n",
       "10 Oct \n",
       "11 Nov \n",
       "12 Dec "
      ]
     },
     "metadata": {},
     "output_type": "display_data"
    },
    {
     "data": {
      "text/html": [
       "<table>\n",
       "<caption>A tibble: 3 × 2</caption>\n",
       "<thead>\n",
       "\t<tr><th scope=col>ID</th><th scope=col>name</th></tr>\n",
       "\t<tr><th scope=col>&lt;int&gt;</th><th scope=col>&lt;chr&gt;</th></tr>\n",
       "</thead>\n",
       "<tbody>\n",
       "\t<tr><td>1</td><td>Jan</td></tr>\n",
       "\t<tr><td>2</td><td>Feb</td></tr>\n",
       "\t<tr><td>3</td><td>Mar</td></tr>\n",
       "</tbody>\n",
       "</table>\n"
      ],
      "text/latex": [
       "A tibble: 3 × 2\n",
       "\\begin{tabular}{ll}\n",
       " ID & name\\\\\n",
       " <int> & <chr>\\\\\n",
       "\\hline\n",
       "\t 1 & Jan\\\\\n",
       "\t 2 & Feb\\\\\n",
       "\t 3 & Mar\\\\\n",
       "\\end{tabular}\n"
      ],
      "text/markdown": [
       "\n",
       "A tibble: 3 × 2\n",
       "\n",
       "| ID &lt;int&gt; | name &lt;chr&gt; |\n",
       "|---|---|\n",
       "| 1 | Jan |\n",
       "| 2 | Feb |\n",
       "| 3 | Mar |\n",
       "\n"
      ],
      "text/plain": [
       "  ID name\n",
       "1 1  Jan \n",
       "2 2  Feb \n",
       "3 3  Mar "
      ]
     },
     "metadata": {},
     "output_type": "display_data"
    },
    {
     "data": {
      "text/html": [
       "<table>\n",
       "<caption>A tibble: 12 × 1</caption>\n",
       "<thead>\n",
       "\t<tr><th scope=col>name</th></tr>\n",
       "\t<tr><th scope=col>&lt;chr&gt;</th></tr>\n",
       "</thead>\n",
       "<tbody>\n",
       "\t<tr><td>Jan</td></tr>\n",
       "\t<tr><td>Feb</td></tr>\n",
       "\t<tr><td>Mar</td></tr>\n",
       "\t<tr><td>Apr</td></tr>\n",
       "\t<tr><td>May</td></tr>\n",
       "\t<tr><td>Jun</td></tr>\n",
       "\t<tr><td>Jul</td></tr>\n",
       "\t<tr><td>Aug</td></tr>\n",
       "\t<tr><td>Sep</td></tr>\n",
       "\t<tr><td>Oct</td></tr>\n",
       "\t<tr><td>Nov</td></tr>\n",
       "\t<tr><td>Dec</td></tr>\n",
       "</tbody>\n",
       "</table>\n"
      ],
      "text/latex": [
       "A tibble: 12 × 1\n",
       "\\begin{tabular}{l}\n",
       " name\\\\\n",
       " <chr>\\\\\n",
       "\\hline\n",
       "\t Jan\\\\\n",
       "\t Feb\\\\\n",
       "\t Mar\\\\\n",
       "\t Apr\\\\\n",
       "\t May\\\\\n",
       "\t Jun\\\\\n",
       "\t Jul\\\\\n",
       "\t Aug\\\\\n",
       "\t Sep\\\\\n",
       "\t Oct\\\\\n",
       "\t Nov\\\\\n",
       "\t Dec\\\\\n",
       "\\end{tabular}\n"
      ],
      "text/markdown": [
       "\n",
       "A tibble: 12 × 1\n",
       "\n",
       "| name &lt;chr&gt; |\n",
       "|---|\n",
       "| Jan |\n",
       "| Feb |\n",
       "| Mar |\n",
       "| Apr |\n",
       "| May |\n",
       "| Jun |\n",
       "| Jul |\n",
       "| Aug |\n",
       "| Sep |\n",
       "| Oct |\n",
       "| Nov |\n",
       "| Dec |\n",
       "\n"
      ],
      "text/plain": [
       "   name\n",
       "1  Jan \n",
       "2  Feb \n",
       "3  Mar \n",
       "4  Apr \n",
       "5  May \n",
       "6  Jun \n",
       "7  Jul \n",
       "8  Aug \n",
       "9  Sep \n",
       "10 Oct \n",
       "11 Nov \n",
       "12 Dec "
      ]
     },
     "metadata": {},
     "output_type": "display_data"
    },
    {
     "data": {
      "text/html": [
       "<ol class=list-inline>\n",
       "\t<li>'Jan'</li>\n",
       "\t<li>'Feb'</li>\n",
       "\t<li>'Mar'</li>\n",
       "\t<li>'Apr'</li>\n",
       "\t<li>'May'</li>\n",
       "\t<li>'Jun'</li>\n",
       "\t<li>'Jul'</li>\n",
       "\t<li>'Aug'</li>\n",
       "\t<li>'Sep'</li>\n",
       "\t<li>'Oct'</li>\n",
       "\t<li>'Nov'</li>\n",
       "\t<li>'Dec'</li>\n",
       "</ol>\n"
      ],
      "text/latex": [
       "\\begin{enumerate*}\n",
       "\\item 'Jan'\n",
       "\\item 'Feb'\n",
       "\\item 'Mar'\n",
       "\\item 'Apr'\n",
       "\\item 'May'\n",
       "\\item 'Jun'\n",
       "\\item 'Jul'\n",
       "\\item 'Aug'\n",
       "\\item 'Sep'\n",
       "\\item 'Oct'\n",
       "\\item 'Nov'\n",
       "\\item 'Dec'\n",
       "\\end{enumerate*}\n"
      ],
      "text/markdown": [
       "1. 'Jan'\n",
       "2. 'Feb'\n",
       "3. 'Mar'\n",
       "4. 'Apr'\n",
       "5. 'May'\n",
       "6. 'Jun'\n",
       "7. 'Jul'\n",
       "8. 'Aug'\n",
       "9. 'Sep'\n",
       "10. 'Oct'\n",
       "11. 'Nov'\n",
       "12. 'Dec'\n",
       "\n",
       "\n"
      ],
      "text/plain": [
       " [1] \"Jan\" \"Feb\" \"Mar\" \"Apr\" \"May\" \"Jun\" \"Jul\" \"Aug\" \"Sep\" \"Oct\" \"Nov\" \"Dec\""
      ]
     },
     "metadata": {},
     "output_type": "display_data"
    }
   ],
   "source": [
    "months[1, ] # first row\n",
    "\n",
    "months[, 2] # second column (position)\n",
    "\n",
    "months[1:3, ] # first 3 months\n",
    "\n",
    "months[, c(\"name\")] # access column by name\n",
    "\n",
    "months$name  # by column name"
   ]
  },
  {
   "cell_type": "markdown",
   "metadata": {},
   "source": [
    "#### 2.4.3.3. Exercícios\n",
    "\n",
    "1. Utilize a função `as_tibble()` para formatar o dataset `mtcars` do pacote `tidyverse` e apresente os resultados no console do R.\n",
    "2. Crie um tibble com nome, idade e sexo de 3-5 pessoas cujos nomes, idade e sexo você conhece.\n",
    "3. Crie um tibble que tem a estrutura da tabela abaixo, utilizando a menor quantidade de digitação possível. Armazene os resultados na variável `my_tbl`. Dica: `rep()`\n",
    "```\n",
    "## # A tibble: 8 x 4\n",
    "##      ID A     B     C    \n",
    "##   <int> <chr> <chr> <chr>\n",
    "## 1     1 A1    B1    C1   \n",
    "## 2     2 A1    B2    C1   \n",
    "## 3     3 A1    B1    C1   \n",
    "## 4     4 A1    B2    C1   \n",
    "## 5     5 A2    B1    C1   \n",
    "## 6     6 A2    B2    C1   \n",
    "## 7     7 A2    B1    C1   \n",
    "## 8     8 A2    B2    C1\n",
    "```\n",
    "4. Faça a conversão da base `iris` nativa do R para um tibble, armazenando o resultado na variável `iris2`."
   ]
  },
  {
   "cell_type": "code",
   "execution_count": 2,
   "metadata": {},
   "outputs": [],
   "source": [
    "# Faça os exercícios aqui"
   ]
  },
  {
   "cell_type": "markdown",
   "metadata": {},
   "source": [
    "## 2.5. Importando dados\n",
    "\n",
    "Os dados utilizados nas análise estarão em diferentes fontes e formatos. Para carregar os arquivos, algumas extensões serão mais facilmente tratadas pela linguagem R, sendo suportadas por funções nativas para saída e/ou entrada.\n",
    "\n",
    "**Extensão** | **Tipo de Arquivo** | **Leitura** | **Escrita**\n",
    ":-------------|:---------------------|:-------------|:-------------\n",
    ".csv | Separado por vírgula | readr::read_csv() | readr::write_csv()\n",
    ".xls, .xslx | Planilha do Excel | readxl::read_excel() | N/A\n",
    ".rds | Arquivo binário do R | readRDS() | saveRDS()\n",
    ".RData | Arquivo binário do R | load() | save()\n",
    "\n",
    "**Obs.:** Para chamadas de função, lembre-se da sintaxe. A chamada `readr::read_csv()` representa a função `read_csv()` do pacote `readr`.\n",
    "\n",
    "O tipo de dados mais comum é o `.csv`. Como o nome sugere, trata-se de uma sequência de dados separados por vírgula, onde a primeira linha normalmente representa o nome das colunas. Vejamos um exemplo do [registro de nomes de bebê na Escócia](http://www.nrscotland.gov.uk/statistics-and-data/statistics/statistics-by-theme/vital-events/names/babies-first-names/babies-first-names-summary-records-comma-separated-value-csv-format):\n",
    "\n",
    "```\n",
    "yr,sex,FirstForename,number,rank,position\n",
    "1974,B,David,1794,1,1\n",
    "1974,B,John,1528,2,2\n",
    "1974,B,Paul,1260,3,3\n",
    "1974,B,Mark,1234,4,4\n",
    "1974,B,James,1202,5,5\n",
    "1974,B,Andrew,1067,6,6\n",
    "1974,B,Scott,1060,7,7\n",
    "1974,B,Steven,1020,8,8\n",
    "1974,B,Robert,885,9,9\n",
    "1974,B,Stephen,866,10,10\n",
    "```\n",
    "\n",
    "Esse dataset é composto de seis variáveis, cujos nomes estão na primeira linha: `yr`, `sex`, `FirstForename`, `number`, `rank` e `position`. Observe que os valores estão em ordem, separados por vírgula, cada linha uma ocorrência.\n",
    "\n",
    "Ao realizar a leitura de arquivos do tipo CSV é uma boa prática utilizar a função `readr::read_csv()`. Na maior parte dos casos os dados lidos serão armazenados em uma variável.\n",
    "\n",
    "### 2.5.1. Escrevendo os dados\n",
    "\n",
    "Para salvar no formato CSV, utilize a função `readr::write_csv()`\n",
    "\n",
    "## 2.6. Exercícios\n",
    "\n",
    "1. Utilize os dados fornecidos de nomes de bebê na Escócia para ler os dados no formato CSV. Processe e depois escreva os resultados em um novo CSV."
   ]
  },
  {
   "cell_type": "code",
   "execution_count": null,
   "metadata": {},
   "outputs": [],
   "source": []
  }
 ],
 "metadata": {
  "kernelspec": {
   "display_name": "R",
   "language": "R",
   "name": "ir"
  },
  "language_info": {
   "codemirror_mode": "r",
   "file_extension": ".r",
   "mimetype": "text/x-r-source",
   "name": "R",
   "pygments_lexer": "r",
   "version": "3.6.2"
  }
 },
 "nbformat": 4,
 "nbformat_minor": 2
}
