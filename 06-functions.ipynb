{
 "cells": [
  {
   "cell_type": "markdown",
   "metadata": {},
   "source": [
    "## Aula 06 - Iteradores e funções\n",
    "\n",
    "Na aula vamos aprender sobre iteradores e funções utilizando simulação para calcular uma análise polinomial para um conjunto de amostras independentes t-test.\n",
    "\n",
    "### 6.1.1. Básico\n",
    "\n",
    "1. Trabalhar com funções de iteração, como `rep`, `seq` e `replicate`\n",
    "2. Utilizar parâmetros em ordem ou por nome\n",
    "3. Escrever suas próprias funções customizadas com `function()`\n",
    "4. Colocar valores padrão para os seus parâmetros de função\n",
    "\n",
    "### 6.1.2. Intermediário\n",
    "\n",
    "5. Entender o conceito de escopo\n",
    "6. Utilizar tratamento de erros e _warnings_ em uma função\n",
    "\n",
    "### 6.1.3. Avançado\n",
    "\n",
    "Os tópicos avançados não serão cobertos na aula, mas o tratamento de funções pode ser melhor implementado utilizando o módulo `purr`. Consulte a documentação se desejar obter mais informações.\n",
    "\n",
    "### 6.2. Recursos\n",
    "\n",
    "* [Capítulo 19: Funções](https://r4ds.had.co.nz/functions.html) do livro _R for Data Science_\n",
    "* [Capítulo 21: Iterações](https://r4ds.had.co.nz/iteration.html) do livro _R for Data Science_\n",
    "* [_cheat sheet_ do R Studio para utilização de funções](https://github.com/rstudio/cheatsheets/raw/master/purrr.pdf)\n",
    "\n",
    "Na próxima aula utilizaremos mais iteração, repetindo os mesmos comandos, e também criaremos funções do usuário para o exercício de simulação de dados. Durante as lições será possível aprender mais sobre como criar vetores e tabelas no R.\n",
    "\n",
    "### 6.3. Ajustes\n",
    "\n",
    "É necessário instalar e ativar as bibliotecas que serão utilizadas nos exercícios"
   ]
  },
  {
   "cell_type": "code",
   "execution_count": 3,
   "metadata": {},
   "outputs": [
    {
     "name": "stderr",
     "output_type": "stream",
     "text": [
      "Installing package into ‘/home/eduardo/R/lib’\n",
      "(as ‘lib’ is unspecified)\n",
      "\n"
     ]
    }
   ],
   "source": [
    "home <- path.expand(\"~\")\n",
    "lib_dir <- file.path(file.path(home, \"R\"), \"lib\")\n",
    "dir.create(lib_dir, showWarnings = FALSE)\n",
    "\n",
    "library(utils)\n",
    ".libPaths(c(lib_dir, .libPaths()))\n",
    "\n",
    "# libraries needed for these examples\n",
    "install.packages(\"tidyverse\")\n",
    "library(tidyverse)  ## contains purrr, tidyr, dplyr\n",
    "\n",
    "set.seed(8675309) # makes sure random numbers are reproducible"
   ]
  },
  {
   "cell_type": "markdown",
   "metadata": {},
   "source": [
    "## 6.4. Funções de iteração\n",
    "\n",
    "### 6.4.1. `rep()`\n",
    "\n",
    "A função `rep()` cria n repetições para o primeiro parâmetro fornecido.\n",
    "\n",
    "Vamos utilizar a função `rep()` para criar um vetor de tamanho 24 que alterne entre os valores `\"A\"` e `\"B\"`."
   ]
  },
  {
   "cell_type": "code",
   "execution_count": 4,
   "metadata": {},
   "outputs": [
    {
     "data": {
      "text/html": [
       "<ol class=list-inline>\n",
       "\t<li>'A'</li>\n",
       "\t<li>'B'</li>\n",
       "\t<li>'A'</li>\n",
       "\t<li>'B'</li>\n",
       "\t<li>'A'</li>\n",
       "\t<li>'B'</li>\n",
       "\t<li>'A'</li>\n",
       "\t<li>'B'</li>\n",
       "\t<li>'A'</li>\n",
       "\t<li>'B'</li>\n",
       "\t<li>'A'</li>\n",
       "\t<li>'B'</li>\n",
       "\t<li>'A'</li>\n",
       "\t<li>'B'</li>\n",
       "\t<li>'A'</li>\n",
       "\t<li>'B'</li>\n",
       "\t<li>'A'</li>\n",
       "\t<li>'B'</li>\n",
       "\t<li>'A'</li>\n",
       "\t<li>'B'</li>\n",
       "\t<li>'A'</li>\n",
       "\t<li>'B'</li>\n",
       "\t<li>'A'</li>\n",
       "\t<li>'B'</li>\n",
       "</ol>\n"
      ],
      "text/latex": [
       "\\begin{enumerate*}\n",
       "\\item 'A'\n",
       "\\item 'B'\n",
       "\\item 'A'\n",
       "\\item 'B'\n",
       "\\item 'A'\n",
       "\\item 'B'\n",
       "\\item 'A'\n",
       "\\item 'B'\n",
       "\\item 'A'\n",
       "\\item 'B'\n",
       "\\item 'A'\n",
       "\\item 'B'\n",
       "\\item 'A'\n",
       "\\item 'B'\n",
       "\\item 'A'\n",
       "\\item 'B'\n",
       "\\item 'A'\n",
       "\\item 'B'\n",
       "\\item 'A'\n",
       "\\item 'B'\n",
       "\\item 'A'\n",
       "\\item 'B'\n",
       "\\item 'A'\n",
       "\\item 'B'\n",
       "\\end{enumerate*}\n"
      ],
      "text/markdown": [
       "1. 'A'\n",
       "2. 'B'\n",
       "3. 'A'\n",
       "4. 'B'\n",
       "5. 'A'\n",
       "6. 'B'\n",
       "7. 'A'\n",
       "8. 'B'\n",
       "9. 'A'\n",
       "10. 'B'\n",
       "11. 'A'\n",
       "12. 'B'\n",
       "13. 'A'\n",
       "14. 'B'\n",
       "15. 'A'\n",
       "16. 'B'\n",
       "17. 'A'\n",
       "18. 'B'\n",
       "19. 'A'\n",
       "20. 'B'\n",
       "21. 'A'\n",
       "22. 'B'\n",
       "23. 'A'\n",
       "24. 'B'\n",
       "\n",
       "\n"
      ],
      "text/plain": [
       " [1] \"A\" \"B\" \"A\" \"B\" \"A\" \"B\" \"A\" \"B\" \"A\" \"B\" \"A\" \"B\" \"A\" \"B\" \"A\" \"B\" \"A\" \"B\" \"A\"\n",
       "[20] \"B\" \"A\" \"B\" \"A\" \"B\""
      ]
     },
     "metadata": {},
     "output_type": "display_data"
    }
   ],
   "source": [
    "rep(c(\"A\", \"B\"), 12)"
   ]
  },
  {
   "cell_type": "markdown",
   "metadata": {},
   "source": [
    "Se o nome do segundo parâmetro não for especificado, o valor padrão é `times`, repetindo o vetor no primeiro parâmetro até atingir o valor definido. É o mesmo que escrever o seguinte:"
   ]
  },
  {
   "cell_type": "code",
   "execution_count": 5,
   "metadata": {},
   "outputs": [
    {
     "data": {
      "text/html": [
       "<ol class=list-inline>\n",
       "\t<li>'A'</li>\n",
       "\t<li>'B'</li>\n",
       "\t<li>'A'</li>\n",
       "\t<li>'B'</li>\n",
       "\t<li>'A'</li>\n",
       "\t<li>'B'</li>\n",
       "\t<li>'A'</li>\n",
       "\t<li>'B'</li>\n",
       "\t<li>'A'</li>\n",
       "\t<li>'B'</li>\n",
       "\t<li>'A'</li>\n",
       "\t<li>'B'</li>\n",
       "\t<li>'A'</li>\n",
       "\t<li>'B'</li>\n",
       "\t<li>'A'</li>\n",
       "\t<li>'B'</li>\n",
       "\t<li>'A'</li>\n",
       "\t<li>'B'</li>\n",
       "\t<li>'A'</li>\n",
       "\t<li>'B'</li>\n",
       "\t<li>'A'</li>\n",
       "\t<li>'B'</li>\n",
       "\t<li>'A'</li>\n",
       "\t<li>'B'</li>\n",
       "</ol>\n"
      ],
      "text/latex": [
       "\\begin{enumerate*}\n",
       "\\item 'A'\n",
       "\\item 'B'\n",
       "\\item 'A'\n",
       "\\item 'B'\n",
       "\\item 'A'\n",
       "\\item 'B'\n",
       "\\item 'A'\n",
       "\\item 'B'\n",
       "\\item 'A'\n",
       "\\item 'B'\n",
       "\\item 'A'\n",
       "\\item 'B'\n",
       "\\item 'A'\n",
       "\\item 'B'\n",
       "\\item 'A'\n",
       "\\item 'B'\n",
       "\\item 'A'\n",
       "\\item 'B'\n",
       "\\item 'A'\n",
       "\\item 'B'\n",
       "\\item 'A'\n",
       "\\item 'B'\n",
       "\\item 'A'\n",
       "\\item 'B'\n",
       "\\end{enumerate*}\n"
      ],
      "text/markdown": [
       "1. 'A'\n",
       "2. 'B'\n",
       "3. 'A'\n",
       "4. 'B'\n",
       "5. 'A'\n",
       "6. 'B'\n",
       "7. 'A'\n",
       "8. 'B'\n",
       "9. 'A'\n",
       "10. 'B'\n",
       "11. 'A'\n",
       "12. 'B'\n",
       "13. 'A'\n",
       "14. 'B'\n",
       "15. 'A'\n",
       "16. 'B'\n",
       "17. 'A'\n",
       "18. 'B'\n",
       "19. 'A'\n",
       "20. 'B'\n",
       "21. 'A'\n",
       "22. 'B'\n",
       "23. 'A'\n",
       "24. 'B'\n",
       "\n",
       "\n"
      ],
      "text/plain": [
       " [1] \"A\" \"B\" \"A\" \"B\" \"A\" \"B\" \"A\" \"B\" \"A\" \"B\" \"A\" \"B\" \"A\" \"B\" \"A\" \"B\" \"A\" \"B\" \"A\"\n",
       "[20] \"B\" \"A\" \"B\" \"A\" \"B\""
      ]
     },
     "metadata": {},
     "output_type": "display_data"
    }
   ],
   "source": [
    "rep(c(\"A\", \"B\"), times = 12)"
   ]
  },
  {
   "cell_type": "markdown",
   "metadata": {},
   "source": [
    "Se o segundo parâmetro for um vetor do mesmo tamanho do primeiro argumento, cada um dos elementos será repetido com o índice correspondente. O exemplo a seguir repete `\"A\"` 11 vezes e `\"B\"` 3 vezes."
   ]
  },
  {
   "cell_type": "code",
   "execution_count": 6,
   "metadata": {},
   "outputs": [
    {
     "data": {
      "text/html": [
       "<ol class=list-inline>\n",
       "\t<li>'A'</li>\n",
       "\t<li>'A'</li>\n",
       "\t<li>'A'</li>\n",
       "\t<li>'A'</li>\n",
       "\t<li>'A'</li>\n",
       "\t<li>'A'</li>\n",
       "\t<li>'A'</li>\n",
       "\t<li>'A'</li>\n",
       "\t<li>'A'</li>\n",
       "\t<li>'A'</li>\n",
       "\t<li>'A'</li>\n",
       "\t<li>'B'</li>\n",
       "\t<li>'B'</li>\n",
       "\t<li>'B'</li>\n",
       "</ol>\n"
      ],
      "text/latex": [
       "\\begin{enumerate*}\n",
       "\\item 'A'\n",
       "\\item 'A'\n",
       "\\item 'A'\n",
       "\\item 'A'\n",
       "\\item 'A'\n",
       "\\item 'A'\n",
       "\\item 'A'\n",
       "\\item 'A'\n",
       "\\item 'A'\n",
       "\\item 'A'\n",
       "\\item 'A'\n",
       "\\item 'B'\n",
       "\\item 'B'\n",
       "\\item 'B'\n",
       "\\end{enumerate*}\n"
      ],
      "text/markdown": [
       "1. 'A'\n",
       "2. 'A'\n",
       "3. 'A'\n",
       "4. 'A'\n",
       "5. 'A'\n",
       "6. 'A'\n",
       "7. 'A'\n",
       "8. 'A'\n",
       "9. 'A'\n",
       "10. 'A'\n",
       "11. 'A'\n",
       "12. 'B'\n",
       "13. 'B'\n",
       "14. 'B'\n",
       "\n",
       "\n"
      ],
      "text/plain": [
       " [1] \"A\" \"A\" \"A\" \"A\" \"A\" \"A\" \"A\" \"A\" \"A\" \"A\" \"A\" \"B\" \"B\" \"B\""
      ]
     },
     "metadata": {},
     "output_type": "display_data"
    }
   ],
   "source": [
    "rep(c(\"A\", \"B\"), c(11, 3))"
   ]
  },
  {
   "cell_type": "markdown",
   "metadata": {},
   "source": [
    "Também é possível utilizar o parâmetro `each` para repetir cada um dos valores."
   ]
  },
  {
   "cell_type": "code",
   "execution_count": 7,
   "metadata": {},
   "outputs": [
    {
     "data": {
      "text/html": [
       "<ol class=list-inline>\n",
       "\t<li>'A'</li>\n",
       "\t<li>'A'</li>\n",
       "\t<li>'A'</li>\n",
       "\t<li>'A'</li>\n",
       "\t<li>'A'</li>\n",
       "\t<li>'A'</li>\n",
       "\t<li>'A'</li>\n",
       "\t<li>'A'</li>\n",
       "\t<li>'A'</li>\n",
       "\t<li>'A'</li>\n",
       "\t<li>'A'</li>\n",
       "\t<li>'A'</li>\n",
       "\t<li>'B'</li>\n",
       "\t<li>'B'</li>\n",
       "\t<li>'B'</li>\n",
       "\t<li>'B'</li>\n",
       "\t<li>'B'</li>\n",
       "\t<li>'B'</li>\n",
       "\t<li>'B'</li>\n",
       "\t<li>'B'</li>\n",
       "\t<li>'B'</li>\n",
       "\t<li>'B'</li>\n",
       "\t<li>'B'</li>\n",
       "\t<li>'B'</li>\n",
       "</ol>\n"
      ],
      "text/latex": [
       "\\begin{enumerate*}\n",
       "\\item 'A'\n",
       "\\item 'A'\n",
       "\\item 'A'\n",
       "\\item 'A'\n",
       "\\item 'A'\n",
       "\\item 'A'\n",
       "\\item 'A'\n",
       "\\item 'A'\n",
       "\\item 'A'\n",
       "\\item 'A'\n",
       "\\item 'A'\n",
       "\\item 'A'\n",
       "\\item 'B'\n",
       "\\item 'B'\n",
       "\\item 'B'\n",
       "\\item 'B'\n",
       "\\item 'B'\n",
       "\\item 'B'\n",
       "\\item 'B'\n",
       "\\item 'B'\n",
       "\\item 'B'\n",
       "\\item 'B'\n",
       "\\item 'B'\n",
       "\\item 'B'\n",
       "\\end{enumerate*}\n"
      ],
      "text/markdown": [
       "1. 'A'\n",
       "2. 'A'\n",
       "3. 'A'\n",
       "4. 'A'\n",
       "5. 'A'\n",
       "6. 'A'\n",
       "7. 'A'\n",
       "8. 'A'\n",
       "9. 'A'\n",
       "10. 'A'\n",
       "11. 'A'\n",
       "12. 'A'\n",
       "13. 'B'\n",
       "14. 'B'\n",
       "15. 'B'\n",
       "16. 'B'\n",
       "17. 'B'\n",
       "18. 'B'\n",
       "19. 'B'\n",
       "20. 'B'\n",
       "21. 'B'\n",
       "22. 'B'\n",
       "23. 'B'\n",
       "24. 'B'\n",
       "\n",
       "\n"
      ],
      "text/plain": [
       " [1] \"A\" \"A\" \"A\" \"A\" \"A\" \"A\" \"A\" \"A\" \"A\" \"A\" \"A\" \"A\" \"B\" \"B\" \"B\" \"B\" \"B\" \"B\" \"B\"\n",
       "[20] \"B\" \"B\" \"B\" \"B\" \"B\""
      ]
     },
     "metadata": {},
     "output_type": "display_data"
    }
   ],
   "source": [
    "rep(c(\"A\", \"B\"), each = 12)"
   ]
  },
  {
   "cell_type": "markdown",
   "metadata": {},
   "source": [
    "Agora utilizamos `times` e `each`:"
   ]
  },
  {
   "cell_type": "code",
   "execution_count": 8,
   "metadata": {},
   "outputs": [
    {
     "data": {
      "text/html": [
       "<ol class=list-inline>\n",
       "\t<li>'A'</li>\n",
       "\t<li>'A'</li>\n",
       "\t<li>'B'</li>\n",
       "\t<li>'B'</li>\n",
       "\t<li>'A'</li>\n",
       "\t<li>'A'</li>\n",
       "\t<li>'B'</li>\n",
       "\t<li>'B'</li>\n",
       "\t<li>'A'</li>\n",
       "\t<li>'A'</li>\n",
       "\t<li>'B'</li>\n",
       "\t<li>'B'</li>\n",
       "</ol>\n"
      ],
      "text/latex": [
       "\\begin{enumerate*}\n",
       "\\item 'A'\n",
       "\\item 'A'\n",
       "\\item 'B'\n",
       "\\item 'B'\n",
       "\\item 'A'\n",
       "\\item 'A'\n",
       "\\item 'B'\n",
       "\\item 'B'\n",
       "\\item 'A'\n",
       "\\item 'A'\n",
       "\\item 'B'\n",
       "\\item 'B'\n",
       "\\end{enumerate*}\n"
      ],
      "text/markdown": [
       "1. 'A'\n",
       "2. 'A'\n",
       "3. 'B'\n",
       "4. 'B'\n",
       "5. 'A'\n",
       "6. 'A'\n",
       "7. 'B'\n",
       "8. 'B'\n",
       "9. 'A'\n",
       "10. 'A'\n",
       "11. 'B'\n",
       "12. 'B'\n",
       "\n",
       "\n"
      ],
      "text/plain": [
       " [1] \"A\" \"A\" \"B\" \"B\" \"A\" \"A\" \"B\" \"B\" \"A\" \"A\" \"B\" \"B\""
      ]
     },
     "metadata": {},
     "output_type": "display_data"
    }
   ],
   "source": [
    "rep(c(\"A\", \"B\"), times = 3, each = 2)"
   ]
  },
  {
   "cell_type": "markdown",
   "metadata": {},
   "source": [
    "### 6.4.2. `seq()`\n",
    "\n",
    "A função `seq()` gera uma seqûencia de números  com algum padrão.\n",
    "\n",
    "O exemplo a seguir cria um vetor com os iteiros de 0 a 10:"
   ]
  },
  {
   "cell_type": "code",
   "execution_count": 9,
   "metadata": {},
   "outputs": [
    {
     "data": {
      "text/html": [
       "<ol class=list-inline>\n",
       "\t<li>0</li>\n",
       "\t<li>1</li>\n",
       "\t<li>2</li>\n",
       "\t<li>3</li>\n",
       "\t<li>4</li>\n",
       "\t<li>5</li>\n",
       "\t<li>6</li>\n",
       "\t<li>7</li>\n",
       "\t<li>8</li>\n",
       "\t<li>9</li>\n",
       "\t<li>10</li>\n",
       "</ol>\n"
      ],
      "text/latex": [
       "\\begin{enumerate*}\n",
       "\\item 0\n",
       "\\item 1\n",
       "\\item 2\n",
       "\\item 3\n",
       "\\item 4\n",
       "\\item 5\n",
       "\\item 6\n",
       "\\item 7\n",
       "\\item 8\n",
       "\\item 9\n",
       "\\item 10\n",
       "\\end{enumerate*}\n"
      ],
      "text/markdown": [
       "1. 0\n",
       "2. 1\n",
       "3. 2\n",
       "4. 3\n",
       "5. 4\n",
       "6. 5\n",
       "7. 6\n",
       "8. 7\n",
       "9. 8\n",
       "10. 9\n",
       "11. 10\n",
       "\n",
       "\n"
      ],
      "text/plain": [
       " [1]  0  1  2  3  4  5  6  7  8  9 10"
      ]
     },
     "metadata": {},
     "output_type": "display_data"
    }
   ],
   "source": [
    "seq(0, 10)"
   ]
  },
  {
   "cell_type": "markdown",
   "metadata": {},
   "source": [
    "O parâmetro `by` conta os números considerando como intervalo mínimo o valor fornecido. O exemplo a seguir cria um vetor com os números de 0 a 100 de 10 em 10:"
   ]
  },
  {
   "cell_type": "code",
   "execution_count": 10,
   "metadata": {},
   "outputs": [
    {
     "data": {
      "text/html": [
       "<ol class=list-inline>\n",
       "\t<li>0</li>\n",
       "\t<li>10</li>\n",
       "\t<li>20</li>\n",
       "\t<li>30</li>\n",
       "\t<li>40</li>\n",
       "\t<li>50</li>\n",
       "\t<li>60</li>\n",
       "\t<li>70</li>\n",
       "\t<li>80</li>\n",
       "\t<li>90</li>\n",
       "\t<li>100</li>\n",
       "</ol>\n"
      ],
      "text/latex": [
       "\\begin{enumerate*}\n",
       "\\item 0\n",
       "\\item 10\n",
       "\\item 20\n",
       "\\item 30\n",
       "\\item 40\n",
       "\\item 50\n",
       "\\item 60\n",
       "\\item 70\n",
       "\\item 80\n",
       "\\item 90\n",
       "\\item 100\n",
       "\\end{enumerate*}\n"
      ],
      "text/markdown": [
       "1. 0\n",
       "2. 10\n",
       "3. 20\n",
       "4. 30\n",
       "5. 40\n",
       "6. 50\n",
       "7. 60\n",
       "8. 70\n",
       "9. 80\n",
       "10. 90\n",
       "11. 100\n",
       "\n",
       "\n"
      ],
      "text/plain": [
       " [1]   0  10  20  30  40  50  60  70  80  90 100"
      ]
     },
     "metadata": {},
     "output_type": "display_data"
    }
   ],
   "source": [
    "seq(0, 100, by = 10)"
   ]
  },
  {
   "cell_type": "markdown",
   "metadata": {},
   "source": [
    "O parâmetro `length.out` é útil se quisermos saber em quantos passos um problema deve ser dividido. O exemplo a seguir cria um vetor que começa em 0, termina em 100 e possui exatamente 12 passos igualmente espaçados no intervalo."
   ]
  },
  {
   "cell_type": "code",
   "execution_count": 11,
   "metadata": {},
   "outputs": [
    {
     "data": {
      "text/html": [
       "<ol class=list-inline>\n",
       "\t<li>0</li>\n",
       "\t<li>8.33333333333333</li>\n",
       "\t<li>16.6666666666667</li>\n",
       "\t<li>25</li>\n",
       "\t<li>33.3333333333333</li>\n",
       "\t<li>41.6666666666667</li>\n",
       "\t<li>50</li>\n",
       "\t<li>58.3333333333333</li>\n",
       "\t<li>66.6666666666667</li>\n",
       "\t<li>75</li>\n",
       "\t<li>83.3333333333333</li>\n",
       "\t<li>91.6666666666667</li>\n",
       "\t<li>100</li>\n",
       "</ol>\n"
      ],
      "text/latex": [
       "\\begin{enumerate*}\n",
       "\\item 0\n",
       "\\item 8.33333333333333\n",
       "\\item 16.6666666666667\n",
       "\\item 25\n",
       "\\item 33.3333333333333\n",
       "\\item 41.6666666666667\n",
       "\\item 50\n",
       "\\item 58.3333333333333\n",
       "\\item 66.6666666666667\n",
       "\\item 75\n",
       "\\item 83.3333333333333\n",
       "\\item 91.6666666666667\n",
       "\\item 100\n",
       "\\end{enumerate*}\n"
      ],
      "text/markdown": [
       "1. 0\n",
       "2. 8.33333333333333\n",
       "3. 16.6666666666667\n",
       "4. 25\n",
       "5. 33.3333333333333\n",
       "6. 41.6666666666667\n",
       "7. 50\n",
       "8. 58.3333333333333\n",
       "9. 66.6666666666667\n",
       "10. 75\n",
       "11. 83.3333333333333\n",
       "12. 91.6666666666667\n",
       "13. 100\n",
       "\n",
       "\n"
      ],
      "text/plain": [
       " [1]   0.000000   8.333333  16.666667  25.000000  33.333333  41.666667\n",
       " [7]  50.000000  58.333333  66.666667  75.000000  83.333333  91.666667\n",
       "[13] 100.000000"
      ]
     },
     "metadata": {},
     "output_type": "display_data"
    }
   ],
   "source": [
    "seq(0, 100, length.out = 13)"
   ]
  },
  {
   "cell_type": "markdown",
   "metadata": {},
   "source": [
    "## 6.5. Funções do usuário\n",
    "\n",
    "### 6.5.1. Estruturando uma função\n",
    "\n",
    "Uma função possui a seguinte estrutura:"
   ]
  },
  {
   "cell_type": "code",
   "execution_count": 12,
   "metadata": {},
   "outputs": [],
   "source": [
    "function_name <- function(my_args) {\n",
    "  # process the arguments\n",
    "  # return some value\n",
    "}"
   ]
  },
  {
   "cell_type": "markdown",
   "metadata": {},
   "source": [
    "Um exemplo simples para uma função. O que será que ela faz?"
   ]
  },
  {
   "cell_type": "code",
   "execution_count": 13,
   "metadata": {},
   "outputs": [
    {
     "data": {
      "text/html": [
       "11"
      ],
      "text/latex": [
       "11"
      ],
      "text/markdown": [
       "11"
      ],
      "text/plain": [
       "[1] 11"
      ]
     },
     "metadata": {},
     "output_type": "display_data"
    }
   ],
   "source": [
    "add1 <- function(my_number) {\n",
    "  my_number + 1\n",
    "}\n",
    "\n",
    "add1(10)"
   ]
  },
  {
   "cell_type": "markdown",
   "metadata": {},
   "source": [
    "Vamos utilizar a sintaxe para construir uma função estatística mais complexa. O objetivo é reportar os p-valores no formato APA (com p = \"valor arredondado\" quando p >= 0.001 e \"p < 0.001\" quando p < 0.001.\n",
    "\n",
    "Primeiro é preciso encontrar um nome para a função, tomando o cuidado para não duplicar ou sobrescrever uma função já existente. Se a sua função tiver nome `rep()` será preciso utilizar `base::rep()` para chamar a função padrão. Nossa função se chamará `report_p`:"
   ]
  },
  {
   "cell_type": "code",
   "execution_count": 14,
   "metadata": {},
   "outputs": [],
   "source": [
    "report_p <- function() {\n",
    "}"
   ]
  },
  {
   "cell_type": "markdown",
   "metadata": {},
   "source": [
    "### 6.5.2. Parâmetros\n",
    "\n",
    "Nossa função precisa de apenas um parâmetro: o p-valor que será reportado. Os nomes escolhidos para os parâmetros estão no escopo da função e não colidem com as demais variáveis do script. "
   ]
  },
  {
   "cell_type": "code",
   "execution_count": 15,
   "metadata": {},
   "outputs": [],
   "source": [
    "report_p <- function(p) {\n",
    "}"
   ]
  },
  {
   "cell_type": "markdown",
   "metadata": {},
   "source": [
    "### 6.5.3. Valores padrão\n",
    "\n",
    "É possível adicionar um valor padrão para qualquer um dos parâmetros. Se o valor não for ajustado pelo usuário, o padrão será utilizado. Não faz sentido, para o exemplo que estamos tratando, chamar a função sem especificar um p-valor, mas podemos adicionar um segundo parâmetro chamado `digits` para arredondar os p-valores para 3 dígitos como padrão."
   ]
  },
  {
   "cell_type": "code",
   "execution_count": 16,
   "metadata": {},
   "outputs": [],
   "source": [
    "report_p <- function(p, digits = 3) {\n",
    "}"
   ]
  },
  {
   "cell_type": "markdown",
   "metadata": {},
   "source": [
    "Adicionamos no corpo da função o código que retornará o valor desejado. A saída vai no final da função"
   ]
  },
  {
   "cell_type": "code",
   "execution_count": 17,
   "metadata": {},
   "outputs": [],
   "source": [
    "report_p <- function(p, digits = 3) {\n",
    "  if (p < .001) {\n",
    "    reported = \"p < .001\"\n",
    "  } else {\n",
    "    roundp <- round(p, digits)\n",
    "    reported = paste(\"p =\", roundp)\n",
    "  }\n",
    "  \n",
    "  reported\n",
    "}"
   ]
  },
  {
   "cell_type": "markdown",
   "metadata": {},
   "source": [
    "Também é possível utilizar a chamada `return`."
   ]
  },
  {
   "cell_type": "code",
   "execution_count": 18,
   "metadata": {},
   "outputs": [],
   "source": [
    "report_p <- function(p, digits = 3) {\n",
    "  if (p < .001) {\n",
    "    reported = \"p < .001\"\n",
    "  } else {\n",
    "    roundp <- round(p, digits)\n",
    "    reported = paste(\"p =\", roundp)\n",
    "  }\n",
    "  \n",
    "  return(reported)\n",
    "}"
   ]
  },
  {
   "cell_type": "markdown",
   "metadata": {},
   "source": [
    "Definir a função não retorna nenhuma saída, mas torna o novo objeto recém criado disponível para utilização."
   ]
  },
  {
   "cell_type": "code",
   "execution_count": 19,
   "metadata": {},
   "outputs": [
    {
     "data": {
      "text/html": [
       "'p = 0.049'"
      ],
      "text/latex": [
       "'p = 0.049'"
      ],
      "text/markdown": [
       "'p = 0.049'"
      ],
      "text/plain": [
       "[1] \"p = 0.049\""
      ]
     },
     "metadata": {},
     "output_type": "display_data"
    },
    {
     "data": {
      "text/html": [
       "'p &lt; .001'"
      ],
      "text/latex": [
       "'p < .001'"
      ],
      "text/markdown": [
       "'p &lt; .001'"
      ],
      "text/plain": [
       "[1] \"p < .001\""
      ]
     },
     "metadata": {},
     "output_type": "display_data"
    }
   ],
   "source": [
    "report_p(0.04869)\n",
    "report_p(0.0000023)"
   ]
  },
  {
   "cell_type": "markdown",
   "metadata": {},
   "source": [
    "### 6.5.4. Escopo\n",
    "\n",
    "Todos os dados definidos no corpo da função ficam dentro do seu escopo. É possível alterar o valor de uma variável enviada para a função, mas não é possível alterar o seu valor fora da função."
   ]
  },
  {
   "cell_type": "code",
   "execution_count": 20,
   "metadata": {},
   "outputs": [
    {
     "data": {
      "text/html": [
       "<dl>\n",
       "\t<dt>$`half(x)`</dt>\n",
       "\t\t<dd>5</dd>\n",
       "\t<dt>$x</dt>\n",
       "\t\t<dd>10</dd>\n",
       "</dl>\n"
      ],
      "text/latex": [
       "\\begin{description}\n",
       "\\item[\\$`half(x)`] 5\n",
       "\\item[\\$x] 10\n",
       "\\end{description}\n"
      ],
      "text/markdown": [
       "$`half(x)`\n",
       ":   5\n",
       "$x\n",
       ":   10\n",
       "\n",
       "\n"
      ],
      "text/plain": [
       "$`half(x)`\n",
       "[1] 5\n",
       "\n",
       "$x\n",
       "[1] 10\n"
      ]
     },
     "metadata": {},
     "output_type": "display_data"
    }
   ],
   "source": [
    "half <- function(x) {\n",
    "  x <- x/2\n",
    "  return(x)\n",
    "}\n",
    "\n",
    "x <- 10\n",
    "list(\n",
    "  \"half(x)\" = half(x),\n",
    "  \"x\" = x\n",
    ")"
   ]
  },
  {
   "cell_type": "markdown",
   "metadata": {},
   "source": [
    "### 6.5.5. _Warning_ e erros\n",
    "\n",
    "Normalmente é uma boa prática adicionar avisos específicos  e parar a execução da função caso algum valor inválido fornecido, como por exemplo o envio de valores não numéricos para a função `report_p`. A chamada `stop()` para a execução da função.\n",
    "\n",
    "Se alguém fornecer um número que não seja possível para um p-valor (0-1) é uma boa ideia avisar que os dados estão inválidos, mas continuar a execução de qualquer maneira. Para atingir o objetivo utilizamos a função `warning()`."
   ]
  },
  {
   "cell_type": "code",
   "execution_count": 21,
   "metadata": {},
   "outputs": [],
   "source": [
    "report_p <- function(p, digits = 3) {\n",
    "  if (!is.numeric(p)) stop(\"p must be a number\")\n",
    "  if (p <= 0) warning(\"p-values are normally greater than 0\")\n",
    "  if (p >= 1) warning(\"p-values are normally less than 1\")\n",
    "  \n",
    "  if (p < .001) {\n",
    "    reported = \"p < .001\"\n",
    "  } else {\n",
    "    roundp <- round(p, digits)\n",
    "    reported = paste(\"p =\", roundp)\n",
    "  }\n",
    "  \n",
    "  reported\n",
    "}"
   ]
  },
  {
   "cell_type": "code",
   "execution_count": 22,
   "metadata": {},
   "outputs": [
    {
     "ename": "ERROR",
     "evalue": "Error in report_p(): argumento \"p\" ausente, sem padrão\n",
     "output_type": "error",
     "traceback": [
      "Error in report_p(): argumento \"p\" ausente, sem padrão\nTraceback:\n",
      "1. report_p()"
     ]
    }
   ],
   "source": [
    "report_p()"
   ]
  },
  {
   "cell_type": "code",
   "execution_count": 23,
   "metadata": {},
   "outputs": [
    {
     "ename": "ERROR",
     "evalue": "Error in report_p(\"a\"): p must be a number\n",
     "output_type": "error",
     "traceback": [
      "Error in report_p(\"a\"): p must be a number\nTraceback:\n",
      "1. report_p(\"a\")",
      "2. stop(\"p must be a number\")   # at line 2 of file <text>"
     ]
    }
   ],
   "source": [
    "report_p(\"a\")"
   ]
  },
  {
   "cell_type": "code",
   "execution_count": 24,
   "metadata": {},
   "outputs": [
    {
     "name": "stderr",
     "output_type": "stream",
     "text": [
      "Warning message in report_p(-2):\n",
      "“p-values are normally greater than 0”\n"
     ]
    },
    {
     "data": {
      "text/html": [
       "'p &lt; .001'"
      ],
      "text/latex": [
       "'p < .001'"
      ],
      "text/markdown": [
       "'p &lt; .001'"
      ],
      "text/plain": [
       "[1] \"p < .001\""
      ]
     },
     "metadata": {},
     "output_type": "display_data"
    }
   ],
   "source": [
    "report_p(-2)"
   ]
  },
  {
   "cell_type": "code",
   "execution_count": 25,
   "metadata": {},
   "outputs": [
    {
     "name": "stderr",
     "output_type": "stream",
     "text": [
      "Warning message in report_p(2):\n",
      "“p-values are normally less than 1”\n"
     ]
    },
    {
     "data": {
      "text/html": [
       "'p = 2'"
      ],
      "text/latex": [
       "'p = 2'"
      ],
      "text/markdown": [
       "'p = 2'"
      ],
      "text/plain": [
       "[1] \"p = 2\""
      ]
     },
     "metadata": {},
     "output_type": "display_data"
    }
   ],
   "source": [
    "report_p(2)"
   ]
  },
  {
   "cell_type": "markdown",
   "metadata": {},
   "source": [
    "## 6.6. Interagindo com suas funções\n",
    "\n",
    "Primeiro é necessário construir o código que será utilizado.\n",
    "\n",
    "### 6.6.1. `rnorm()`\n",
    "\n",
    "Crie um vetor de 20 números aleatórios pertencentes a uma distribuição normal com média 5 e desvio padrão 1 utilizando a função `rnorm()`, armazenando os resultados na variável `A`."
   ]
  },
  {
   "cell_type": "code",
   "execution_count": 26,
   "metadata": {},
   "outputs": [],
   "source": [
    "A <- rnorm(20, mean = 5, sd = 1)"
   ]
  },
  {
   "cell_type": "markdown",
   "metadata": {},
   "source": [
    "### 6.6.2. `tibble::tibble()`\n",
    "\n",
    "A função `tibble::tibble()` cria um tibble com uma coluna para cada parâmetro. Cada um dos parâmetros possui o formato `column_name = data_vector`.\n",
    "\n",
    "Crie um dataset de nome `dat` incluindo dois vetores: `A`, que é um vetor de 20 números aleatórios pertencentes a uma distribuição normal com média 5 e e desvio padrão 1 e `B`, que é um vetor de 20 números aleatórios pertencentes a uma distribuição normal com média 5.5 e desvio padrão 1."
   ]
  },
  {
   "cell_type": "code",
   "execution_count": 27,
   "metadata": {},
   "outputs": [],
   "source": [
    "dat <- tibble(\n",
    "  A = rnorm(20, 5, 1),\n",
    "  B = rnorm(20, 5.5, 1)\n",
    ")"
   ]
  },
  {
   "cell_type": "markdown",
   "metadata": {},
   "source": [
    "### 6.6.3. `t.test`\n",
    "\n",
    "Vamos testar os dados recém criados rodando um t-test de Welch incluindo as duas amostras como os dois primeiros parâmetros da função `t.test`. Para acessar uma coluna em uma tabela utilizamos o formato `table_name$column_name`."
   ]
  },
  {
   "cell_type": "code",
   "execution_count": 34,
   "metadata": {},
   "outputs": [
    {
     "data": {
      "text/plain": [
       "\n",
       "\tWelch Two Sample t-test\n",
       "\n",
       "data:  dat$A and dat$B\n",
       "t = 0.029301, df = 37.27, p-value = 0.9768\n",
       "alternative hypothesis: true difference in means is not equal to 0\n",
       "95 percent confidence interval:\n",
       " -0.4829147  0.4970899\n",
       "sample estimates:\n",
       "mean of x mean of y \n",
       " 5.251942  5.244854 \n"
      ]
     },
     "metadata": {},
     "output_type": "display_data"
    }
   ],
   "source": [
    "t.test(dat$A, dat$B)"
   ]
  },
  {
   "cell_type": "markdown",
   "metadata": {},
   "source": [
    "Também podemos converter os dados para o formato longo utilizando a função `gather` e especificando o t.test utilizando o formato `dv_column~grouping_column`"
   ]
  },
  {
   "cell_type": "code",
   "execution_count": 35,
   "metadata": {},
   "outputs": [
    {
     "data": {
      "text/plain": [
       "\n",
       "\tWelch Two Sample t-test\n",
       "\n",
       "data:  score by group\n",
       "t = 0.029301, df = 37.27, p-value = 0.9768\n",
       "alternative hypothesis: true difference in means is not equal to 0\n",
       "95 percent confidence interval:\n",
       " -0.4829147  0.4970899\n",
       "sample estimates:\n",
       "mean in group A mean in group B \n",
       "       5.251942        5.244854 \n"
      ]
     },
     "metadata": {},
     "output_type": "display_data"
    }
   ],
   "source": [
    "longdat <- gather(dat, group, score, A:B)\n",
    "t.test(score~group, data = longdat) "
   ]
  },
  {
   "cell_type": "markdown",
   "metadata": {},
   "source": [
    "### 6.6.4. `broom::tidy()`\n",
    "\n",
    "A função `broom::tidy()` permite extrair os dados de um teste estatístico no formato de tabela."
   ]
  },
  {
   "cell_type": "code",
   "execution_count": 36,
   "metadata": {},
   "outputs": [
    {
     "data": {
      "text/html": [
       "<table>\n",
       "<caption>A tibble: 1 × 10</caption>\n",
       "<thead>\n",
       "\t<tr><th scope=col>estimate</th><th scope=col>estimate1</th><th scope=col>estimate2</th><th scope=col>statistic</th><th scope=col>p.value</th><th scope=col>parameter</th><th scope=col>conf.low</th><th scope=col>conf.high</th><th scope=col>method</th><th scope=col>alternative</th></tr>\n",
       "\t<tr><th scope=col>&lt;dbl&gt;</th><th scope=col>&lt;dbl&gt;</th><th scope=col>&lt;dbl&gt;</th><th scope=col>&lt;dbl&gt;</th><th scope=col>&lt;dbl&gt;</th><th scope=col>&lt;dbl&gt;</th><th scope=col>&lt;dbl&gt;</th><th scope=col>&lt;dbl&gt;</th><th scope=col>&lt;chr&gt;</th><th scope=col>&lt;chr&gt;</th></tr>\n",
       "</thead>\n",
       "<tbody>\n",
       "\t<tr><td>-0.9028235</td><td>4.85629</td><td>5.759114</td><td>-2.819616</td><td>0.007872814</td><td>34.89848</td><td>-1.552919</td><td>-0.252728</td><td>Welch Two Sample t-test</td><td>two.sided</td></tr>\n",
       "</tbody>\n",
       "</table>\n"
      ],
      "text/latex": [
       "A tibble: 1 × 10\n",
       "\\begin{tabular}{llllllllll}\n",
       " estimate & estimate1 & estimate2 & statistic & p.value & parameter & conf.low & conf.high & method & alternative\\\\\n",
       " <dbl> & <dbl> & <dbl> & <dbl> & <dbl> & <dbl> & <dbl> & <dbl> & <chr> & <chr>\\\\\n",
       "\\hline\n",
       "\t -0.9028235 & 4.85629 & 5.759114 & -2.819616 & 0.007872814 & 34.89848 & -1.552919 & -0.252728 & Welch Two Sample t-test & two.sided\\\\\n",
       "\\end{tabular}\n"
      ],
      "text/markdown": [
       "\n",
       "A tibble: 1 × 10\n",
       "\n",
       "| estimate &lt;dbl&gt; | estimate1 &lt;dbl&gt; | estimate2 &lt;dbl&gt; | statistic &lt;dbl&gt; | p.value &lt;dbl&gt; | parameter &lt;dbl&gt; | conf.low &lt;dbl&gt; | conf.high &lt;dbl&gt; | method &lt;chr&gt; | alternative &lt;chr&gt; |\n",
       "|---|---|---|---|---|---|---|---|---|---|\n",
       "| -0.9028235 | 4.85629 | 5.759114 | -2.819616 | 0.007872814 | 34.89848 | -1.552919 | -0.252728 | Welch Two Sample t-test | two.sided |\n",
       "\n"
      ],
      "text/plain": [
       "  estimate   estimate1 estimate2 statistic p.value     parameter conf.low \n",
       "1 -0.9028235 4.85629   5.759114  -2.819616 0.007872814 34.89848  -1.552919\n",
       "  conf.high method                  alternative\n",
       "1 -0.252728 Welch Two Sample t-test two.sided  "
      ]
     },
     "metadata": {},
     "output_type": "display_data"
    }
   ],
   "source": [
    "tibble(\n",
    "  A = rnorm(20, 5, 1),\n",
    "  B = rnorm(20, 5.5, 1)\n",
    ") %>%\n",
    "  gather(group, score, A:B) %>%\n",
    "  t.test(score~group, data = .) %>%\n",
    "  broom::tidy()"
   ]
  },
  {
   "cell_type": "markdown",
   "metadata": {},
   "source": [
    "A utilização de `pull()` permite extrair um único valor."
   ]
  },
  {
   "cell_type": "code",
   "execution_count": 37,
   "metadata": {},
   "outputs": [
    {
     "data": {
      "text/html": [
       "0.00809347885405384"
      ],
      "text/latex": [
       "0.00809347885405384"
      ],
      "text/markdown": [
       "0.00809347885405384"
      ],
      "text/plain": [
       "[1] 0.008093479"
      ]
     },
     "metadata": {},
     "output_type": "display_data"
    }
   ],
   "source": [
    "tibble(\n",
    "  A = rnorm(20, 5, 1),\n",
    "  B = rnorm(20, 5.5, 1)\n",
    ") %>%\n",
    "  gather(group, score, A:B) %>%\n",
    "  t.test(score~group, data = .) %>%\n",
    "  broom::tidy() %>%\n",
    "  pull(p.value)"
   ]
  },
  {
   "cell_type": "markdown",
   "metadata": {},
   "source": [
    "### 6.6.5. Transformando em uma função\n",
    "\n",
    "A função `t_sim` vai abrigar todas as operações e não recebe nenhum parâmetro."
   ]
  },
  {
   "cell_type": "code",
   "execution_count": 38,
   "metadata": {},
   "outputs": [],
   "source": [
    "t_sim <- function() {\n",
    "  tibble(\n",
    "    A = rnorm(20, 5, 1),\n",
    "    B = rnorm(20, 5.5, 1)\n",
    "  ) %>%\n",
    "    gather(group, score, A:B) %>%\n",
    "    t.test(score~group, data = .) %>%\n",
    "    broom::tidy() %>%\n",
    "    pull(p.value) \n",
    "}"
   ]
  },
  {
   "cell_type": "markdown",
   "metadata": {},
   "source": [
    "Execute algumas vezes para ver o resultado"
   ]
  },
  {
   "cell_type": "code",
   "execution_count": 40,
   "metadata": {},
   "outputs": [
    {
     "data": {
      "text/html": [
       "0.142859175972446"
      ],
      "text/latex": [
       "0.142859175972446"
      ],
      "text/markdown": [
       "0.142859175972446"
      ],
      "text/plain": [
       "[1] 0.1428592"
      ]
     },
     "metadata": {},
     "output_type": "display_data"
    }
   ],
   "source": [
    "t_sim()"
   ]
  },
  {
   "cell_type": "markdown",
   "metadata": {},
   "source": [
    "### 6.6.6. `replicate()`\n",
    "\n",
    "Utilize `replicate()` para rodar uma função qualquer número de vezes."
   ]
  },
  {
   "cell_type": "code",
   "execution_count": 41,
   "metadata": {},
   "outputs": [
    {
     "data": {
      "text/html": [
       "<table>\n",
       "<caption>A matrix: 5 × 3 of type dbl</caption>\n",
       "<tbody>\n",
       "\t<tr><td> 0.38719957</td><td>-0.01375654</td><td>-0.5102323</td></tr>\n",
       "\t<tr><td> 1.03018135</td><td>-2.72281902</td><td> 1.3368846</td></tr>\n",
       "\t<tr><td> 0.51648698</td><td> 0.41191338</td><td>-0.8905043</td></tr>\n",
       "\t<tr><td> 0.09786637</td><td> 1.23162468</td><td>-1.5533902</td></tr>\n",
       "\t<tr><td>-0.07268211</td><td> 1.59030643</td><td> 1.3712995</td></tr>\n",
       "</tbody>\n",
       "</table>\n"
      ],
      "text/latex": [
       "A matrix: 5 × 3 of type dbl\n",
       "\\begin{tabular}{lll}\n",
       "\t  0.38719957 & -0.01375654 & -0.5102323\\\\\n",
       "\t  1.03018135 & -2.72281902 &  1.3368846\\\\\n",
       "\t  0.51648698 &  0.41191338 & -0.8905043\\\\\n",
       "\t  0.09786637 &  1.23162468 & -1.5533902\\\\\n",
       "\t -0.07268211 &  1.59030643 &  1.3712995\\\\\n",
       "\\end{tabular}\n"
      ],
      "text/markdown": [
       "\n",
       "A matrix: 5 × 3 of type dbl\n",
       "\n",
       "|  0.38719957 | -0.01375654 | -0.5102323 |\n",
       "|  1.03018135 | -2.72281902 |  1.3368846 |\n",
       "|  0.51648698 |  0.41191338 | -0.8905043 |\n",
       "|  0.09786637 |  1.23162468 | -1.5533902 |\n",
       "| -0.07268211 |  1.59030643 |  1.3712995 |\n",
       "\n"
      ],
      "text/plain": [
       "     [,1]        [,2]        [,3]      \n",
       "[1,]  0.38719957 -0.01375654 -0.5102323\n",
       "[2,]  1.03018135 -2.72281902  1.3368846\n",
       "[3,]  0.51648698  0.41191338 -0.8905043\n",
       "[4,]  0.09786637  1.23162468 -1.5533902\n",
       "[5,] -0.07268211  1.59030643  1.3712995"
      ]
     },
     "metadata": {},
     "output_type": "display_data"
    }
   ],
   "source": [
    "replicate(3, rnorm(5))"
   ]
  },
  {
   "cell_type": "markdown",
   "metadata": {},
   "source": [
    "Vamos rodar a função t_sim 1000 vezes, atribuindo os p-valores resultantes a um vetor chamado `reps`, verificando a proporção dos p-valores que é menor do que alpha (0.05, por exemplo). Este número representa a potência da análise."
   ]
  },
  {
   "cell_type": "code",
   "execution_count": 42,
   "metadata": {},
   "outputs": [
    {
     "data": {
      "text/html": [
       "0.334"
      ],
      "text/latex": [
       "0.334"
      ],
      "text/markdown": [
       "0.334"
      ],
      "text/plain": [
       "[1] 0.334"
      ]
     },
     "metadata": {},
     "output_type": "display_data"
    }
   ],
   "source": [
    "reps <- replicate(1000, t_sim())\n",
    "alpha <- .05\n",
    "power <- mean(reps < alpha)\n",
    "power"
   ]
  },
  {
   "cell_type": "code",
   "execution_count": null,
   "metadata": {},
   "outputs": [],
   "source": []
  },
  {
   "cell_type": "markdown",
   "metadata": {},
   "source": [
    "### 6.6.7. _Set seed_\n",
    "\n",
    "A chamada `set.seed` antes de uma função que utilize números aleatórios para garantir que os números sejam diferentes a cada chamada. Qualquer inteiro pode ser utilizado como _seed_"
   ]
  },
  {
   "cell_type": "code",
   "execution_count": 43,
   "metadata": {},
   "outputs": [],
   "source": [
    "set.seed(90201)"
   ]
  },
  {
   "cell_type": "markdown",
   "metadata": {},
   "source": [
    "### 6.6.8. Adicionando parâmetros\n",
    "\n",
    "É possível simplesmente alterar a função sempre que quisermos calcular os resultados para uma amostra diferente, contudo é mais eficiente utilizar parâmetros da função. Vamos redefinir a função `t_sim`, atribuindo parâmetros para média e desvio padrão dos grupos A e B, além do número de observações do grupo. Todos os parâmetros serão construídos com valores padrão."
   ]
  },
  {
   "cell_type": "code",
   "execution_count": 44,
   "metadata": {},
   "outputs": [],
   "source": [
    "t_sim <- function(n = 10, m1=0, sd1=1, m2=0, sd2=1) {\n",
    "  tibble(\n",
    "    A = rnorm(n, m1, sd1),\n",
    "    B = rnorm(n, m2, sd2)\n",
    "  ) %>%\n",
    "    gather(group, score, A:B) %>%\n",
    "    t.test(score~group, data = .) %>%\n",
    "    broom::tidy() %>%\n",
    "    pull(p.value) \n",
    "}"
   ]
  },
  {
   "cell_type": "markdown",
   "metadata": {},
   "source": [
    "Teste a função com diferentes valores para verificar se os resultados fazem sentido"
   ]
  },
  {
   "cell_type": "code",
   "execution_count": 45,
   "metadata": {},
   "outputs": [
    {
     "data": {
      "text/html": [
       "0.506561852044728"
      ],
      "text/latex": [
       "0.506561852044728"
      ],
      "text/markdown": [
       "0.506561852044728"
      ],
      "text/plain": [
       "[1] 0.5065619"
      ]
     },
     "metadata": {},
     "output_type": "display_data"
    },
    {
     "data": {
      "text/html": [
       "0.00184406404817442"
      ],
      "text/latex": [
       "0.00184406404817442"
      ],
      "text/markdown": [
       "0.00184406404817442"
      ],
      "text/plain": [
       "[1] 0.001844064"
      ]
     },
     "metadata": {},
     "output_type": "display_data"
    }
   ],
   "source": [
    "t_sim(100)\n",
    "t_sim(100, 0, 1, 0.5, 1)"
   ]
  },
  {
   "cell_type": "markdown",
   "metadata": {},
   "source": [
    "Adicionamos `replicate` para calcular os valores para 100 observações por grupo, com um efeito de tamanho 0.2 (A: m = 0, SD = 1; B: m = 0.2, SD = 1). Repetimos 1000 vezes."
   ]
  },
  {
   "cell_type": "code",
   "execution_count": 46,
   "metadata": {},
   "outputs": [
    {
     "data": {
      "text/html": [
       "0.268"
      ],
      "text/latex": [
       "0.268"
      ],
      "text/markdown": [
       "0.268"
      ],
      "text/plain": [
       "[1] 0.268"
      ]
     },
     "metadata": {},
     "output_type": "display_data"
    }
   ],
   "source": [
    "reps <- replicate(1000, t_sim(100, 0, 1, 0.2, 1))\n",
    "power <- mean(reps < .05)\n",
    "power"
   ]
  },
  {
   "cell_type": "markdown",
   "metadata": {},
   "source": [
    "Compare os resultados com o valor calculado pela função `power.t.test`."
   ]
  },
  {
   "cell_type": "code",
   "execution_count": 47,
   "metadata": {},
   "outputs": [
    {
     "data": {
      "text/plain": [
       "\n",
       "     Two-sample t test power calculation \n",
       "\n",
       "              n = 100\n",
       "          delta = 0.2\n",
       "             sd = 1\n",
       "      sig.level = 0.05\n",
       "          power = 0.2902664\n",
       "    alternative = two.sided\n",
       "\n",
       "NOTE: n is number in *each* group\n"
      ]
     },
     "metadata": {},
     "output_type": "display_data"
    }
   ],
   "source": [
    "power.t.test(n = 100, delta = 0.2, sd = 1, type=\"two.sample\")"
   ]
  },
  {
   "cell_type": "code",
   "execution_count": null,
   "metadata": {},
   "outputs": [],
   "source": []
  }
 ],
 "metadata": {
  "kernelspec": {
   "display_name": "R",
   "language": "R",
   "name": "ir"
  },
  "language_info": {
   "codemirror_mode": "r",
   "file_extension": ".r",
   "mimetype": "text/x-r-source",
   "name": "R",
   "pygments_lexer": "r",
   "version": "3.6.1"
  }
 },
 "nbformat": 4,
 "nbformat_minor": 2
}
