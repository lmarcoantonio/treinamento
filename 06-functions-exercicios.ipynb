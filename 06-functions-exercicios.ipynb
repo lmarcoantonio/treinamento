{
 "cells": [
  {
   "cell_type": "markdown",
   "metadata": {},
   "source": [
    "# Aula 06 - Exercícios\n",
    "\n",
    "Resolva os exercícios nos campos indicados\n",
    "\n",
    "## Ajustes"
   ]
  },
  {
   "cell_type": "code",
   "execution_count": 1,
   "metadata": {},
   "outputs": [
    {
     "name": "stdout",
     "output_type": "stream",
     "text": [
      "\n",
      "The downloaded binary packages are in\n",
      "\t/var/folders/pj/q06rg07s0ylcwm8vw7s2s6lc0000gp/T//RtmpDPja8s/downloaded_packages\n"
     ]
    },
    {
     "name": "stderr",
     "output_type": "stream",
     "text": [
      "── \u001b[1mAttaching packages\u001b[22m ─────────────────────────────────────── tidyverse 1.3.0 ──\n",
      "\n",
      "\u001b[32m✔\u001b[39m \u001b[34mggplot2\u001b[39m 3.2.1     \u001b[32m✔\u001b[39m \u001b[34mpurrr  \u001b[39m 0.3.3\n",
      "\u001b[32m✔\u001b[39m \u001b[34mtibble \u001b[39m 2.1.3     \u001b[32m✔\u001b[39m \u001b[34mdplyr  \u001b[39m 0.8.3\n",
      "\u001b[32m✔\u001b[39m \u001b[34mtidyr  \u001b[39m 1.0.2     \u001b[32m✔\u001b[39m \u001b[34mstringr\u001b[39m 1.4.0\n",
      "\u001b[32m✔\u001b[39m \u001b[34mreadr  \u001b[39m 1.3.1     \u001b[32m✔\u001b[39m \u001b[34mforcats\u001b[39m 0.4.0\n",
      "\n",
      "── \u001b[1mConflicts\u001b[22m ────────────────────────────────────────── tidyverse_conflicts() ──\n",
      "\u001b[31m✖\u001b[39m \u001b[34mdplyr\u001b[39m::\u001b[32mfilter()\u001b[39m masks \u001b[34mstats\u001b[39m::filter()\n",
      "\u001b[31m✖\u001b[39m \u001b[34mdplyr\u001b[39m::\u001b[32mlag()\u001b[39m    masks \u001b[34mstats\u001b[39m::lag()\n",
      "\n"
     ]
    }
   ],
   "source": [
    "home <- path.expand(\"~\")\n",
    "lib_dir <- file.path(file.path(home, \"R\"), \"lib\")\n",
    "dir.create(lib_dir, showWarnings = FALSE)\n",
    "\n",
    "library(utils)\n",
    ".libPaths(c(lib_dir, .libPaths()))\n",
    "\n",
    "# libraries needed\n",
    "install.packages(\"tidyverse\")\n",
    "library(tidyverse)\n",
    "\n",
    "set.seed(1618034)"
   ]
  },
  {
   "cell_type": "markdown",
   "metadata": {},
   "source": [
    "### Questão 6.1\n",
    "\n",
    "Ajuste o vetor `v1` para os seguintes valores:  11, 13, 15, 17, 19, ..., 99, 101. Utilize uma função para resolver o problema."
   ]
  },
  {
   "cell_type": "code",
   "execution_count": 2,
   "metadata": {},
   "outputs": [
    {
     "data": {
      "text/html": [
       "<style>\n",
       ".list-inline {list-style: none; margin:0; padding: 0}\n",
       ".list-inline>li {display: inline-block}\n",
       ".list-inline>li:not(:last-child)::after {content: \"\\00b7\"; padding: 0 .5ex}\n",
       "</style>\n",
       "<ol class=list-inline><li>11</li><li>13</li><li>15</li><li>17</li><li>19</li><li>21</li><li>23</li><li>25</li><li>27</li><li>29</li><li>31</li><li>33</li><li>35</li><li>37</li><li>39</li><li>41</li><li>43</li><li>45</li><li>47</li><li>49</li><li>51</li><li>53</li><li>55</li><li>57</li><li>59</li><li>61</li><li>63</li><li>65</li><li>67</li><li>69</li><li>71</li><li>73</li><li>75</li><li>77</li><li>79</li><li>81</li><li>83</li><li>85</li><li>87</li><li>89</li><li>91</li><li>93</li><li>95</li><li>97</li><li>99</li><li>101</li></ol>\n"
      ],
      "text/latex": [
       "\\begin{enumerate*}\n",
       "\\item 11\n",
       "\\item 13\n",
       "\\item 15\n",
       "\\item 17\n",
       "\\item 19\n",
       "\\item 21\n",
       "\\item 23\n",
       "\\item 25\n",
       "\\item 27\n",
       "\\item 29\n",
       "\\item 31\n",
       "\\item 33\n",
       "\\item 35\n",
       "\\item 37\n",
       "\\item 39\n",
       "\\item 41\n",
       "\\item 43\n",
       "\\item 45\n",
       "\\item 47\n",
       "\\item 49\n",
       "\\item 51\n",
       "\\item 53\n",
       "\\item 55\n",
       "\\item 57\n",
       "\\item 59\n",
       "\\item 61\n",
       "\\item 63\n",
       "\\item 65\n",
       "\\item 67\n",
       "\\item 69\n",
       "\\item 71\n",
       "\\item 73\n",
       "\\item 75\n",
       "\\item 77\n",
       "\\item 79\n",
       "\\item 81\n",
       "\\item 83\n",
       "\\item 85\n",
       "\\item 87\n",
       "\\item 89\n",
       "\\item 91\n",
       "\\item 93\n",
       "\\item 95\n",
       "\\item 97\n",
       "\\item 99\n",
       "\\item 101\n",
       "\\end{enumerate*}\n"
      ],
      "text/markdown": [
       "1. 11\n",
       "2. 13\n",
       "3. 15\n",
       "4. 17\n",
       "5. 19\n",
       "6. 21\n",
       "7. 23\n",
       "8. 25\n",
       "9. 27\n",
       "10. 29\n",
       "11. 31\n",
       "12. 33\n",
       "13. 35\n",
       "14. 37\n",
       "15. 39\n",
       "16. 41\n",
       "17. 43\n",
       "18. 45\n",
       "19. 47\n",
       "20. 49\n",
       "21. 51\n",
       "22. 53\n",
       "23. 55\n",
       "24. 57\n",
       "25. 59\n",
       "26. 61\n",
       "27. 63\n",
       "28. 65\n",
       "29. 67\n",
       "30. 69\n",
       "31. 71\n",
       "32. 73\n",
       "33. 75\n",
       "34. 77\n",
       "35. 79\n",
       "36. 81\n",
       "37. 83\n",
       "38. 85\n",
       "39. 87\n",
       "40. 89\n",
       "41. 91\n",
       "42. 93\n",
       "43. 95\n",
       "44. 97\n",
       "45. 99\n",
       "46. 101\n",
       "\n",
       "\n"
      ],
      "text/plain": [
       " [1]  11  13  15  17  19  21  23  25  27  29  31  33  35  37  39  41  43  45  47\n",
       "[20]  49  51  53  55  57  59  61  63  65  67  69  71  73  75  77  79  81  83  85\n",
       "[39]  87  89  91  93  95  97  99 101"
      ]
     },
     "metadata": {},
     "output_type": "display_data"
    }
   ],
   "source": [
    "# Escreva aqui a resposta. A saída deve ser a mesma"
   ]
  },
  {
   "cell_type": "markdown",
   "metadata": {},
   "source": [
    "### Questão 6.2\n",
    "\n",
    "Ajuste o vetor `v2` para os seguintes valores: \"A\" \"A\" \"B\" \"B\" \"C\" \"C\" \"D\" \"D\" \"E\" \"E\""
   ]
  },
  {
   "cell_type": "code",
   "execution_count": 3,
   "metadata": {},
   "outputs": [
    {
     "data": {
      "text/html": [
       "<style>\n",
       ".list-inline {list-style: none; margin:0; padding: 0}\n",
       ".list-inline>li {display: inline-block}\n",
       ".list-inline>li:not(:last-child)::after {content: \"\\00b7\"; padding: 0 .5ex}\n",
       "</style>\n",
       "<ol class=list-inline><li>'A'</li><li>'A'</li><li>'B'</li><li>'B'</li><li>'C'</li><li>'C'</li><li>'D'</li><li>'D'</li><li>'E'</li><li>'E'</li></ol>\n"
      ],
      "text/latex": [
       "\\begin{enumerate*}\n",
       "\\item 'A'\n",
       "\\item 'A'\n",
       "\\item 'B'\n",
       "\\item 'B'\n",
       "\\item 'C'\n",
       "\\item 'C'\n",
       "\\item 'D'\n",
       "\\item 'D'\n",
       "\\item 'E'\n",
       "\\item 'E'\n",
       "\\end{enumerate*}\n"
      ],
      "text/markdown": [
       "1. 'A'\n",
       "2. 'A'\n",
       "3. 'B'\n",
       "4. 'B'\n",
       "5. 'C'\n",
       "6. 'C'\n",
       "7. 'D'\n",
       "8. 'D'\n",
       "9. 'E'\n",
       "10. 'E'\n",
       "\n",
       "\n"
      ],
      "text/plain": [
       " [1] \"A\" \"A\" \"B\" \"B\" \"C\" \"C\" \"D\" \"D\" \"E\" \"E\""
      ]
     },
     "metadata": {},
     "output_type": "display_data"
    }
   ],
   "source": [
    "# Escreva aqui a resposta. A saída deve ser a mesma"
   ]
  },
  {
   "cell_type": "markdown",
   "metadata": {},
   "source": [
    "### Questão 6.3\n",
    "\n",
    "Ajuste o vetor `v3` para que seja igual aos seguintes valores: \"a\" \"b\" \"c\" \"d\" \"e\" \"a\" \"b\" \"c\" \"d\" \"e\""
   ]
  },
  {
   "cell_type": "code",
   "execution_count": 5,
   "metadata": {},
   "outputs": [
    {
     "data": {
      "text/html": [
       "<style>\n",
       ".list-inline {list-style: none; margin:0; padding: 0}\n",
       ".list-inline>li {display: inline-block}\n",
       ".list-inline>li:not(:last-child)::after {content: \"\\00b7\"; padding: 0 .5ex}\n",
       "</style>\n",
       "<ol class=list-inline><li>'a'</li><li>'b'</li><li>'c'</li><li>'d'</li><li>'e'</li><li>'a'</li><li>'b'</li><li>'c'</li><li>'d'</li><li>'e'</li></ol>\n"
      ],
      "text/latex": [
       "\\begin{enumerate*}\n",
       "\\item 'a'\n",
       "\\item 'b'\n",
       "\\item 'c'\n",
       "\\item 'd'\n",
       "\\item 'e'\n",
       "\\item 'a'\n",
       "\\item 'b'\n",
       "\\item 'c'\n",
       "\\item 'd'\n",
       "\\item 'e'\n",
       "\\end{enumerate*}\n"
      ],
      "text/markdown": [
       "1. 'a'\n",
       "2. 'b'\n",
       "3. 'c'\n",
       "4. 'd'\n",
       "5. 'e'\n",
       "6. 'a'\n",
       "7. 'b'\n",
       "8. 'c'\n",
       "9. 'd'\n",
       "10. 'e'\n",
       "\n",
       "\n"
      ],
      "text/plain": [
       " [1] \"a\" \"b\" \"c\" \"d\" \"e\" \"a\" \"b\" \"c\" \"d\" \"e\""
      ]
     },
     "metadata": {},
     "output_type": "display_data"
    }
   ],
   "source": [
    "# Escreva aqui a resposta. A saída deve ser a mesma"
   ]
  },
  {
   "cell_type": "markdown",
   "metadata": {},
   "source": [
    "### Questão 6.4\n",
    "\n",
    "Ajuste o vetor `v4` para conter as seguintes sequências de compras de palavras:\n",
    "\n",
    "* \"dog\" 10 vezes\n",
    "* \"cat\" 9 vezes\n",
    "* \"fish\" 6 vezes\n",
    "* \"ferret\" 1 vez"
   ]
  },
  {
   "cell_type": "code",
   "execution_count": 4,
   "metadata": {},
   "outputs": [
    {
     "data": {
      "text/html": [
       "<style>\n",
       ".list-inline {list-style: none; margin:0; padding: 0}\n",
       ".list-inline>li {display: inline-block}\n",
       ".list-inline>li:not(:last-child)::after {content: \"\\00b7\"; padding: 0 .5ex}\n",
       "</style>\n",
       "<ol class=list-inline><li>'dog'</li><li>'dog'</li><li>'dog'</li><li>'dog'</li><li>'dog'</li><li>'dog'</li><li>'dog'</li><li>'dog'</li><li>'dog'</li><li>'dog'</li><li>'cat'</li><li>'cat'</li><li>'cat'</li><li>'cat'</li><li>'cat'</li><li>'cat'</li><li>'cat'</li><li>'cat'</li><li>'cat'</li><li>'fish'</li><li>'fish'</li><li>'fish'</li><li>'fish'</li><li>'fish'</li><li>'fish'</li><li>'ferret'</li></ol>\n"
      ],
      "text/latex": [
       "\\begin{enumerate*}\n",
       "\\item 'dog'\n",
       "\\item 'dog'\n",
       "\\item 'dog'\n",
       "\\item 'dog'\n",
       "\\item 'dog'\n",
       "\\item 'dog'\n",
       "\\item 'dog'\n",
       "\\item 'dog'\n",
       "\\item 'dog'\n",
       "\\item 'dog'\n",
       "\\item 'cat'\n",
       "\\item 'cat'\n",
       "\\item 'cat'\n",
       "\\item 'cat'\n",
       "\\item 'cat'\n",
       "\\item 'cat'\n",
       "\\item 'cat'\n",
       "\\item 'cat'\n",
       "\\item 'cat'\n",
       "\\item 'fish'\n",
       "\\item 'fish'\n",
       "\\item 'fish'\n",
       "\\item 'fish'\n",
       "\\item 'fish'\n",
       "\\item 'fish'\n",
       "\\item 'ferret'\n",
       "\\end{enumerate*}\n"
      ],
      "text/markdown": [
       "1. 'dog'\n",
       "2. 'dog'\n",
       "3. 'dog'\n",
       "4. 'dog'\n",
       "5. 'dog'\n",
       "6. 'dog'\n",
       "7. 'dog'\n",
       "8. 'dog'\n",
       "9. 'dog'\n",
       "10. 'dog'\n",
       "11. 'cat'\n",
       "12. 'cat'\n",
       "13. 'cat'\n",
       "14. 'cat'\n",
       "15. 'cat'\n",
       "16. 'cat'\n",
       "17. 'cat'\n",
       "18. 'cat'\n",
       "19. 'cat'\n",
       "20. 'fish'\n",
       "21. 'fish'\n",
       "22. 'fish'\n",
       "23. 'fish'\n",
       "24. 'fish'\n",
       "25. 'fish'\n",
       "26. 'ferret'\n",
       "\n",
       "\n"
      ],
      "text/plain": [
       " [1] \"dog\"    \"dog\"    \"dog\"    \"dog\"    \"dog\"    \"dog\"    \"dog\"    \"dog\"   \n",
       " [9] \"dog\"    \"dog\"    \"cat\"    \"cat\"    \"cat\"    \"cat\"    \"cat\"    \"cat\"   \n",
       "[17] \"cat\"    \"cat\"    \"cat\"    \"fish\"   \"fish\"   \"fish\"   \"fish\"   \"fish\"  \n",
       "[25] \"fish\"   \"ferret\""
      ]
     },
     "metadata": {},
     "output_type": "display_data"
    }
   ],
   "source": [
    "# Escreva aqui a resposta. A saída deve ser a mesma"
   ]
  },
  {
   "cell_type": "markdown",
   "metadata": {},
   "source": [
    "### Questão 6.5\n",
    "\n",
    "Escreva uma função chamada `my_add` que some dois números `x` e `y` juntos e retorne os resultados."
   ]
  },
  {
   "cell_type": "code",
   "execution_count": 7,
   "metadata": {},
   "outputs": [
    {
     "data": {
      "text/html": [
       "<pre class=language-r><code>function (x, y) \n",
       "{\n",
       "<span style=white-space:pre-wrap>    x + y</span>\n",
       "}</code></pre>"
      ],
      "text/latex": [
       "\\begin{minted}{r}\n",
       "function (x, y) \n",
       "\\{\n",
       "    x + y\n",
       "\\}\n",
       "\\end{minted}"
      ],
      "text/markdown": [
       "```r\n",
       "function (x, y) \n",
       "{\n",
       "    x + y\n",
       "}\n",
       "```"
      ],
      "text/plain": [
       "function(x, y) {\n",
       "  x+y\n",
       "}"
      ]
     },
     "metadata": {},
     "output_type": "display_data"
    }
   ],
   "source": [
    "# Escreva aqui a resposta. A saída deve ser a mesma"
   ]
  },
  {
   "cell_type": "markdown",
   "metadata": {},
   "source": [
    "### Questão 6.6\n",
    "\n",
    "Copie a função `my_add` da questão anterior e adicione uma mensagem que retorna \"x and y must be numbers\" se um dos dois (`x` ou `y`) não for numérico."
   ]
  },
  {
   "cell_type": "code",
   "execution_count": 8,
   "metadata": {},
   "outputs": [
    {
     "data": {
      "text/html": [
       "<pre class=language-r><code>function (x, y) \n",
       "{\n",
       "<span style=white-space:pre-wrap>    if (!is.numeric(x) | !is.numeric(y)) </span>\n",
       "<span style=white-space:pre-wrap>        stop(\"x and y must be numbers\")</span>\n",
       "<span style=white-space:pre-wrap>    x + y</span>\n",
       "}</code></pre>"
      ],
      "text/latex": [
       "\\begin{minted}{r}\n",
       "function (x, y) \n",
       "\\{\n",
       "    if (!is.numeric(x) \\textbar{} !is.numeric(y)) \n",
       "        stop(\"x and y must be numbers\")\n",
       "    x + y\n",
       "\\}\n",
       "\\end{minted}"
      ],
      "text/markdown": [
       "```r\n",
       "function (x, y) \n",
       "{\n",
       "    if (!is.numeric(x) | !is.numeric(y)) \n",
       "        stop(\"x and y must be numbers\")\n",
       "    x + y\n",
       "}\n",
       "```"
      ],
      "text/plain": [
       "function(x, y) {\n",
       "  if (!is.numeric(x) | !is.numeric(y)) stop(\"x and y must be numbers\")\n",
       "  x+y\n",
       "}"
      ]
     },
     "metadata": {},
     "output_type": "display_data"
    }
   ],
   "source": [
    "# Escreva aqui a resposta. A saída deve ser a mesma"
   ]
  },
  {
   "cell_type": "markdown",
   "metadata": {},
   "source": [
    "### Questão 6.7\n",
    "\n",
    "Crie um tibble chamado `dat` que contém 20 linhas e 3 colunas: `id` (inteiros entre 101 e 120), `pre` e `post` (ambos são vetores com 20 itens de números aleatórios de uma distribuição normal com média 1 e desvio padrão 0)."
   ]
  },
  {
   "cell_type": "code",
   "execution_count": 9,
   "metadata": {},
   "outputs": [
    {
     "data": {
      "text/html": [
       "<table>\n",
       "<caption>A tibble: 20 × 3</caption>\n",
       "<thead>\n",
       "\t<tr><th scope=col>id</th><th scope=col>pre</th><th scope=col>post</th></tr>\n",
       "\t<tr><th scope=col>&lt;int&gt;</th><th scope=col>&lt;dbl&gt;</th><th scope=col>&lt;dbl&gt;</th></tr>\n",
       "</thead>\n",
       "<tbody>\n",
       "\t<tr><td>101</td><td>-0.06159157</td><td> 0.6349890</td></tr>\n",
       "\t<tr><td>102</td><td>-0.11224129</td><td> 0.1053361</td></tr>\n",
       "\t<tr><td>103</td><td>-0.17784558</td><td> 0.3166159</td></tr>\n",
       "\t<tr><td>104</td><td> 0.26486380</td><td>-0.5169160</td></tr>\n",
       "\t<tr><td>105</td><td> 0.07640895</td><td> 0.8687133</td></tr>\n",
       "\t<tr><td>106</td><td> 0.19920396</td><td> 1.7785564</td></tr>\n",
       "\t<tr><td>107</td><td>-0.76979162</td><td> 0.6787633</td></tr>\n",
       "\t<tr><td>108</td><td>-2.12516492</td><td>-0.4937568</td></tr>\n",
       "\t<tr><td>109</td><td>-0.14772967</td><td> 3.0886328</td></tr>\n",
       "\t<tr><td>110</td><td>-0.54231824</td><td>-1.0076468</td></tr>\n",
       "\t<tr><td>111</td><td> 0.43365997</td><td> 0.1577288</td></tr>\n",
       "\t<tr><td>112</td><td>-0.86657159</td><td>-1.0679216</td></tr>\n",
       "\t<tr><td>113</td><td> 1.17303210</td><td>-0.8216082</td></tr>\n",
       "\t<tr><td>114</td><td>-2.45597422</td><td> 0.1742222</td></tr>\n",
       "\t<tr><td>115</td><td>-1.12016786</td><td>-1.5996908</td></tr>\n",
       "\t<tr><td>116</td><td>-0.32017442</td><td> 0.6344951</td></tr>\n",
       "\t<tr><td>117</td><td> 0.44552375</td><td>-1.6318219</td></tr>\n",
       "\t<tr><td>118</td><td> 0.35672892</td><td>-1.0985627</td></tr>\n",
       "\t<tr><td>119</td><td>-1.62021720</td><td>-0.6277831</td></tr>\n",
       "\t<tr><td>120</td><td>-0.60773536</td><td> 0.7526667</td></tr>\n",
       "</tbody>\n",
       "</table>\n"
      ],
      "text/latex": [
       "A tibble: 20 × 3\n",
       "\\begin{tabular}{lll}\n",
       " id & pre & post\\\\\n",
       " <int> & <dbl> & <dbl>\\\\\n",
       "\\hline\n",
       "\t 101 & -0.06159157 &  0.6349890\\\\\n",
       "\t 102 & -0.11224129 &  0.1053361\\\\\n",
       "\t 103 & -0.17784558 &  0.3166159\\\\\n",
       "\t 104 &  0.26486380 & -0.5169160\\\\\n",
       "\t 105 &  0.07640895 &  0.8687133\\\\\n",
       "\t 106 &  0.19920396 &  1.7785564\\\\\n",
       "\t 107 & -0.76979162 &  0.6787633\\\\\n",
       "\t 108 & -2.12516492 & -0.4937568\\\\\n",
       "\t 109 & -0.14772967 &  3.0886328\\\\\n",
       "\t 110 & -0.54231824 & -1.0076468\\\\\n",
       "\t 111 &  0.43365997 &  0.1577288\\\\\n",
       "\t 112 & -0.86657159 & -1.0679216\\\\\n",
       "\t 113 &  1.17303210 & -0.8216082\\\\\n",
       "\t 114 & -2.45597422 &  0.1742222\\\\\n",
       "\t 115 & -1.12016786 & -1.5996908\\\\\n",
       "\t 116 & -0.32017442 &  0.6344951\\\\\n",
       "\t 117 &  0.44552375 & -1.6318219\\\\\n",
       "\t 118 &  0.35672892 & -1.0985627\\\\\n",
       "\t 119 & -1.62021720 & -0.6277831\\\\\n",
       "\t 120 & -0.60773536 &  0.7526667\\\\\n",
       "\\end{tabular}\n"
      ],
      "text/markdown": [
       "\n",
       "A tibble: 20 × 3\n",
       "\n",
       "| id &lt;int&gt; | pre &lt;dbl&gt; | post &lt;dbl&gt; |\n",
       "|---|---|---|\n",
       "| 101 | -0.06159157 |  0.6349890 |\n",
       "| 102 | -0.11224129 |  0.1053361 |\n",
       "| 103 | -0.17784558 |  0.3166159 |\n",
       "| 104 |  0.26486380 | -0.5169160 |\n",
       "| 105 |  0.07640895 |  0.8687133 |\n",
       "| 106 |  0.19920396 |  1.7785564 |\n",
       "| 107 | -0.76979162 |  0.6787633 |\n",
       "| 108 | -2.12516492 | -0.4937568 |\n",
       "| 109 | -0.14772967 |  3.0886328 |\n",
       "| 110 | -0.54231824 | -1.0076468 |\n",
       "| 111 |  0.43365997 |  0.1577288 |\n",
       "| 112 | -0.86657159 | -1.0679216 |\n",
       "| 113 |  1.17303210 | -0.8216082 |\n",
       "| 114 | -2.45597422 |  0.1742222 |\n",
       "| 115 | -1.12016786 | -1.5996908 |\n",
       "| 116 | -0.32017442 |  0.6344951 |\n",
       "| 117 |  0.44552375 | -1.6318219 |\n",
       "| 118 |  0.35672892 | -1.0985627 |\n",
       "| 119 | -1.62021720 | -0.6277831 |\n",
       "| 120 | -0.60773536 |  0.7526667 |\n",
       "\n"
      ],
      "text/plain": [
       "   id  pre         post      \n",
       "1  101 -0.06159157  0.6349890\n",
       "2  102 -0.11224129  0.1053361\n",
       "3  103 -0.17784558  0.3166159\n",
       "4  104  0.26486380 -0.5169160\n",
       "5  105  0.07640895  0.8687133\n",
       "6  106  0.19920396  1.7785564\n",
       "7  107 -0.76979162  0.6787633\n",
       "8  108 -2.12516492 -0.4937568\n",
       "9  109 -0.14772967  3.0886328\n",
       "10 110 -0.54231824 -1.0076468\n",
       "11 111  0.43365997  0.1577288\n",
       "12 112 -0.86657159 -1.0679216\n",
       "13 113  1.17303210 -0.8216082\n",
       "14 114 -2.45597422  0.1742222\n",
       "15 115 -1.12016786 -1.5996908\n",
       "16 116 -0.32017442  0.6344951\n",
       "17 117  0.44552375 -1.6318219\n",
       "18 118  0.35672892 -1.0985627\n",
       "19 119 -1.62021720 -0.6277831\n",
       "20 120 -0.60773536  0.7526667"
      ]
     },
     "metadata": {},
     "output_type": "display_data"
    }
   ],
   "source": [
    "# Escreva aqui a resposta. A saída deve ser a mesma"
   ]
  },
  {
   "cell_type": "markdown",
   "metadata": {},
   "source": [
    "### Questão 6.8\n",
    "\n",
    "Faça um t-test de duas caudas com **amostras pareadas**, comparando `pre` e `post`. Dica: consulte a ajuda de `t.test`"
   ]
  },
  {
   "cell_type": "code",
   "execution_count": 10,
   "metadata": {},
   "outputs": [
    {
     "data": {
      "text/plain": [
       "\n",
       "\tPaired t-test\n",
       "\n",
       "data:  dat$post and dat$pre\n",
       "t = 1.3139, df = 19, p-value = 0.2045\n",
       "alternative hypothesis: true difference in means is not equal to 0\n",
       "95 percent confidence interval:\n",
       " -0.246168  1.076479\n",
       "sample estimates:\n",
       "mean of the differences \n",
       "              0.4151557 \n"
      ]
     },
     "metadata": {},
     "output_type": "display_data"
    }
   ],
   "source": [
    "# Escreva aqui a resposta. A saída deve ser a mesma"
   ]
  },
  {
   "cell_type": "markdown",
   "metadata": {},
   "source": [
    "### Questão 6.9\n",
    "\n",
    "Utilize a função `broom::tidy` para salvar os resultados do t-test da questão em uma tabela chamada `stats`."
   ]
  },
  {
   "cell_type": "code",
   "execution_count": 12,
   "metadata": {},
   "outputs": [
    {
     "data": {
      "text/html": [
       "<table>\n",
       "<caption>A tibble: 1 × 8</caption>\n",
       "<thead>\n",
       "\t<tr><th scope=col>estimate</th><th scope=col>statistic</th><th scope=col>p.value</th><th scope=col>parameter</th><th scope=col>conf.low</th><th scope=col>conf.high</th><th scope=col>method</th><th scope=col>alternative</th></tr>\n",
       "\t<tr><th scope=col>&lt;dbl&gt;</th><th scope=col>&lt;dbl&gt;</th><th scope=col>&lt;dbl&gt;</th><th scope=col>&lt;dbl&gt;</th><th scope=col>&lt;dbl&gt;</th><th scope=col>&lt;dbl&gt;</th><th scope=col>&lt;chr&gt;</th><th scope=col>&lt;chr&gt;</th></tr>\n",
       "</thead>\n",
       "<tbody>\n",
       "\t<tr><td>0.4151557</td><td>1.313927</td><td>0.2045149</td><td>19</td><td>-0.246168</td><td>1.076479</td><td>Paired t-test</td><td>two.sided</td></tr>\n",
       "</tbody>\n",
       "</table>\n"
      ],
      "text/latex": [
       "A tibble: 1 × 8\n",
       "\\begin{tabular}{llllllll}\n",
       " estimate & statistic & p.value & parameter & conf.low & conf.high & method & alternative\\\\\n",
       " <dbl> & <dbl> & <dbl> & <dbl> & <dbl> & <dbl> & <chr> & <chr>\\\\\n",
       "\\hline\n",
       "\t 0.4151557 & 1.313927 & 0.2045149 & 19 & -0.246168 & 1.076479 & Paired t-test & two.sided\\\\\n",
       "\\end{tabular}\n"
      ],
      "text/markdown": [
       "\n",
       "A tibble: 1 × 8\n",
       "\n",
       "| estimate &lt;dbl&gt; | statistic &lt;dbl&gt; | p.value &lt;dbl&gt; | parameter &lt;dbl&gt; | conf.low &lt;dbl&gt; | conf.high &lt;dbl&gt; | method &lt;chr&gt; | alternative &lt;chr&gt; |\n",
       "|---|---|---|---|---|---|---|---|\n",
       "| 0.4151557 | 1.313927 | 0.2045149 | 19 | -0.246168 | 1.076479 | Paired t-test | two.sided |\n",
       "\n"
      ],
      "text/plain": [
       "  estimate  statistic p.value   parameter conf.low  conf.high method       \n",
       "1 0.4151557 1.313927  0.2045149 19        -0.246168 1.076479  Paired t-test\n",
       "  alternative\n",
       "1 two.sided  "
      ]
     },
     "metadata": {},
     "output_type": "display_data"
    }
   ],
   "source": [
    "# Escreva aqui a resposta. A saída deve ser a mesma"
   ]
  },
  {
   "cell_type": "markdown",
   "metadata": {},
   "source": [
    "### Questão 6.10\n",
    "\n",
    "Crie uma função chamada `report_t` que recebe uma tabela como parâmetro e retorna o resultado de um t-test de duas caudas com amostras pareadas entre as colunas `pre` e `post` no seguinte formato: \"The mean increase from pre-test to post-test was #.###: t(#) = #.###, p = 0.###, 95% CI = \\[#.###, #.###\\].\" Dica: utilize a função `paste0` ou `sprintf`\n",
    "\n",
    "Assegure-se de que todos os números sejam reportados com três casas decimais.\n",
    "\n",
    "Teste a função no dataset `dat` fornecido."
   ]
  },
  {
   "cell_type": "code",
   "execution_count": 14,
   "metadata": {},
   "outputs": [
    {
     "data": {
      "text/html": [
       "'The mean increase from pre-test to post-test was 0.415: t(19) = 1.314, p = 0.205, 95% CI = [-0.246, 1.076].'"
      ],
      "text/latex": [
       "'The mean increase from pre-test to post-test was 0.415: t(19) = 1.314, p = 0.205, 95\\% CI = {[}-0.246, 1.076{]}.'"
      ],
      "text/markdown": [
       "'The mean increase from pre-test to post-test was 0.415: t(19) = 1.314, p = 0.205, 95% CI = [-0.246, 1.076].'"
      ],
      "text/plain": [
       "[1] \"The mean increase from pre-test to post-test was 0.415: t(19) = 1.314, p = 0.205, 95% CI = [-0.246, 1.076].\""
      ]
     },
     "metadata": {},
     "output_type": "display_data"
    }
   ],
   "source": [
    "# Escreva aqui a resposta. A saída deve ser a mesma"
   ]
  },
  {
   "cell_type": "code",
   "execution_count": null,
   "metadata": {},
   "outputs": [],
   "source": []
  }
 ],
 "metadata": {
  "kernelspec": {
   "display_name": "R",
   "language": "R",
   "name": "ir"
  },
  "language_info": {
   "codemirror_mode": "r",
   "file_extension": ".r",
   "mimetype": "text/x-r-source",
   "name": "R",
   "pygments_lexer": "r",
   "version": "3.6.2"
  }
 },
 "nbformat": 4,
 "nbformat_minor": 4
}
